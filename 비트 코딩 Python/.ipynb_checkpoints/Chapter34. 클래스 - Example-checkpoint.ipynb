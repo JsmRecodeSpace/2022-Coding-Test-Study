{
 "cells": [
  {
   "cell_type": "markdown",
   "id": "e53515b5",
   "metadata": {},
   "source": [
    " - 클래스는 객체를 정의한 것이고,\n",
    "   객체는 클래스에 정의된 내용대로 메모리에 생성한 실제 데이터를 의미한다.  \n",
    " - 클래스로부터 객체를 만드는 작업을 클래스의 인스턴스화라고 한다.  \n",
    "<br>\n",
    " - 파이썬에서 클래스를 정의할 때 class라는 키워드를 사용한다.  \n",
    "   클래스의 목적은 변수와 함수를 묶어서 하나의 새로운 객체(타입)으로 만드는 것이기 때문에,  \n",
    "   클래스에 변수나 함수를 포함시켜 정의할 수 있다.  \n",
    " - 보통 클래스에 정의되는 변수를 속성(attribute), 함수를 메소드(method)라고 부른다.  \n",
    "<br>\n",
    "\n",
    " - self는 자기 자신 객체를 가리키는 인자이다.  \n",
    "   클래스 내부에서 메소드를 정의할 때, 자기 자신의 정보를 사용하고 싶다면 함수의 입력인자로 self를 사용하면 된다.  \n",
    "   self는 특정한 값을 가지지 않고, 클래스 내부에서 자기 자신의 속성에 접근할 수 있도록 한다.\n",
    "<br>\n",
    "\n",
    " - 클래스의 객체는 'instance = Class()'와 같은 형식으로 생성할 수 있으며,  \n",
    "   객체가 가지고 있는 속성은 'instance.attribute'의 형식으로 접근한다.\n",
    "<br>\n",
    "\n",
    " - 생성자 __init__ : 객체를 생성할 때, 객체의 속성들을 초기화해준다.  \n",
    "   소멸자 __del__ : 객체를 삭제할 때 사용한다."
   ]
  },
  {
   "cell_type": "code",
   "execution_count": 6,
   "id": "db62422a",
   "metadata": {
    "ExecuteTime": {
     "end_time": "2022-02-21T06:17:07.247542Z",
     "start_time": "2022-02-21T06:17:07.232575Z"
    }
   },
   "outputs": [
    {
     "data": {
      "text/plain": [
       "'성민'"
      ]
     },
     "execution_count": 6,
     "metadata": {},
     "output_type": "execute_result"
    }
   ],
   "source": [
    "# problem 394\n",
    "class Person:\n",
    "    def __init__(self, name, workingFor):\n",
    "        self.name = name\n",
    "        self.workingFor = workingFor\n",
    "\n",
    "human_a = Person('성민', '컴퍼니')\n",
    "human_a.name"
   ]
  },
  {
   "cell_type": "code",
   "execution_count": 7,
   "id": "4d192ef0",
   "metadata": {
    "ExecuteTime": {
     "end_time": "2022-02-21T06:21:06.143295Z",
     "start_time": "2022-02-21T06:21:06.138308Z"
    }
   },
   "outputs": [],
   "source": [
    "# problem 395\n",
    "class Person:\n",
    "\n",
    "    workingStatus = 0\n",
    "    Atime = '0900'\n",
    "    workHour = 8\n",
    "    \n",
    "    def __init__(self, name, workingFor):    \n",
    "        self.name = name\n",
    "        self.workingFor = workingFor\n",
    "        "
   ]
  },
  {
   "cell_type": "code",
   "execution_count": 17,
   "id": "c401e9d0",
   "metadata": {
    "ExecuteTime": {
     "end_time": "2022-02-21T06:34:18.709942Z",
     "start_time": "2022-02-21T06:34:18.693981Z"
    }
   },
   "outputs": [
    {
     "name": "stdout",
     "output_type": "stream",
     "text": [
      "A 0\n",
      "A 1\n"
     ]
    }
   ],
   "source": [
    "# problem 395\n",
    "class Person:\n",
    "    \n",
    "    workingStatus = 0\n",
    "    Atime = '0900'\n",
    "    workHour = 8\n",
    "    \n",
    "    def __init__(self, name, workingFor, Atime, workHour):\n",
    "        self.name = name\n",
    "        self.workingFor = workingFor\n",
    "        self.Atime = Atime\n",
    "        self.workHour = workHour\n",
    "\n",
    "def isWorking(p, t):\n",
    "    AT = p.Atime\n",
    "    WH = p.workHour\n",
    "    if int(t) in range(int(AT), int(AT) + WH * 100):\n",
    "        p.workingStatus = 1\n",
    "    else:\n",
    "        p.workingStatus = 0\n",
    "    return p.workingStatus\n",
    "    \n",
    "\n",
    "a = Person('A', 'HQ', '0900', 8)\n",
    "print(a.name, a.workingStatus)\n",
    "isWorking(a, '1100')\n",
    "print(a.name, a.workingStatus)"
   ]
  },
  {
   "cell_type": "code",
   "execution_count": 22,
   "id": "d98a00b3",
   "metadata": {
    "ExecuteTime": {
     "end_time": "2022-02-21T06:41:08.237983Z",
     "start_time": "2022-02-21T06:41:08.228046Z"
    }
   },
   "outputs": [
    {
     "name": "stdout",
     "output_type": "stream",
     "text": [
      "덧셈:3\n",
      "뺄셈:0\n",
      "곱셈:1\n",
      "나눗셈:1\n"
     ]
    }
   ],
   "source": [
    "# problem 397\n",
    "class Calculator:\n",
    "    def __init__(self):\n",
    "        self.AddCount = 0\n",
    "        self.MinCount = 0\n",
    "        self.MulCount = 0\n",
    "        self.DivCount = 0\n",
    "        \n",
    "    def Add(self, num1, num2):\n",
    "        self.AddCount += 1\n",
    "        return num1 + num2\n",
    "    def Min(self, num1, num2):\n",
    "        self.MinCount += 1\n",
    "        return num1 - num2\n",
    "    def Mul(self, num1, num2):\n",
    "        self.MulCount += 1\n",
    "        return num1 * num2\n",
    "    def Div(self, num1, num2):\n",
    "        self.DivCount += 1\n",
    "        return num1 / num2\n",
    "    \n",
    "    def ShowCount(self):\n",
    "        print(f'덧셈:{self.AddCount}')\n",
    "        print(f'뺄셈:{self.MinCount}')\n",
    "        print(f'곱셈:{self.MulCount}')\n",
    "        print(f'나눗셈:{self.DivCount}')\n",
    "        \n",
    "        \n",
    "cal = Calculator()\n",
    "cal.Add(1, 2)\n",
    "cal.Add(1, 3)\n",
    "cal.Add(1, 4)\n",
    "cal.Mul(1, 4)\n",
    "cal.Div(1, 4)\n",
    "\n",
    "cal.ShowCount()"
   ]
  },
  {
   "cell_type": "code",
   "execution_count": null,
   "id": "532e5f8e",
   "metadata": {},
   "outputs": [],
   "source": []
  }
 ],
 "metadata": {
  "hide_input": false,
  "kernelspec": {
   "display_name": "Python 3 (ipykernel)",
   "language": "python",
   "name": "python3"
  },
  "language_info": {
   "codemirror_mode": {
    "name": "ipython",
    "version": 3
   },
   "file_extension": ".py",
   "mimetype": "text/x-python",
   "name": "python",
   "nbconvert_exporter": "python",
   "pygments_lexer": "ipython3",
   "version": "3.9.7"
  },
  "toc": {
   "base_numbering": 1,
   "nav_menu": {},
   "number_sections": true,
   "sideBar": true,
   "skip_h1_title": false,
   "title_cell": "Table of Contents",
   "title_sidebar": "Contents",
   "toc_cell": false,
   "toc_position": {},
   "toc_section_display": true,
   "toc_window_display": false
  },
  "varInspector": {
   "cols": {
    "lenName": 16,
    "lenType": 16,
    "lenVar": 40
   },
   "kernels_config": {
    "python": {
     "delete_cmd_postfix": "",
     "delete_cmd_prefix": "del ",
     "library": "var_list.py",
     "varRefreshCmd": "print(var_dic_list())"
    },
    "r": {
     "delete_cmd_postfix": ") ",
     "delete_cmd_prefix": "rm(",
     "library": "var_list.r",
     "varRefreshCmd": "cat(var_dic_list()) "
    }
   },
   "types_to_exclude": [
    "module",
    "function",
    "builtin_function_or_method",
    "instance",
    "_Feature"
   ],
   "window_display": false
  }
 },
 "nbformat": 4,
 "nbformat_minor": 5
}
