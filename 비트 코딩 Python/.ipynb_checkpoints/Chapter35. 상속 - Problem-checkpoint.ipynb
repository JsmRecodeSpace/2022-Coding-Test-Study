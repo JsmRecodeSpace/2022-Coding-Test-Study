{
 "cells": [
  {
   "cell_type": "markdown",
   "id": "3fc50825",
   "metadata": {},
   "source": [
    "#### problem 413"
   ]
  },
  {
   "cell_type": "code",
   "execution_count": 1,
   "id": "75743ac6",
   "metadata": {
    "ExecuteTime": {
     "end_time": "2022-03-10T04:58:57.973367Z",
     "start_time": "2022-03-10T04:58:57.951428Z"
    }
   },
   "outputs": [],
   "source": [
    "class A:\n",
    "    def __init__(self, num1, num2):\n",
    "        self.num1 = num1\n",
    "        self.num2 = num2\n",
    "    def sum(self):\n",
    "        return (self.num1 + self.num2)\n",
    "    \n",
    "class B(A):\n",
    "    def __init__(self, num1, num2, num3):\n",
    "        A.__init__(self, num1, num2)\n",
    "        self.num3 = num3\n",
    "    def sum(self):\n",
    "        return (self.num1 + self.num2 + self.num3)\n",
    "    "
   ]
  },
  {
   "cell_type": "markdown",
   "id": "558792bb",
   "metadata": {},
   "source": [
    "#### problem 414"
   ]
  },
  {
   "cell_type": "code",
   "execution_count": 3,
   "id": "65392049",
   "metadata": {
    "ExecuteTime": {
     "end_time": "2022-03-10T05:01:49.963698Z",
     "start_time": "2022-03-10T05:01:49.945013Z"
    }
   },
   "outputs": [],
   "source": [
    "from abc import *\n",
    "\n",
    "class A(metaclass = ABCMeta):\n",
    "    @abstractmethod\n",
    "    def fun1(self):\n",
    "        passs\n",
    "\n",
    "class B(A):\n",
    "    def __init__(self, num):\n",
    "        self.num = num\n",
    "        \n",
    "    def fun1(self):\n",
    "        print(self.num)\n",
    "        "
   ]
  },
  {
   "cell_type": "markdown",
   "id": "3609438a",
   "metadata": {},
   "source": [
    "#### problem 417"
   ]
  },
  {
   "cell_type": "code",
   "execution_count": 6,
   "id": "fea263ec",
   "metadata": {
    "ExecuteTime": {
     "end_time": "2022-03-10T05:11:08.002565Z",
     "start_time": "2022-03-10T05:11:07.993586Z"
    }
   },
   "outputs": [],
   "source": [
    "class Triangle:\n",
    "    def __init__(self, a, b, c):\n",
    "        self.a = a\n",
    "        self.b = b\n",
    "        self.c = c\n",
    "        \n",
    "    def info(self):\n",
    "        print('삼각형입니다')\n",
    "        \n",
    "class Equilateral(Triangle):\n",
    "    def __init__(self, a, b, c):\n",
    "        Triangle.__init__(self, a, b, c)\n",
    "        \n",
    "    def info(self):\n",
    "        print('정삼각형입니다')"
   ]
  },
  {
   "cell_type": "markdown",
   "id": "cfc49d0d",
   "metadata": {},
   "source": [
    "#### problem 418"
   ]
  },
  {
   "cell_type": "code",
   "execution_count": null,
   "id": "cdd71037",
   "metadata": {},
   "outputs": [],
   "source": [
    "class Student:\n",
    "    def __init__(self, name, age, school):\n",
    "        self.name = name\n",
    "        self.age = age\n",
    "        self.school = school\n",
    "        \n",
    "class Undergraduate(Student):\n",
    "    def __init__(self, name, age, school, grade):\n",
    "        Student.__init__(self, name, age, school)\n",
    "        self.grade = grade\n",
    "    \n",
    "    def aboutMe(self):\n",
    "        print(f'저의 이름은 {self.name}이고 나이는 {self.age}살, 다니는 학교는 {self.school}입니다. 평점은 {self.grade}입니다.')\n",
    "        \n"
   ]
  },
  {
   "cell_type": "markdown",
   "id": "303029f6",
   "metadata": {},
   "source": [
    "#### problem 421, 422"
   ]
  },
  {
   "cell_type": "code",
   "execution_count": 7,
   "id": "ee422375",
   "metadata": {
    "ExecuteTime": {
     "end_time": "2022-03-10T05:45:54.426862Z",
     "start_time": "2022-03-10T05:45:54.413897Z"
    }
   },
   "outputs": [],
   "source": [
    "class Car:\n",
    "    distance = 0\n",
    "    def __init__(self, minV, maxV):\n",
    "        self.minV = minV\n",
    "        self.maxV = maxV\n",
    "    def drive(self):\n",
    "        self.distance += maxV * 0.5\n",
    "        \n",
    "class SportCar(Car):\n",
    "    def __init__(self, minV, maxV, Zto100, rush):\n",
    "        Car.__init__(self, minV, maxV)\n",
    "        self.Zto100 = Zto100\n",
    "        self.rush = rush\n",
    "    def drive(self):\n",
    "        if self.rush == 1:\n",
    "            self.distance += maxV * 0.8\n",
    "        else:\n",
    "            self.distance += maxV * 0.5\n",
    "\n"
   ]
  },
  {
   "cell_type": "markdown",
   "id": "751a20a8",
   "metadata": {},
   "source": [
    "#### problem 423, 424"
   ]
  },
  {
   "cell_type": "code",
   "execution_count": 8,
   "id": "db10eba2",
   "metadata": {
    "ExecuteTime": {
     "end_time": "2022-03-10T06:16:35.384661Z",
     "start_time": "2022-03-10T06:16:35.371720Z"
    }
   },
   "outputs": [],
   "source": [
    "class Customer:\n",
    "    def __init__(self, name, balance):\n",
    "        self.name = name\n",
    "        self.balance = balance\n",
    "    \n",
    "    def withdraw(self, amount):\n",
    "        if self.balance < amount + 100:\n",
    "            print('Not availabel')\n",
    "        else:\n",
    "            self.balance -= (amount + 100)\n",
    "            return self.name, self.balance\n",
    "    \n",
    "    def deposit(self, amount):\n",
    "        self.balance += amount\n",
    "        return self.name, self.balance\n",
    "    \n",
    "    \n",
    "class VIP(Customer):\n",
    "    def withdraw(self, amount):\n",
    "        if self.balance < amount:\n",
    "            print('Not availabel')\n",
    "        else:\n",
    "            self.balance -= amount\n",
    "            return self.name, self.balance\n",
    "        \n",
    "    def deposit(self, amount):\n",
    "        self.balance += (amount + amount * 0.005)\n",
    "        return self.name, self.balance\n",
    "\n",
    "class Student(Customer):\n",
    "    def __init__(self, name, balance, minimum_balance):\n",
    "        Customer.__init__(self, name, balance)\n",
    "        self.minimum_balance = minimum_balance\n",
    "        \n",
    "    def withdraw(self, amount):\n",
    "        if self.balance - (amount + 100) < self.minimum_balance:\n",
    "            print('Not availabel')\n",
    "        else:\n",
    "            self.balance -= (amount + 100)\n",
    "            return self.name, self.balance    "
   ]
  },
  {
   "cell_type": "markdown",
   "id": "033ec9b6",
   "metadata": {},
   "source": [
    "#### problem 428, 429"
   ]
  },
  {
   "cell_type": "code",
   "execution_count": 11,
   "id": "2316b2ff",
   "metadata": {
    "ExecuteTime": {
     "end_time": "2022-03-10T06:31:51.072122Z",
     "start_time": "2022-03-10T06:31:51.058191Z"
    }
   },
   "outputs": [],
   "source": [
    "class Character:\n",
    "    import random\n",
    "    def __init__(self, nickname, Hp, Mp, ST, DX, IQ, LX):\n",
    "        self.nickname = nickname\n",
    "        self.Hp = Hp\n",
    "        self.Mp = Mp\n",
    "        self.ST = ST\n",
    "        self.DX = DX\n",
    "        self.IQ = IQ\n",
    "        self.LX = LX\n",
    "    \n",
    "    def acc(self):\n",
    "        return random.randrange(0.5 + 0.01 * self.LX, 1 + 0.01 * self.LX)\n",
    "    \n",
    "    def attack(self, character):\n",
    "        damage = (self.ST + self.DX + self.IQ) * self.acc\n",
    "        character.Hp -= damage\n",
    "        \n",
    "    def status(self):\n",
    "        if self.Hp <= 0:\n",
    "            print('Die')\n",
    "        else:\n",
    "            print(f'Hp:{self.Hp} , Mp:{self.Mp}')"
   ]
  },
  {
   "cell_type": "code",
   "execution_count": 13,
   "id": "d4268dca",
   "metadata": {
    "ExecuteTime": {
     "end_time": "2022-03-10T06:40:40.355378Z",
     "start_time": "2022-03-10T06:40:40.336408Z"
    }
   },
   "outputs": [],
   "source": [
    "class Warrior(Character):\n",
    "    \n",
    "    def attack(self, character):\n",
    "        damage = (self.ST * 4 + self.DX + self.IQ) * self.acc\n",
    "        character.Hp -= damage\n",
    "        \n",
    "    def skill(self, character):\n",
    "        if self.Mp >= 10:\n",
    "            damage = self.ST * 8 * self.acc\n",
    "            character.Hp -= damage\n",
    "            self.Mp -= 10\n",
    "        else:\n",
    "            print('No Mp')\n",
    "            \n",
    "class Archer(Character):\n",
    "\n",
    "    def acc(self):\n",
    "        return random.randrange(0.7 + 0.1 * self.LX, 1 + 0.1 * self.LX)\n",
    "    \n",
    "    def attack(self, character):\n",
    "        damage = (self.ST + self.DX * 2 + self.IQ) * self.acc\n",
    "        character.Hp -= damage\n",
    "        \n",
    "    def skill(self, character):\n",
    "        if self.Mp >= 30:\n",
    "            damage = self.DX * 4 * self.acc\n",
    "            character.Hp -= damage\n",
    "            self.Mp -= 30\n",
    "        else:\n",
    "            print('No Mp')\n",
    "            \n",
    "\n",
    "class Wizard(Character):\n",
    "\n",
    "    def acc(self):\n",
    "        return random.randrange(0.3 + 0.3 * self.LX, 1 + 0.3 * self.LX)\n",
    "    \n",
    "    def attack(self, character):\n",
    "        damage = (self.DX * 2 + self.IQ * 4) * self.acc\n",
    "        character.Hp -= damage\n",
    "        \n",
    "    def skill(self, character):\n",
    "        if self.Mp >= 50:\n",
    "            damage = self.IQ * 10 * self.acc\n",
    "            character.Hp -= damage\n",
    "            self.Mp -= 50 \n",
    "        else:\n",
    "            print('No Mp')"
   ]
  },
  {
   "cell_type": "code",
   "execution_count": null,
   "id": "70e2bb7b",
   "metadata": {},
   "outputs": [],
   "source": []
  },
  {
   "cell_type": "code",
   "execution_count": null,
   "id": "01806297",
   "metadata": {},
   "outputs": [],
   "source": []
  }
 ],
 "metadata": {
  "hide_input": false,
  "kernelspec": {
   "display_name": "Python 3 (ipykernel)",
   "language": "python",
   "name": "python3"
  },
  "language_info": {
   "codemirror_mode": {
    "name": "ipython",
    "version": 3
   },
   "file_extension": ".py",
   "mimetype": "text/x-python",
   "name": "python",
   "nbconvert_exporter": "python",
   "pygments_lexer": "ipython3",
   "version": "3.9.7"
  },
  "varInspector": {
   "cols": {
    "lenName": 16,
    "lenType": 16,
    "lenVar": 40
   },
   "kernels_config": {
    "python": {
     "delete_cmd_postfix": "",
     "delete_cmd_prefix": "del ",
     "library": "var_list.py",
     "varRefreshCmd": "print(var_dic_list())"
    },
    "r": {
     "delete_cmd_postfix": ") ",
     "delete_cmd_prefix": "rm(",
     "library": "var_list.r",
     "varRefreshCmd": "cat(var_dic_list()) "
    }
   },
   "types_to_exclude": [
    "module",
    "function",
    "builtin_function_or_method",
    "instance",
    "_Feature"
   ],
   "window_display": false
  }
 },
 "nbformat": 4,
 "nbformat_minor": 5
}
