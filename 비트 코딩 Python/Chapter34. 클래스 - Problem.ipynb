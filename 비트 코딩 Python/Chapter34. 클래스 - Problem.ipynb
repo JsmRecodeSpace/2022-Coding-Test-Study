{
 "cells": [
  {
   "cell_type": "markdown",
   "id": "f89d10cd",
   "metadata": {},
   "source": [
    "#### problem 398"
   ]
  },
  {
   "cell_type": "code",
   "execution_count": 13,
   "id": "009789d2",
   "metadata": {
    "ExecuteTime": {
     "end_time": "2022-03-04T03:37:59.289110Z",
     "start_time": "2022-03-04T03:37:59.281133Z"
    }
   },
   "outputs": [
    {
     "name": "stdout",
     "output_type": "stream",
     "text": [
      "6.0 3.897114317029974 7.1545440106270926\n",
      "직각삼각형입니다. 정삼각형입니다. 정삼각형 혹은 직각삼각형이 아닙니다.\n"
     ]
    }
   ],
   "source": [
    "class Triangle:\n",
    "    def __init__(self, a, b, c):\n",
    "        self.a = a\n",
    "        self.b = b\n",
    "        self.c = c\n",
    "    \n",
    "    def area(self):\n",
    "        s = (self.a + self.b + self.c) / 2\n",
    "        \n",
    "        return (s * (s - self.a) * (s - self.b) * (s - self.c)) ** 0.5\n",
    "    \n",
    "    def get(self):\n",
    "        A = self.a ** 2\n",
    "        B = self.b ** 2\n",
    "        C = self.c ** 2\n",
    "        if A == B and A == C:\n",
    "            return '정삼각형입니다.'\n",
    "        elif A+B==C or A+C==B or B+C==A:\n",
    "            return '직각삼각형입니다.'\n",
    "        else:\n",
    "            return '정삼각형 혹은 직각삼각형이 아닙니다.'\n",
    "\n",
    "                \n",
    "triangle01 = Triangle(3, 4, 5)\n",
    "triangle02 = Triangle(3, 3, 3)\n",
    "triangle03 = Triangle(3, 5, 5)\n",
    "\n",
    "print(triangle01.area(), triangle02.area(), triangle03.area())\n",
    "print(triangle01.get(), triangle02.get(), triangle03.get())"
   ]
  },
  {
   "cell_type": "markdown",
   "id": "35737e7b",
   "metadata": {},
   "source": [
    "#### problem 399"
   ]
  },
  {
   "cell_type": "code",
   "execution_count": 17,
   "id": "a4403ffa",
   "metadata": {
    "ExecuteTime": {
     "end_time": "2022-03-04T03:43:11.206747Z",
     "start_time": "2022-03-04T03:43:11.193948Z"
    }
   },
   "outputs": [
    {
     "name": "stdout",
     "output_type": "stream",
     "text": [
      "(1, 1)\n",
      "(5, 1)\n",
      "(5, 5)\n",
      "(10, 10)\n"
     ]
    }
   ],
   "source": [
    "class Point:\n",
    "    def __init__(self, x, y):\n",
    "        self.x = x\n",
    "        self.y = y\n",
    "    \n",
    "    def setx(self, x):\n",
    "        self.x = x\n",
    "    def sety(self, y):\n",
    "        self.y = y\n",
    "    \n",
    "    def get(self):\n",
    "        return (self.x, self.y)\n",
    "    \n",
    "    def move(self, dx, dy):\n",
    "        self.x += dx\n",
    "        self.y += dy\n",
    "\n",
    "point01 = Point(1, 1)\n",
    "print(point01.get())\n",
    "point01.setx(5)\n",
    "print(point01.get())\n",
    "point01.sety(5)\n",
    "print(point01.get())\n",
    "point01.move(5, 5)\n",
    "print(point01.get())"
   ]
  },
  {
   "cell_type": "markdown",
   "id": "f7327e07",
   "metadata": {},
   "source": [
    "#### problem 400"
   ]
  },
  {
   "cell_type": "code",
   "execution_count": 19,
   "id": "828e5667",
   "metadata": {
    "ExecuteTime": {
     "end_time": "2022-03-04T03:46:45.511435Z",
     "start_time": "2022-03-04T03:46:45.498383Z"
    }
   },
   "outputs": [
    {
     "data": {
      "text/plain": [
       "5.0"
      ]
     },
     "execution_count": 19,
     "metadata": {},
     "output_type": "execute_result"
    }
   ],
   "source": [
    "point01 = Point(0, 0)\n",
    "point02 = Point(3, 4)\n",
    "\n",
    "def dist(p1, p2):\n",
    "    return (abs(p1.x - p2.x) ** 2 + abs(p1.y - p2.y) ** 2) ** 0.5\n",
    "\n",
    "dist(point01, point02)"
   ]
  },
  {
   "cell_type": "code",
   "execution_count": 24,
   "id": "d57fc5ea",
   "metadata": {
    "ExecuteTime": {
     "end_time": "2022-03-04T03:50:52.812226Z",
     "start_time": "2022-03-04T03:50:52.799245Z"
    }
   },
   "outputs": [
    {
     "name": "stdout",
     "output_type": "stream",
     "text": [
      "5.0\n",
      "5.0\n"
     ]
    }
   ],
   "source": [
    "class Point:\n",
    "    def __init__(self, x, y):\n",
    "        self.x = x\n",
    "        self.y = y\n",
    "    \n",
    "    def setx(self, x):\n",
    "        self.x = x\n",
    "    def sety(self, y):\n",
    "        self.y = y\n",
    "    \n",
    "    def get(self):\n",
    "        return (self.x, self.y)\n",
    "    \n",
    "    def move(self, dx, dy):\n",
    "        self.x += dx\n",
    "        self.y += dy\n",
    "\n",
    "    def distance(self, p):\n",
    "        return (abs(self.x - p.x) ** 2 + abs(self.y - p.y) ** 2) ** 0.5\n",
    "    \n",
    "    \n",
    "print(Point(0, 0).distance(point02))\n",
    "point01 = Point(0, 0)\n",
    "print(point01.distance(point02))"
   ]
  },
  {
   "cell_type": "markdown",
   "id": "2ade4705",
   "metadata": {},
   "source": [
    "#### problem 401"
   ]
  },
  {
   "cell_type": "code",
   "execution_count": 28,
   "id": "892f8b93",
   "metadata": {
    "ExecuteTime": {
     "end_time": "2022-03-04T03:53:35.563921Z",
     "start_time": "2022-03-04T03:53:35.553923Z"
    }
   },
   "outputs": [
    {
     "data": {
      "text/plain": [
       "15"
      ]
     },
     "execution_count": 28,
     "metadata": {},
     "output_type": "execute_result"
    }
   ],
   "source": [
    "class Square:\n",
    "    def __init__(self, h, v):\n",
    "        self.h = h\n",
    "        self.v = v\n",
    "    \n",
    "    def area(self):\n",
    "        return self.h * self.v\n",
    "    \n",
    "square01 = Square(3, 5)\n",
    "square01.area()"
   ]
  },
  {
   "cell_type": "markdown",
   "id": "89844cf2",
   "metadata": {},
   "source": [
    "#### problem 402"
   ]
  },
  {
   "cell_type": "code",
   "execution_count": 29,
   "id": "08cc1b93",
   "metadata": {
    "ExecuteTime": {
     "end_time": "2022-03-04T03:59:12.219911Z",
     "start_time": "2022-03-04T03:59:12.202552Z"
    }
   },
   "outputs": [
    {
     "name": "stdout",
     "output_type": "stream",
     "text": [
      "이름 Seongmin, 나이: 26, 학교: KMU, 공부시간: 2\n"
     ]
    }
   ],
   "source": [
    "class Student:\n",
    "    def __init__(self, name, age):\n",
    "        self.university = 'KMU'\n",
    "        self.name = name\n",
    "        self.age = age\n",
    "        self.isStudying = True\n",
    "        self.studyHour = 0\n",
    "        \n",
    "    def study(self):\n",
    "        if self.isStudying:\n",
    "            self.studyHour += 1\n",
    "    \n",
    "    def hourofstudy(self):\n",
    "        print(f'{self.name} 현재 공부 시간: {self.studyHour}시간')\n",
    "       \n",
    "    # __str__(self)는 객체의 문자열을 리턴 하는 메소드이다.\n",
    "    def __str__(self):\n",
    "        sentence = f'이름 {self.name}, 나이: {self.age}, 학교: {self.university}, 공부시간: {self.studyHour}'\n",
    "        return sentence\n",
    "    \n",
    "student01 = Student('Seongmin', 26)\n",
    "student01.study()\n",
    "student01.study()\n",
    "print(student01)"
   ]
  },
  {
   "cell_type": "markdown",
   "id": "2997c8a2",
   "metadata": {},
   "source": [
    "#### problem 403"
   ]
  },
  {
   "cell_type": "code",
   "execution_count": 42,
   "id": "a6fc707e",
   "metadata": {
    "ExecuteTime": {
     "end_time": "2022-03-04T04:15:31.312119Z",
     "start_time": "2022-03-04T04:15:31.296160Z"
    }
   },
   "outputs": [
    {
     "data": {
      "text/plain": [
       "'반의 수학평균점수: 89.17, 반의 물리평균점수: 85.50, 반의 코딩평균점수: 90.17'"
      ]
     },
     "execution_count": 42,
     "metadata": {},
     "output_type": "execute_result"
    }
   ],
   "source": [
    "class Student:\n",
    "    def __init__(self, name, math_score, science_score, coding_score):\n",
    "        self.name = name\n",
    "        self.math = math_score\n",
    "        self.science = science_score\n",
    "        self.coding = coding_score\n",
    "        \n",
    "    def average(self):\n",
    "        return round((self.math + self.science + self.coding) / 3, 2)\n",
    "    \n",
    "student01 = Student('지수', 94, 93, 83)\n",
    "student02 = Student('해성', 78, 61, 93)\n",
    "student03 = Student('민수', 100, 89, 98)\n",
    "student04 = Student('혜린', 93, 87, 88)\n",
    "student05 = Student('우진', 82, 90, 84)\n",
    "student06 = Student('지현', 88, 93, 95)\n",
    "\n",
    "student_lst = [student01, student02, student03, student04, student05, student06]\n",
    "\n",
    "def classAverage(student_infos):\n",
    "    math_avg = science_avg = coding_avg = 0\n",
    "    for student_info in student_infos:\n",
    "        math_avg += student_info.math / len(student_infos)\n",
    "        science_avg += student_info.science / len(student_infos)\n",
    "        coding_avg += student_info.coding / len(student_infos)\n",
    "    return f'반의 수학평균점수: {math_avg:.2f}, 반의 물리평균점수: {science_avg:.2f}, 반의 코딩평균점수: {coding_avg:.2f}'\n",
    "\n",
    "\n",
    "classAverage(student_lst)"
   ]
  }
 ],
 "metadata": {
  "hide_input": false,
  "kernelspec": {
   "display_name": "Python 3 (ipykernel)",
   "language": "python",
   "name": "python3"
  },
  "language_info": {
   "codemirror_mode": {
    "name": "ipython",
    "version": 3
   },
   "file_extension": ".py",
   "mimetype": "text/x-python",
   "name": "python",
   "nbconvert_exporter": "python",
   "pygments_lexer": "ipython3",
   "version": "3.9.7"
  },
  "toc": {
   "base_numbering": 1,
   "nav_menu": {},
   "number_sections": false,
   "sideBar": true,
   "skip_h1_title": false,
   "title_cell": "Table of Contents",
   "title_sidebar": "Contents",
   "toc_cell": false,
   "toc_position": {},
   "toc_section_display": true,
   "toc_window_display": false
  },
  "varInspector": {
   "cols": {
    "lenName": 16,
    "lenType": 16,
    "lenVar": 40
   },
   "kernels_config": {
    "python": {
     "delete_cmd_postfix": "",
     "delete_cmd_prefix": "del ",
     "library": "var_list.py",
     "varRefreshCmd": "print(var_dic_list())"
    },
    "r": {
     "delete_cmd_postfix": ") ",
     "delete_cmd_prefix": "rm(",
     "library": "var_list.r",
     "varRefreshCmd": "cat(var_dic_list()) "
    }
   },
   "types_to_exclude": [
    "module",
    "function",
    "builtin_function_or_method",
    "instance",
    "_Feature"
   ],
   "window_display": false
  }
 },
 "nbformat": 4,
 "nbformat_minor": 5
}
