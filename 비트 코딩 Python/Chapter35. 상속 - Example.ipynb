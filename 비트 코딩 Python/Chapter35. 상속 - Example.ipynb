{
 "cells": [
  {
   "cell_type": "markdown",
   "id": "10b46462",
   "metadata": {},
   "source": [
    "## 상속\n",
    "\n",
    " - 상속이란 기존에 만들었던 프로그램의 기능을 그대로 상속받으면서 새로운 기능을 추가하는 것을 의미한다.\n",
    " \n",
    " - 파이썬에서 상속은 class subclass(superclass)와 같이 정의하려는 하위클래스 뒤의 괄호에 상위클래스의 이름을 넣어 이루어진다.  \n",
    "   이후, 하위클래스에서 상위클래스의 기능에 접근을 할 때에는 super라는 키워드를 통한다.\n",
    "   \n",
    " - 상속을 받은 하위클래스에서 생성자를 정의할 때, 상위클래스의 생성자를 활용하여 쉽게 정의할 수 있다.\n",
    " \n",
    " - 상속관계의 두 클래스에서 동일한 이름의 메소드를 작성하는 행위를 '오버라이딩'이라 한다.\n",
    "   \n",
    " - 클래스도 여러 개의 클래스를 상속받을 수 있다. 두 개의 클래스의 공통된 메소드를 호출하는 경우,  \n",
    "   자식클래스 선언시 먼저 언급한 부모클래스가 우선순위를 얻게 된다.\n",
    "   \n",
    "   "
   ]
  },
  {
   "cell_type": "markdown",
   "id": "70677818",
   "metadata": {},
   "source": [
    "#### Example 408"
   ]
  },
  {
   "cell_type": "code",
   "execution_count": 2,
   "id": "377a318e",
   "metadata": {
    "ExecuteTime": {
     "end_time": "2022-03-04T05:52:19.634962Z",
     "start_time": "2022-03-04T05:52:19.625987Z"
    }
   },
   "outputs": [
    {
     "name": "stdout",
     "output_type": "stream",
     "text": [
      "1 3\n",
      "2 4 6\n"
     ]
    }
   ],
   "source": [
    "class A:\n",
    "    def __init__(self, a):\n",
    "        self.valueA = a\n",
    "\n",
    "class B(A):\n",
    "    def __init__(self, a, b):\n",
    "        A.__init__(self, a)\n",
    "        self.valueB = b\n",
    "        \n",
    "class C(B):\n",
    "    def __init__(self, a, b, c):\n",
    "        B.__init__(self, a, b)\n",
    "        self.valueC = c\n",
    "        \n",
    "obj_B = B(1, 3)\n",
    "obj_C = C(2, 4, 6)\n",
    "print(obj_B.valueA, obj_B.valueB)\n",
    "print(obj_C.valueA, obj_C.valueB, obj_C.valueC)"
   ]
  },
  {
   "cell_type": "markdown",
   "id": "faaa9b38",
   "metadata": {},
   "source": [
    "#### Example 410"
   ]
  },
  {
   "cell_type": "code",
   "execution_count": 3,
   "id": "9f68e258",
   "metadata": {
    "ExecuteTime": {
     "end_time": "2022-03-04T05:58:51.048399Z",
     "start_time": "2022-03-04T05:58:51.042416Z"
    }
   },
   "outputs": [
    {
     "name": "stdout",
     "output_type": "stream",
     "text": [
      "D Completed\n",
      "C Completed\n",
      "B Completed\n",
      "A Completed\n"
     ]
    }
   ],
   "source": [
    "class A:\n",
    "    def do(self):\n",
    "        print('A Completed')\n",
    "        \n",
    "class B(A):\n",
    "    def do(self):\n",
    "        print('B Completed')\n",
    "        super().do()\n",
    "        \n",
    "class C(B):\n",
    "    def do(self):\n",
    "        print('C Completed')\n",
    "        super().do()\n",
    "        \n",
    "class D(C):\n",
    "    def do(self):\n",
    "        print('D Completed')\n",
    "        super().do()\n",
    "        \n",
    "d = D()\n",
    "d.do()"
   ]
  },
  {
   "cell_type": "markdown",
   "id": "2cfd74e2",
   "metadata": {},
   "source": [
    "## 추상클래스\n",
    "\n",
    " - 공통적인 특징들을 명시적으로 선언한 클래스를 추상클래스라고 한다.\n",
    " \n",
    " - 파이썬에서 추상클래스는 ABC(Abstract Base Class) 클래스를 통하여 사용되며,  \n",
    "   ABC 클래스는 명시적인 메소드를 선언하여 해당 클래스를 상속받는 서브클래스가 반드시 이들을 구현하도록 강제한다.\n",
    "   \n",
    " - 추상클래스의 정의는 from abc import * 모듈의 적용을 통해 이루어진다.  \n",
    "   추상 메소드 위에는 @abstractmethod를 붙여서 추상 메소드로 지정해야 한다.\n",
    " \n",
    " "
   ]
  },
  {
   "cell_type": "markdown",
   "id": "e7ea98ad",
   "metadata": {},
   "source": [
    "#### Example 411"
   ]
  },
  {
   "cell_type": "code",
   "execution_count": 5,
   "id": "f6155f35",
   "metadata": {
    "ExecuteTime": {
     "end_time": "2022-03-04T06:05:59.866666Z",
     "start_time": "2022-03-04T06:05:59.851102Z"
    }
   },
   "outputs": [
    {
     "name": "stdout",
     "output_type": "stream",
     "text": [
      "10시 등교\n",
      "3시 하교\n"
     ]
    }
   ],
   "source": [
    "from abc import *\n",
    "\n",
    "class StudentBase(metaclass=ABCMeta):\n",
    "    @abstractmethod\n",
    "    def gotoSchool(self):\n",
    "        pass\n",
    "    @abstractmethod\n",
    "    def returnHome(self):\n",
    "        pass\n",
    "    \n",
    "class Ele_Student(StudentBase):\n",
    "    def gotoSchool(self):\n",
    "        print('10시 등교')\n",
    "    def returnHome(self):\n",
    "        print('3시 하교')\n",
    "        \n",
    "        \n",
    "Dino = Ele_Student()\n",
    "Dino.gotoSchool()\n",
    "Dino.returnHome()"
   ]
  }
 ],
 "metadata": {
  "hide_input": false,
  "kernelspec": {
   "display_name": "Python 3 (ipykernel)",
   "language": "python",
   "name": "python3"
  },
  "language_info": {
   "codemirror_mode": {
    "name": "ipython",
    "version": 3
   },
   "file_extension": ".py",
   "mimetype": "text/x-python",
   "name": "python",
   "nbconvert_exporter": "python",
   "pygments_lexer": "ipython3",
   "version": "3.9.7"
  },
  "toc": {
   "base_numbering": 1,
   "nav_menu": {},
   "number_sections": false,
   "sideBar": true,
   "skip_h1_title": false,
   "title_cell": "Table of Contents",
   "title_sidebar": "Contents",
   "toc_cell": false,
   "toc_position": {
    "height": "calc(100% - 180px)",
    "left": "10px",
    "top": "150px",
    "width": "245.76px"
   },
   "toc_section_display": false,
   "toc_window_display": false
  },
  "varInspector": {
   "cols": {
    "lenName": 16,
    "lenType": 16,
    "lenVar": 40
   },
   "kernels_config": {
    "python": {
     "delete_cmd_postfix": "",
     "delete_cmd_prefix": "del ",
     "library": "var_list.py",
     "varRefreshCmd": "print(var_dic_list())"
    },
    "r": {
     "delete_cmd_postfix": ") ",
     "delete_cmd_prefix": "rm(",
     "library": "var_list.r",
     "varRefreshCmd": "cat(var_dic_list()) "
    }
   },
   "types_to_exclude": [
    "module",
    "function",
    "builtin_function_or_method",
    "instance",
    "_Feature"
   ],
   "window_display": false
  }
 },
 "nbformat": 4,
 "nbformat_minor": 5
}
