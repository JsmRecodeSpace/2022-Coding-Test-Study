{
 "cells": [
  {
   "cell_type": "markdown",
   "id": "9ca5a2f1",
   "metadata": {},
   "source": [
    "#### 1.보호소에서 중성화한 동물"
   ]
  },
  {
   "cell_type": "code",
   "execution_count": null,
   "id": "c65d6874",
   "metadata": {
    "ExecuteTime": {
     "end_time": "2022-04-16T04:31:17.522164Z",
     "start_time": "2022-04-16T04:31:17.514206Z"
    }
   },
   "outputs": [],
   "source": [
    "# 풀이1\n",
    "SELECT A.ANIMAL_ID, A.ANIMAL_TYPE, A.NAME\n",
    "FROM ANIMAL_INS A JOIN ANIMAL_OUTS B USING (ANIMAL_ID)\n",
    "WHERE A.SEX_UPON_INTAKE != B.SEX_UPON_OUTCOME\n",
    "ORDER BY A.ANIMAL_ID;"
   ]
  },
  {
   "cell_type": "markdown",
   "id": "c3937697",
   "metadata": {},
   "source": [
    "#### 2. 입양 시간 구하기(2)\n",
    " -  https://velog.io/@cyanred9/SQL-Recursive 참고하였음"
   ]
  },
  {
   "cell_type": "code",
   "execution_count": null,
   "id": "2b05487d",
   "metadata": {
    "ExecuteTime": {
     "end_time": "2022-04-16T04:31:17.841327Z",
     "start_time": "2022-04-16T04:31:17.827363Z"
    }
   },
   "outputs": [],
   "source": [
    "# 풀이1\n",
    "WITH RECURSIVE CTE AS ( # 재귀쿼리 세팅\n",
    "    SELECT 0 AS HOUR # 초기값 설정\n",
    "    UNION ALL # 위 쿼리와 아래 쿼리의 값을 연산\n",
    "    SELECT HOUR + 1 FROM CTE # 하나씩 불려 나감\n",
    "    WHERE HOUR < 23 # 반복을 멈추는 용도\n",
    ")\n",
    "\n",
    "SELECT CTE.HOUR, COUNT(HOUR(OUTS.DATETIME)) AS COUNT\n",
    "FROM CTE LEFT JOIN ANIMAL_OUTS AS OUTS ON CTE.HOUR = HOUR(OUTS.DATETIME)\n",
    "GROUP BY CTE.HOUR"
   ]
  },
  {
   "cell_type": "markdown",
   "id": "812f63c7",
   "metadata": {},
   "source": [
    "#### 3. 우유와 요거트가 담긴 장바구니"
   ]
  },
  {
   "cell_type": "code",
   "execution_count": null,
   "id": "b9a26ecf",
   "metadata": {},
   "outputs": [],
   "source": [
    "SELECT CART_ID\n",
    "FROM CART_PRODUCTS\n",
    "WHERE NAME IN ('Milk', 'Yogurt')\n",
    "GROUP BY CART_ID\n",
    "HAVING COUNT(DISTINCT NAME) = 2"
   ]
  }
 ],
 "metadata": {
  "hide_input": false,
  "kernelspec": {
   "display_name": "Python 3 (ipykernel)",
   "language": "python",
   "name": "python3"
  },
  "language_info": {
   "codemirror_mode": {
    "name": "ipython",
    "version": 3
   },
   "file_extension": ".py",
   "mimetype": "text/x-python",
   "name": "python",
   "nbconvert_exporter": "python",
   "pygments_lexer": "ipython3",
   "version": "3.9.7"
  },
  "varInspector": {
   "cols": {
    "lenName": 16,
    "lenType": 16,
    "lenVar": 40
   },
   "kernels_config": {
    "python": {
     "delete_cmd_postfix": "",
     "delete_cmd_prefix": "del ",
     "library": "var_list.py",
     "varRefreshCmd": "print(var_dic_list())"
    },
    "r": {
     "delete_cmd_postfix": ") ",
     "delete_cmd_prefix": "rm(",
     "library": "var_list.r",
     "varRefreshCmd": "cat(var_dic_list()) "
    }
   },
   "types_to_exclude": [
    "module",
    "function",
    "builtin_function_or_method",
    "instance",
    "_Feature"
   ],
   "window_display": false
  }
 },
 "nbformat": 4,
 "nbformat_minor": 5
}
