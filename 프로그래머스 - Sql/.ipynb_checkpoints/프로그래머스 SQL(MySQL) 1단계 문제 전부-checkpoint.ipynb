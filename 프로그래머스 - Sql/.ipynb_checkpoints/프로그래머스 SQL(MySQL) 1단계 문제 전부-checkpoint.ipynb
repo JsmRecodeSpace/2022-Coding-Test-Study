{
 "cells": [
  {
   "cell_type": "markdown",
   "id": "71b53721",
   "metadata": {},
   "source": [
    "#### 1단계 - 모든 레코드 조회하기"
   ]
  },
  {
   "cell_type": "code",
   "execution_count": null,
   "id": "e7c1ab37",
   "metadata": {},
   "outputs": [],
   "source": [
    "SELECT *\n",
    "FROM ANIMAL_INS\n",
    "ORDER BY ANIMAL_ID;"
   ]
  },
  {
   "cell_type": "markdown",
   "id": "7200efb2",
   "metadata": {},
   "source": [
    "#### 1단계 - 최댓값 구하기"
   ]
  },
  {
   "cell_type": "code",
   "execution_count": null,
   "id": "0ba2e06b",
   "metadata": {},
   "outputs": [],
   "source": [
    "# (1)\n",
    "SELECT DATETIME\n",
    "FROM ANIMAL_INS\n",
    "ORDER BY DATETIME DESC\n",
    "LIMIT 1;\n",
    "\n",
    "# (2)\n",
    "SELECT MAX(DATETIME)\n",
    "FROM ANIMAL_INS;"
   ]
  },
  {
   "cell_type": "markdown",
   "id": "f3de58b2",
   "metadata": {},
   "source": [
    "#### 1단계 - 역순 정렬하기"
   ]
  },
  {
   "cell_type": "code",
   "execution_count": null,
   "id": "be9e959e",
   "metadata": {},
   "outputs": [],
   "source": [
    "SELECT NAME, DATETIME\n",
    "FROM ANIMAL_INS\n",
    "ORDER BY ANIMAL_ID DESC;"
   ]
  },
  {
   "cell_type": "markdown",
   "id": "6085ee32",
   "metadata": {},
   "source": [
    "#### 1단계 - 이름이 없는 동물의 아이디"
   ]
  },
  {
   "cell_type": "code",
   "execution_count": null,
   "id": "afbf7c55",
   "metadata": {},
   "outputs": [],
   "source": [
    "SELECT ANIMAL_ID\n",
    "FROM ANIMAL_INS\n",
    "WHERE NAME IS NULL\n",
    "ORDER BY ANIMAL_ID;"
   ]
  },
  {
   "cell_type": "markdown",
   "id": "ad3ef15f",
   "metadata": {},
   "source": [
    "#### 1단계 - 이름이 있는 동물의 아이디"
   ]
  },
  {
   "cell_type": "code",
   "execution_count": null,
   "id": "1205665c",
   "metadata": {},
   "outputs": [],
   "source": [
    "SELECT ANIMAL_ID\n",
    "FROM ANIMAL_INS\n",
    "WHERE NAME IS NOT NULL\n",
    "ORDER BY ANIMAL_ID;"
   ]
  },
  {
   "cell_type": "markdown",
   "id": "ce10f932",
   "metadata": {},
   "source": [
    "#### 1단계 - 아픈 동물 찾기"
   ]
  },
  {
   "cell_type": "code",
   "execution_count": null,
   "id": "015b9784",
   "metadata": {},
   "outputs": [],
   "source": [
    "SELECT ANIMAL_ID, NAME\n",
    "FROM ANIMAL_INS\n",
    "WHERE INTAKE_CONDITION = \"Sick\"\n",
    "ORDER BY ANIMAL_ID;"
   ]
  },
  {
   "cell_type": "markdown",
   "id": "161598db",
   "metadata": {},
   "source": [
    "#### 1단계 - 어린 동물 찾기"
   ]
  },
  {
   "cell_type": "code",
   "execution_count": null,
   "id": "f229ddc2",
   "metadata": {},
   "outputs": [],
   "source": [
    "SELECT ANIMAL_ID, NAME\n",
    "FROM ANIMAL_INS\n",
    "WHERE INTAKE_CONDITION != \"Aged\"\n",
    "ORDER BY ANIMAL_ID;"
   ]
  },
  {
   "cell_type": "markdown",
   "id": "f6a0316c",
   "metadata": {},
   "source": [
    "#### 1단계 - 동물의 아이디와 이름"
   ]
  },
  {
   "cell_type": "code",
   "execution_count": null,
   "id": "4c9d9d45",
   "metadata": {},
   "outputs": [],
   "source": [
    "SELECT ANIMAL_ID, NAME\n",
    "FROM ANIMAL_INS\n",
    "ORDER BY ANIMAL_ID;"
   ]
  },
  {
   "cell_type": "markdown",
   "id": "cb7eac3a",
   "metadata": {},
   "source": [
    "#### 1단계 - 여러 기준으로 정렬하기"
   ]
  },
  {
   "cell_type": "code",
   "execution_count": null,
   "id": "e9523460",
   "metadata": {},
   "outputs": [],
   "source": [
    "SELECT ANIMAL_ID, NAME, DATETIME\n",
    "FROM ANIMAL_INS\n",
    "ORDER BY NAME, DATETIME DESC;"
   ]
  },
  {
   "cell_type": "markdown",
   "id": "ee1715a3",
   "metadata": {},
   "source": [
    "#### 1단계 - 상위 N개 레코드"
   ]
  },
  {
   "cell_type": "code",
   "execution_count": null,
   "id": "6f26db56",
   "metadata": {},
   "outputs": [],
   "source": [
    "SELECT NAME\n",
    "FROM ANIMAL_INS\n",
    "ORDER BY DATETIME\n",
    "LIMIT 1;"
   ]
  }
 ],
 "metadata": {
  "hide_input": false,
  "kernelspec": {
   "display_name": "Python 3 (ipykernel)",
   "language": "python",
   "name": "python3"
  },
  "language_info": {
   "codemirror_mode": {
    "name": "ipython",
    "version": 3
   },
   "file_extension": ".py",
   "mimetype": "text/x-python",
   "name": "python",
   "nbconvert_exporter": "python",
   "pygments_lexer": "ipython3",
   "version": "3.9.7"
  },
  "toc": {
   "base_numbering": 1,
   "nav_menu": {},
   "number_sections": true,
   "sideBar": true,
   "skip_h1_title": false,
   "title_cell": "Table of Contents",
   "title_sidebar": "Contents",
   "toc_cell": false,
   "toc_position": {},
   "toc_section_display": true,
   "toc_window_display": false
  },
  "varInspector": {
   "cols": {
    "lenName": 16,
    "lenType": 16,
    "lenVar": 40
   },
   "kernels_config": {
    "python": {
     "delete_cmd_postfix": "",
     "delete_cmd_prefix": "del ",
     "library": "var_list.py",
     "varRefreshCmd": "print(var_dic_list())"
    },
    "r": {
     "delete_cmd_postfix": ") ",
     "delete_cmd_prefix": "rm(",
     "library": "var_list.r",
     "varRefreshCmd": "cat(var_dic_list()) "
    }
   },
   "types_to_exclude": [
    "module",
    "function",
    "builtin_function_or_method",
    "instance",
    "_Feature"
   ],
   "window_display": false
  }
 },
 "nbformat": 4,
 "nbformat_minor": 5
}
