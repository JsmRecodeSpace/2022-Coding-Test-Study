{
 "cells": [
  {
   "cell_type": "markdown",
   "id": "9d0aa55a",
   "metadata": {},
   "source": [
    "#### 2단계 - 고양이와 개는 몇 마리 있을까?"
   ]
  },
  {
   "cell_type": "code",
   "execution_count": null,
   "id": "ca426810",
   "metadata": {},
   "outputs": [],
   "source": [
    "SELECT ANIMAL_TYPE, COUNT(ANIMAL_TYPE) as count\n",
    "FROM ANIMAL_INS\n",
    "WHERE ANIMAL_TYPE IN ('Cat', 'Dog')\n",
    "GROUP BY 1\n",
    "ORDER BY 1;"
   ]
  },
  {
   "cell_type": "markdown",
   "id": "cefae92a",
   "metadata": {},
   "source": [
    "#### 2단계 - 루시와 엘라 찾기"
   ]
  },
  {
   "cell_type": "code",
   "execution_count": null,
   "id": "f4c336bf",
   "metadata": {},
   "outputs": [],
   "source": [
    "SELECT ANIMAL_ID, NAME, SEX_UPON_INTAKE\n",
    "FROM ANIMAL_INS\n",
    "WHERE NAME IN ('Lucy', 'Ella', 'Pickle', 'Rogan', 'Sabrina', 'Mitty')\n",
    "ORDER BY ANIMAL_ID;"
   ]
  },
  {
   "cell_type": "markdown",
   "id": "5362fb47",
   "metadata": {},
   "source": [
    "#### 2단계 - 최솟값 구하기"
   ]
  },
  {
   "cell_type": "code",
   "execution_count": null,
   "id": "57776133",
   "metadata": {},
   "outputs": [],
   "source": [
    "SELECT MIN(DATETIME) as '시간'\n",
    "FROM ANIMAL_INS;"
   ]
  },
  {
   "cell_type": "markdown",
   "id": "7873a2ef",
   "metadata": {},
   "source": [
    "#### 2단계 - 동명 동물 수 찾기"
   ]
  },
  {
   "cell_type": "code",
   "execution_count": null,
   "id": "5988c71b",
   "metadata": {},
   "outputs": [],
   "source": [
    "SELECT NAME, COUNT(NAME) as 'COUNT'\n",
    "FROM ANIMAL_INS\n",
    "GROUP BY NAME\n",
    "HAVING COUNT(NAME) >= 2\n",
    "ORDER BY NAME;"
   ]
  },
  {
   "cell_type": "markdown",
   "id": "12ab98c9",
   "metadata": {},
   "source": [
    "#### 2단계 - 이름이 el이 들어가는 동물 찾기"
   ]
  },
  {
   "cell_type": "code",
   "execution_count": null,
   "id": "4f1cc5fb",
   "metadata": {},
   "outputs": [],
   "source": [
    "SELECT ANIMAL_ID, NAME\n",
    "FROM ANIMAL_INS\n",
    "WHERE ANIMAL_TYPE = 'Dog' AND UPPER(NAME) LIKE '%EL%'\n",
    "ORDER BY NAME;"
   ]
  },
  {
   "cell_type": "markdown",
   "id": "1ea1a01e",
   "metadata": {},
   "source": [
    "#### 2단계 - 동물 수 구하기"
   ]
  },
  {
   "cell_type": "code",
   "execution_count": null,
   "id": "cef44f20",
   "metadata": {},
   "outputs": [],
   "source": [
    "SELECT COUNT(ANIMAL_ID) as 'count'\n",
    "FROM ANIMAL_INS;"
   ]
  },
  {
   "cell_type": "markdown",
   "id": "d21d084b",
   "metadata": {},
   "source": [
    "#### 2단계 - 입양 시각 구하기(1)"
   ]
  },
  {
   "cell_type": "code",
   "execution_count": null,
   "id": "645ca88d",
   "metadata": {},
   "outputs": [],
   "source": [
    "SELECT HOUR(DATETIME) AS 'HOUR_', COUNT(ANIMAL_ID) AS 'COUNT'\n",
    "FROM ANIMAL_OUTS\n",
    "GROUP BY HOUR_\n",
    "HAVING HOUR_ >= 9 AND HOUR_ < 20\n",
    "ORDER BY HOUR_;"
   ]
  },
  {
   "cell_type": "markdown",
   "id": "c3a56ae8",
   "metadata": {},
   "source": [
    "#### 2단계 - NULL 처리하기"
   ]
  },
  {
   "cell_type": "code",
   "execution_count": null,
   "id": "7ae78f5f",
   "metadata": {},
   "outputs": [],
   "source": [
    "# 풀이1\n",
    "SELECT ANIMAL_TYPE, IFNULL(NAME, 'No name') as 'NAME', SEX_UPON_INTAKE\n",
    "FROM ANIMAL_INS\n",
    "ORDER BY ANIMAL_ID;"
   ]
  },
  {
   "cell_type": "code",
   "execution_count": null,
   "id": "85022e94",
   "metadata": {},
   "outputs": [],
   "source": [
    "# 풀이2\n",
    "SELECT ANIMAL_TYPE,\n",
    "    CASE\n",
    "        WHEN NAME IS NULL THEN 'No name'\n",
    "        ELSE NAME\n",
    "    END AS 'NAME',\n",
    "    SEX_UPON_INTAKE\n",
    "FROM ANIMAL_INS\n",
    "ORDER BY ANIMAL_ID;"
   ]
  },
  {
   "cell_type": "markdown",
   "id": "127c7dc5",
   "metadata": {},
   "source": [
    "#### 2단계 - 중성화 여부 파악하기, "
   ]
  },
  {
   "cell_type": "code",
   "execution_count": null,
   "id": "8b3e8317",
   "metadata": {
    "ExecuteTime": {
     "end_time": "2022-04-11T02:45:39.420256Z",
     "start_time": "2022-04-11T02:45:39.407315Z"
    }
   },
   "outputs": [],
   "source": [
    "# 내가 푼 방법\n",
    "SELECT ANIMAL_ID, NAME, \n",
    "    IF (SEX_UPON_INTAKE ='Neutered Male' OR SEX_UPON_INTAKE ='Spayed Female','O', 'X') AS '중성화'\n",
    "FROM ANIMAL_INS\n",
    "ORDER BY ANIMAL_ID;"
   ]
  },
  {
   "cell_type": "code",
   "execution_count": null,
   "id": "62a61fd5",
   "metadata": {
    "ExecuteTime": {
     "end_time": "2022-04-11T02:45:39.556476Z",
     "start_time": "2022-04-11T02:45:39.543487Z"
    }
   },
   "outputs": [],
   "source": [
    "# 풀이1\n",
    "SELECT ANIMAL_ID, NAME,\n",
    "    CASE WHEN\n",
    "    SEX_UPON_INTAKE LIKE 'Neutered%'\n",
    "    OR\n",
    "    SEX_UPON_INTAKE LIKE 'Spayed%'\n",
    "    THEN 'O'\n",
    "    ELSE 'X'\n",
    "    END AS '중성화'\n",
    "FROM ANIMAL_INS\n",
    "ORDER BY ANIMAL_ID ASC;"
   ]
  },
  {
   "cell_type": "code",
   "execution_count": null,
   "id": "8a70eb3b",
   "metadata": {
    "ExecuteTime": {
     "end_time": "2022-04-11T02:45:39.709188Z",
     "start_time": "2022-04-11T02:45:39.688925Z"
    }
   },
   "outputs": [],
   "source": [
    "# 풀이2\n",
    "SELECT ANIMAL_ID, NAME, if(SEX_UPON_INTAKE like 'Intact%', 'X', 'O') as '중성화'\n",
    "from ANIMAL_INS\n",
    "order by ANIMAL_ID"
   ]
  },
  {
   "cell_type": "code",
   "execution_count": null,
   "id": "0806d17a",
   "metadata": {},
   "outputs": [],
   "source": [
    "# 풀이3\n",
    "SELECT ANIMALID, NAME,\n",
    "CASE WHEN SEXUPONINTAKE LIKE '%Intact%' THEN 'X' ELSE 'O' END AS '중성화'\n",
    "FROM ANIMALINS\n",
    "ORDER BY ANIMAL_ID;"
   ]
  },
  {
   "cell_type": "markdown",
   "id": "d3bbb701",
   "metadata": {},
   "source": [
    "#### 2단계 - 중복제거하기"
   ]
  },
  {
   "cell_type": "code",
   "execution_count": null,
   "id": "3d69d42e",
   "metadata": {
    "ExecuteTime": {
     "end_time": "2022-04-11T03:09:31.708950Z",
     "start_time": "2022-04-11T03:09:31.699975Z"
    }
   },
   "outputs": [],
   "source": [
    "# 풀이1\n",
    "SELECT COUNT(DISTINCT(NAME))\n",
    "FROM ANIMAL_INS"
   ]
  },
  {
   "cell_type": "code",
   "execution_count": null,
   "id": "7a7907f7",
   "metadata": {
    "ExecuteTime": {
     "end_time": "2022-04-11T03:09:31.845357Z",
     "start_time": "2022-04-11T03:09:31.840347Z"
    }
   },
   "outputs": [],
   "source": [
    "# 풀이2\n",
    "SELECT COUNT(DISTINCT NAME) AS NAME_COUNT\n",
    "FROM ANIMAL_INS\n",
    "WHERE NAME IS NOT NULL"
   ]
  },
  {
   "cell_type": "markdown",
   "id": "d4754890",
   "metadata": {},
   "source": [
    "#### 2단계 - DATETIME에서 DATE로 형 변환"
   ]
  },
  {
   "cell_type": "code",
   "execution_count": null,
   "id": "ea1cc75c",
   "metadata": {
    "ExecuteTime": {
     "end_time": "2022-04-11T03:09:32.103644Z",
     "start_time": "2022-04-11T03:09:32.094670Z"
    }
   },
   "outputs": [],
   "source": [
    "# 풀이1\n",
    "SELECT ANIMAL_ID, NAME, DATE_FORMAT(DATETIME, '%Y-%m-%d')\n",
    "FROM ANIMAL_INS\n",
    "ORDER BY ANIMAL_ID ASC;"
   ]
  },
  {
   "cell_type": "code",
   "execution_count": null,
   "id": "cf0a90ae",
   "metadata": {
    "ExecuteTime": {
     "end_time": "2022-04-11T03:09:32.223983Z",
     "start_time": "2022-04-11T03:09:32.216968Z"
    }
   },
   "outputs": [],
   "source": [
    "# 풀이2\n",
    "SELECT ANIMAL_ID, NAME, LEFT(DATETIME, 10)\n",
    "FROM ANIMAL_INS\n",
    "ORDER BY ANIMAL_ID;"
   ]
  },
  {
   "cell_type": "code",
   "execution_count": null,
   "id": "2cbfd5b7",
   "metadata": {},
   "outputs": [],
   "source": []
  }
 ],
 "metadata": {
  "hide_input": false,
  "kernelspec": {
   "display_name": "Python 3 (ipykernel)",
   "language": "python",
   "name": "python3"
  },
  "language_info": {
   "codemirror_mode": {
    "name": "ipython",
    "version": 3
   },
   "file_extension": ".py",
   "mimetype": "text/x-python",
   "name": "python",
   "nbconvert_exporter": "python",
   "pygments_lexer": "ipython3",
   "version": "3.9.7"
  },
  "varInspector": {
   "cols": {
    "lenName": 16,
    "lenType": 16,
    "lenVar": 40
   },
   "kernels_config": {
    "python": {
     "delete_cmd_postfix": "",
     "delete_cmd_prefix": "del ",
     "library": "var_list.py",
     "varRefreshCmd": "print(var_dic_list())"
    },
    "r": {
     "delete_cmd_postfix": ") ",
     "delete_cmd_prefix": "rm(",
     "library": "var_list.r",
     "varRefreshCmd": "cat(var_dic_list()) "
    }
   },
   "types_to_exclude": [
    "module",
    "function",
    "builtin_function_or_method",
    "instance",
    "_Feature"
   ],
   "window_display": false
  }
 },
 "nbformat": 4,
 "nbformat_minor": 5
}
