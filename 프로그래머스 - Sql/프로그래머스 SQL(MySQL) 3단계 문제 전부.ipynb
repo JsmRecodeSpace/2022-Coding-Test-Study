{
 "cells": [
  {
   "cell_type": "markdown",
   "id": "de9f5654",
   "metadata": {},
   "source": [
    "#### 1. 없어진 기록 찾기"
   ]
  },
  {
   "cell_type": "code",
   "execution_count": null,
   "id": "2b09c881",
   "metadata": {},
   "outputs": [],
   "source": [
    "# 풀이1\n",
    "SELECT B.ANIMAL_ID, B.NAME\n",
    "FROM ANIMAL_INS A RIGHT JOIN ANIMAL_OUTS B ON A.ANIMAL_ID = B.ANIMAL_ID\n",
    "WHERE A.ANIMAL_ID IS NULL\n",
    "ORDER BY B.ANIMAL_ID ASC;"
   ]
  },
  {
   "cell_type": "code",
   "execution_count": null,
   "id": "cf94b971",
   "metadata": {},
   "outputs": [],
   "source": [
    "# 풀이2\n",
    "SELECT ANIMAL_ID, NAME\n",
    "FROM ANIMAL_OUTS\n",
    "WHERE ANIMAL_ID NOT IN (\n",
    "    SELECT ANIMAL_ID\n",
    "    FROM ANIMAL_INS\n",
    ")\n",
    "ORDER BY ANIMAL_ID ASC;"
   ]
  },
  {
   "cell_type": "markdown",
   "id": "7c9c3fa0",
   "metadata": {},
   "source": [
    "#### 2. 있었는데요 없었습니다"
   ]
  },
  {
   "cell_type": "code",
   "execution_count": null,
   "id": "00db2cdc",
   "metadata": {},
   "outputs": [],
   "source": [
    "# 풀이1\n",
    "SELECT B.ANIMAL_ID, B.NAME\n",
    "FROM ANIMAL_INS A RIGHT JOIN ANIMAL_OUTS B ON (A.ANIMAL_ID = B.ANIMAL_ID)\n",
    "WHERE A.DATETIME > B.DATETIME\n",
    "ORDER BY A.DATETIME ASC;"
   ]
  },
  {
   "cell_type": "code",
   "execution_count": null,
   "id": "a4cae90b",
   "metadata": {},
   "outputs": [],
   "source": [
    "# 풀이2\n",
    "SELECT I.animal_id, O.name\n",
    "FROM animal_ins I\n",
    "JOIN animal_outs O USING (animal_id)\n",
    "WHERE I.datetime > O.datetime\n",
    "ORDER BY I.datetime;"
   ]
  },
  {
   "cell_type": "markdown",
   "id": "32447fa4",
   "metadata": {},
   "source": [
    "#### 3. 오랜 기간 보호한 동물(1)"
   ]
  },
  {
   "cell_type": "code",
   "execution_count": null,
   "id": "fd2bb7d2",
   "metadata": {},
   "outputs": [],
   "source": [
    "# 풀이 1\n",
    "# JOIN시 NULL인 것은 없어져서 LEFT JOIN으로 NULL이어도 붙도록 하여서 NULL인 것들 조회\n",
    "SELECT A.NAME, A.DATETIME\n",
    "FROM ANIMAL_INS A LEFT JOIN ANIMAL_OUTS B USING (ANIMAL_ID)\n",
    "WHERE B.DATETIME IS NULL\n",
    "ORDER BY A.DATETIME\n",
    "LIMIT 3;"
   ]
  },
  {
   "cell_type": "code",
   "execution_count": null,
   "id": "486905c5",
   "metadata": {},
   "outputs": [],
   "source": [
    "# 풀이2\n",
    "SELECT NAME, DATETIME\n",
    "FROM ANIMAL_INS\n",
    "WHERE ANIMAL_ID NOT IN (SELECT ANIMAL_ID FROM ANIMAL_OUTS)\n",
    "ORDER BY DATETIME\n",
    "LIMIT 3;"
   ]
  },
  {
   "cell_type": "markdown",
   "id": "e496b6e8",
   "metadata": {},
   "source": [
    "#### 4. 오랜 기간 보호한 동물(2)"
   ]
  },
  {
   "cell_type": "code",
   "execution_count": null,
   "id": "368ed347",
   "metadata": {},
   "outputs": [],
   "source": [
    "# 풀이1\n",
    "SELECT B.ANIMAL_ID, B.NAME\n",
    "FROM ANIMAL_INS A JOIN ANIMAL_OUTS B USING (ANIMAL_ID)\n",
    "ORDER BY (B.DATETIME - A.DATETIME) DESC\n",
    "LIMIT 2;"
   ]
  },
  {
   "cell_type": "markdown",
   "id": "1ab5a896",
   "metadata": {},
   "source": [
    "#### 5. 헤비 유저가 소유한 장소"
   ]
  },
  {
   "cell_type": "code",
   "execution_count": null,
   "id": "97a6bf7c",
   "metadata": {},
   "outputs": [],
   "source": [
    "# 풀이1\n",
    "SELECT ID, NAME, HOST_ID\n",
    "FROM PLACES\n",
    "WHERE HOST_ID IN (\n",
    "    SELECT HOST_ID\n",
    "    FROM PLACES\n",
    "    GROUP BY HOST_ID\n",
    "    HAVING COUNT(ID) >= 2\n",
    ")\n",
    "ORDER BY ID ASC;"
   ]
  }
 ],
 "metadata": {
  "hide_input": false,
  "kernelspec": {
   "display_name": "Python 3 (ipykernel)",
   "language": "python",
   "name": "python3"
  },
  "language_info": {
   "codemirror_mode": {
    "name": "ipython",
    "version": 3
   },
   "file_extension": ".py",
   "mimetype": "text/x-python",
   "name": "python",
   "nbconvert_exporter": "python",
   "pygments_lexer": "ipython3",
   "version": "3.9.7"
  },
  "varInspector": {
   "cols": {
    "lenName": 16,
    "lenType": 16,
    "lenVar": 40
   },
   "kernels_config": {
    "python": {
     "delete_cmd_postfix": "",
     "delete_cmd_prefix": "del ",
     "library": "var_list.py",
     "varRefreshCmd": "print(var_dic_list())"
    },
    "r": {
     "delete_cmd_postfix": ") ",
     "delete_cmd_prefix": "rm(",
     "library": "var_list.r",
     "varRefreshCmd": "cat(var_dic_list()) "
    }
   },
   "types_to_exclude": [
    "module",
    "function",
    "builtin_function_or_method",
    "instance",
    "_Feature"
   ],
   "window_display": false
  }
 },
 "nbformat": 4,
 "nbformat_minor": 5
}
