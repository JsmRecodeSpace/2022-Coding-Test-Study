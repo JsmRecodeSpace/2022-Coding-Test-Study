{
 "cells": [
  {
   "cell_type": "markdown",
   "id": "de9f5654",
   "metadata": {},
   "source": [
    "#### 1. 없어진 기록 찾기"
   ]
  },
  {
   "cell_type": "code",
   "execution_count": null,
   "id": "2b09c881",
   "metadata": {},
   "outputs": [],
   "source": [
    "# 풀이1\n",
    "SELECT B.ANIMAL_ID, B.NAME\n",
    "FROM ANIMAL_INS A RIGHT JOIN ANIMAL_OUTS B ON A.ANIMAL_ID = B.ANIMAL_ID\n",
    "WHERE A.ANIMAL_ID IS NULL\n",
    "ORDER BY B.ANIMAL_ID ASC;"
   ]
  },
  {
   "cell_type": "code",
   "execution_count": null,
   "id": "cf94b971",
   "metadata": {},
   "outputs": [],
   "source": [
    "# 풀이2\n",
    "SELECT ANIMAL_ID, NAME\n",
    "FROM ANIMAL_OUTS\n",
    "WHERE ANIMAL_ID NOT IN (\n",
    "    SELECT ANIMAL_ID\n",
    "    FROM ANIMAL_INS\n",
    ")\n",
    "ORDER BY ANIMAL_ID ASC;"
   ]
  },
  {
   "cell_type": "code",
   "execution_count": null,
   "id": "a4cae90b",
   "metadata": {},
   "outputs": [],
   "source": []
  },
  {
   "cell_type": "code",
   "execution_count": null,
   "id": "368ed347",
   "metadata": {},
   "outputs": [],
   "source": []
  },
  {
   "cell_type": "code",
   "execution_count": null,
   "id": "97a6bf7c",
   "metadata": {},
   "outputs": [],
   "source": []
  },
  {
   "cell_type": "code",
   "execution_count": null,
   "id": "6c3c4c0d",
   "metadata": {},
   "outputs": [],
   "source": []
  },
  {
   "cell_type": "code",
   "execution_count": null,
   "id": "9e8fde1e",
   "metadata": {},
   "outputs": [],
   "source": []
  }
 ],
 "metadata": {
  "hide_input": false,
  "kernelspec": {
   "display_name": "Python 3 (ipykernel)",
   "language": "python",
   "name": "python3"
  },
  "language_info": {
   "codemirror_mode": {
    "name": "ipython",
    "version": 3
   },
   "file_extension": ".py",
   "mimetype": "text/x-python",
   "name": "python",
   "nbconvert_exporter": "python",
   "pygments_lexer": "ipython3",
   "version": "3.9.7"
  },
  "varInspector": {
   "cols": {
    "lenName": 16,
    "lenType": 16,
    "lenVar": 40
   },
   "kernels_config": {
    "python": {
     "delete_cmd_postfix": "",
     "delete_cmd_prefix": "del ",
     "library": "var_list.py",
     "varRefreshCmd": "print(var_dic_list())"
    },
    "r": {
     "delete_cmd_postfix": ") ",
     "delete_cmd_prefix": "rm(",
     "library": "var_list.r",
     "varRefreshCmd": "cat(var_dic_list()) "
    }
   },
   "types_to_exclude": [
    "module",
    "function",
    "builtin_function_or_method",
    "instance",
    "_Feature"
   ],
   "window_display": false
  }
 },
 "nbformat": 4,
 "nbformat_minor": 5
}
