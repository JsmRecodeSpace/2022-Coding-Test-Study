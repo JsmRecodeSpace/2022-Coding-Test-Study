{
 "cells": [
  {
   "cell_type": "markdown",
   "id": "05f3a4b6",
   "metadata": {},
   "source": [
    "#### 1. 큰 수 만들기"
   ]
  },
  {
   "cell_type": "code",
   "execution_count": 1,
   "id": "7a5535b2",
   "metadata": {
    "ExecuteTime": {
     "end_time": "2022-04-13T09:18:13.093602Z",
     "start_time": "2022-04-13T09:18:13.086612Z"
    }
   },
   "outputs": [],
   "source": [
    "# 내 풀이\n",
    "def solution(number, k):\n",
    "    collected = []\n",
    "    for i, num in enumerate(number):\n",
    "        if k == 0:\n",
    "            collected += number[i:]\n",
    "            break\n",
    "        while k > 0 and len(collected) > 0 and collected[-1] < num:\n",
    "            collected.pop()\n",
    "            k -= 1\n",
    "        if len(collected) == len(number) - 1 and k > 0:\n",
    "            return number[:-k]\n",
    "        collected.append(num)\n",
    "        \n",
    "    return ''.join(collected)"
   ]
  },
  {
   "cell_type": "code",
   "execution_count": 2,
   "id": "9ef3083c",
   "metadata": {
    "ExecuteTime": {
     "end_time": "2022-04-13T09:18:13.229754Z",
     "start_time": "2022-04-13T09:18:13.219776Z"
    }
   },
   "outputs": [],
   "source": [
    "# 남의 풀이\n",
    "def solution(number, k):\n",
    "    collected = [ ]\n",
    "    for i, num in enumerate(number):\n",
    "        while len(collected) > 0 and collected[-1] < num and k > 0:\n",
    "            collected.pop()\n",
    "            k -= 1\n",
    "        if k == 0:\n",
    "            collected += list(number[i:])\n",
    "            break\n",
    "        collected.append(num)\n",
    "\n",
    "    collected = collected[:-k] if k > 0 else collected\n",
    "    answer = ''.join(collected)\n",
    "    return answer"
   ]
  },
  {
   "cell_type": "markdown",
   "id": "70303a42",
   "metadata": {},
   "source": [
    "#### 2단계 - 구명보트"
   ]
  },
  {
   "cell_type": "markdown",
   "id": "0ffb8bff",
   "metadata": {},
   "source": [
    " - pop(0)은 뒤에서부터 모두 지워나가서 첫번째 값은 얻어오는 연산이라서 인덱스를 활용한 연산이 더 빠르다"
   ]
  },
  {
   "cell_type": "code",
   "execution_count": 3,
   "id": "2b420268",
   "metadata": {
    "ExecuteTime": {
     "end_time": "2022-04-13T09:18:14.478290Z",
     "start_time": "2022-04-13T09:18:14.465330Z"
    }
   },
   "outputs": [],
   "source": [
    "def solution(people, limit):\n",
    "    \n",
    "    answer = 0\n",
    "    people.sort()\n",
    "    left = 0\n",
    "    right = len(people) - 1\n",
    "    while left < right:\n",
    "        if people[left] + people[right] <= limit:\n",
    "            left += 1\n",
    "            right -= 1\n",
    "        else:\n",
    "            right -= 1\n",
    "        answer += 1\n",
    "    if left == right:\n",
    "        answer += 1\n",
    "    return answer"
   ]
  },
  {
   "cell_type": "code",
   "execution_count": 4,
   "id": "4e52d9fc",
   "metadata": {
    "ExecuteTime": {
     "end_time": "2022-04-13T09:18:14.865696Z",
     "start_time": "2022-04-13T09:18:14.856720Z"
    }
   },
   "outputs": [],
   "source": [
    "# 다른풀이 1\n",
    "def solution(people, limit) :\n",
    "    answer = 0\n",
    "    people.sort()\n",
    "\n",
    "    a = 0\n",
    "    b = len(people) - 1\n",
    "    while a < b :\n",
    "        if people[b] + people[a] <= limit :\n",
    "            a += 1\n",
    "            answer += 1\n",
    "        b -= 1\n",
    "    return len(people) - answer"
   ]
  }
 ],
 "metadata": {
  "hide_input": false,
  "kernelspec": {
   "display_name": "Python 3 (ipykernel)",
   "language": "python",
   "name": "python3"
  },
  "language_info": {
   "codemirror_mode": {
    "name": "ipython",
    "version": 3
   },
   "file_extension": ".py",
   "mimetype": "text/x-python",
   "name": "python",
   "nbconvert_exporter": "python",
   "pygments_lexer": "ipython3",
   "version": "3.9.7"
  },
  "varInspector": {
   "cols": {
    "lenName": 16,
    "lenType": 16,
    "lenVar": 40
   },
   "kernels_config": {
    "python": {
     "delete_cmd_postfix": "",
     "delete_cmd_prefix": "del ",
     "library": "var_list.py",
     "varRefreshCmd": "print(var_dic_list())"
    },
    "r": {
     "delete_cmd_postfix": ") ",
     "delete_cmd_prefix": "rm(",
     "library": "var_list.r",
     "varRefreshCmd": "cat(var_dic_list()) "
    }
   },
   "types_to_exclude": [
    "module",
    "function",
    "builtin_function_or_method",
    "instance",
    "_Feature"
   ],
   "window_display": false
  }
 },
 "nbformat": 4,
 "nbformat_minor": 5
}
