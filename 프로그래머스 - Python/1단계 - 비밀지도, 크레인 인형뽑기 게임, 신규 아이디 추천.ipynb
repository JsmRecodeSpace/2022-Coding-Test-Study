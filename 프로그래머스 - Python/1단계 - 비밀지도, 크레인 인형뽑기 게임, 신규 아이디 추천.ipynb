{
 "cells": [
  {
   "cell_type": "markdown",
   "id": "a4c81e34",
   "metadata": {},
   "source": [
    "#### 1단계 - [1차] 비밀지도\n",
    "    "
   ]
  },
  {
   "cell_type": "code",
   "execution_count": 1,
   "id": "fb63400b",
   "metadata": {
    "ExecuteTime": {
     "end_time": "2022-03-07T05:29:37.156666Z",
     "start_time": "2022-03-07T05:29:37.147715Z"
    }
   },
   "outputs": [],
   "source": [
    "def solution(n, arr1, arr2):\n",
    "    \n",
    "    # 배열의 숫자를 2진수로 바꿈\n",
    "    arr1_binlst = [bin(num).split('b')[1].rjust(n, '0') for num in arr1]\n",
    "    arr2_binlst = [bin(num).split('b')[1].rjust(n, '0') for num in arr2]\n",
    "    \n",
    "    # 두 lst에서 1이면 벽('#')을 아니면 공백(' ')을 담도록 반복\n",
    "    code_lst = []\n",
    "    for num1, num2 in zip(arr1_binlst, arr2_binlst):\n",
    "        code = ''\n",
    "        for i in range(n):\n",
    "            if num1[i] == '1' or num2[i] == '1': code +='#'\n",
    "            else: code += ' '\n",
    "        code_lst.append(code)\n",
    "        \n",
    "    return code_lst"
   ]
  },
  {
   "cell_type": "markdown",
   "id": "6f93ff0c",
   "metadata": {},
   "source": [
    "#### 1단계 - 크레인 인형뽑기 게임"
   ]
  },
  {
   "cell_type": "code",
   "execution_count": 2,
   "id": "5ae77d76",
   "metadata": {
    "ExecuteTime": {
     "end_time": "2022-03-07T05:29:37.171626Z",
     "start_time": "2022-03-07T05:29:37.160655Z"
    }
   },
   "outputs": [],
   "source": [
    "def solution(board, moves):\n",
    "    # [0, 0, 0, 0, 0]\n",
    "    # [0, 0, 1, 0, 3]\n",
    "    # [0, 2, 5, 0, 1]\n",
    "    # [4, 2, 4, 4, 2]\n",
    "    # [3, 5, 1, 3, 1]  (5 by 5)\n",
    "    \n",
    "    basket = []; answer_count = 0 \n",
    "    for move in moves:\n",
    "        for row in range(len(board)):\n",
    "            if board[row][move - 1] != 0:\n",
    "                basket.append(board[row][move - 1])\n",
    "                board[row][move - 1] = 0\n",
    "                break\n",
    "        if len(basket) >= 2:\n",
    "            if basket[-1] == basket[-2]:\n",
    "                basket.pop()\n",
    "                basket.pop()\n",
    "                answer_count += 2\n",
    "    return answer_count"
   ]
  },
  {
   "cell_type": "markdown",
   "id": "bea973bb",
   "metadata": {},
   "source": [
    "#### 1단계 - 신규 아이디 추천"
   ]
  },
  {
   "cell_type": "code",
   "execution_count": 3,
   "id": "dbc4008e",
   "metadata": {
    "ExecuteTime": {
     "end_time": "2022-03-07T05:29:37.187584Z",
     "start_time": "2022-03-07T05:29:37.172622Z"
    }
   },
   "outputs": [],
   "source": [
    "def solution(new_id):\n",
    "    strings = 'abcdefghijklmnopqrstuvwxyz1234567890-_.'\n",
    "    # rule1\n",
    "    rule1_id = new_id.lower()\n",
    "\n",
    "    # rule2\n",
    "    rule2_id = ''.join([str_ for str_ in list(rule1_id) if str_ in strings])\n",
    "\n",
    "    # rule3 and rule4\n",
    "    rule34_id = '.'.join([str_ for str_ in rule2_id.split('.') if str_ != ''])\n",
    "\n",
    "    # rule5\n",
    "    rule5_id = 'a' if len(rule34_id) == 0 else rule34_id\n",
    "\n",
    "    # rule6\n",
    "    rule6_id = rule5_id\n",
    "    if len(rule6_id) >= 16:\n",
    "        rule6_id = rule6_id[:15]\n",
    "        if rule6_id[-1] == '.':\n",
    "            rule6_id = rule6_id[:-1]\n",
    "\n",
    "    # rule7\n",
    "    rule7_id = rule6_id\n",
    "    while len(rule7_id) < 3:\n",
    "        rule7_id += rule7_id[-1]\n",
    "    \n",
    "    return rule7_id"
   ]
  }
 ],
 "metadata": {
  "hide_input": false,
  "kernelspec": {
   "display_name": "Python 3 (ipykernel)",
   "language": "python",
   "name": "python3"
  },
  "language_info": {
   "codemirror_mode": {
    "name": "ipython",
    "version": 3
   },
   "file_extension": ".py",
   "mimetype": "text/x-python",
   "name": "python",
   "nbconvert_exporter": "python",
   "pygments_lexer": "ipython3",
   "version": "3.9.7"
  },
  "toc": {
   "base_numbering": 1,
   "nav_menu": {},
   "number_sections": true,
   "sideBar": true,
   "skip_h1_title": false,
   "title_cell": "Table of Contents",
   "title_sidebar": "Contents",
   "toc_cell": false,
   "toc_position": {},
   "toc_section_display": true,
   "toc_window_display": false
  },
  "varInspector": {
   "cols": {
    "lenName": 16,
    "lenType": 16,
    "lenVar": 40
   },
   "kernels_config": {
    "python": {
     "delete_cmd_postfix": "",
     "delete_cmd_prefix": "del ",
     "library": "var_list.py",
     "varRefreshCmd": "print(var_dic_list())"
    },
    "r": {
     "delete_cmd_postfix": ") ",
     "delete_cmd_prefix": "rm(",
     "library": "var_list.r",
     "varRefreshCmd": "cat(var_dic_list()) "
    }
   },
   "types_to_exclude": [
    "module",
    "function",
    "builtin_function_or_method",
    "instance",
    "_Feature"
   ],
   "window_display": false
  }
 },
 "nbformat": 4,
 "nbformat_minor": 5
}
