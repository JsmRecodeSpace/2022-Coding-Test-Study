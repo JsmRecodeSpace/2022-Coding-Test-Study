{
 "cells": [
  {
   "cell_type": "markdown",
   "id": "b3441a12",
   "metadata": {},
   "source": [
    "#### 1단계 - 소수 찾기"
   ]
  },
  {
   "cell_type": "code",
   "execution_count": 1,
   "id": "3cdf0fb0",
   "metadata": {
    "ExecuteTime": {
     "end_time": "2022-03-04T03:09:17.104506Z",
     "start_time": "2022-03-04T03:09:17.089547Z"
    }
   },
   "outputs": [],
   "source": [
    "import math \n",
    "def solution(n):\n",
    "    decimal_count = 0\n",
    "    for num in range(2, n + 1):\n",
    "        div_count = 0\n",
    "        for divisor in range(1, math.floor(num ** (1/2)) + 1):\n",
    "            if div_count > 1:\n",
    "                break\n",
    "            elif num % divisor == 0:\n",
    "                div_count += 1\n",
    "        if div_count == 1: decimal_count += 1\n",
    "    return decimal_count"
   ]
  },
  {
   "cell_type": "markdown",
   "id": "3c21d7bc",
   "metadata": {},
   "source": [
    "#### 1단계 - 소수 만들기"
   ]
  },
  {
   "cell_type": "code",
   "execution_count": 2,
   "id": "758e6212",
   "metadata": {
    "ExecuteTime": {
     "end_time": "2022-03-04T03:09:17.119466Z",
     "start_time": "2022-03-04T03:09:17.105504Z"
    }
   },
   "outputs": [],
   "source": [
    "import math\n",
    "def solution(nums):\n",
    "    \n",
    "    nums_sum_lst = []\n",
    "    for i in nums:\n",
    "        for j in nums:\n",
    "            if j > i:\n",
    "                for k in nums:\n",
    "                    if k > j:\n",
    "                        nums_sum = i + j + k\n",
    "#                        if nums_sum not in nums_sum_lst:\n",
    "#                            print(i, j, k)\n",
    "                        nums_sum_lst.append(nums_sum)\n",
    "    decimal_count = 0 \n",
    "    for num in nums_sum_lst:\n",
    "        div_count = 0\n",
    "        for divisor in range(1, math.floor(num ** (0.5)) + 1):\n",
    "            if div_count > 1:\n",
    "                break\n",
    "            elif num % divisor == 0: div_count += 1\n",
    "        if div_count == 1: decimal_count += 1\n",
    "        \n",
    "    return decimal_count"
   ]
  },
  {
   "cell_type": "markdown",
   "id": "80fbbaa2",
   "metadata": {},
   "source": [
    "#### 1단계 - 문자열 내 마음대로 정렬하기"
   ]
  },
  {
   "cell_type": "code",
   "execution_count": 3,
   "id": "93734f1b",
   "metadata": {
    "ExecuteTime": {
     "end_time": "2022-03-04T03:09:17.135433Z",
     "start_time": "2022-03-04T03:09:17.121461Z"
    }
   },
   "outputs": [],
   "source": [
    "def solution(strings, n):\n",
    "    \n",
    "    sorted_strings = sorted(strings)\n",
    "    n_str_lst = sorted([string[n] for string in sorted_strings])\n",
    "    \n",
    "    new_strings_lst = []\n",
    "    for n_str in n_str_lst:\n",
    "        for string in sorted_strings:\n",
    "            if n_str == string[n] and string not in new_strings_lst:\n",
    "                new_strings_lst.append(string)        \n",
    "                \n",
    "    return new_strings_lst    "
   ]
  }
 ],
 "metadata": {
  "hide_input": false,
  "kernelspec": {
   "display_name": "Python 3 (ipykernel)",
   "language": "python",
   "name": "python3"
  },
  "language_info": {
   "codemirror_mode": {
    "name": "ipython",
    "version": 3
   },
   "file_extension": ".py",
   "mimetype": "text/x-python",
   "name": "python",
   "nbconvert_exporter": "python",
   "pygments_lexer": "ipython3",
   "version": "3.9.7"
  },
  "toc": {
   "base_numbering": 1,
   "nav_menu": {},
   "number_sections": true,
   "sideBar": true,
   "skip_h1_title": false,
   "title_cell": "Table of Contents",
   "title_sidebar": "Contents",
   "toc_cell": false,
   "toc_position": {},
   "toc_section_display": true,
   "toc_window_display": false
  },
  "varInspector": {
   "cols": {
    "lenName": 16,
    "lenType": 16,
    "lenVar": 40
   },
   "kernels_config": {
    "python": {
     "delete_cmd_postfix": "",
     "delete_cmd_prefix": "del ",
     "library": "var_list.py",
     "varRefreshCmd": "print(var_dic_list())"
    },
    "r": {
     "delete_cmd_postfix": ") ",
     "delete_cmd_prefix": "rm(",
     "library": "var_list.r",
     "varRefreshCmd": "cat(var_dic_list()) "
    }
   },
   "types_to_exclude": [
    "module",
    "function",
    "builtin_function_or_method",
    "instance",
    "_Feature"
   ],
   "window_display": false
  }
 },
 "nbformat": 4,
 "nbformat_minor": 5
}
