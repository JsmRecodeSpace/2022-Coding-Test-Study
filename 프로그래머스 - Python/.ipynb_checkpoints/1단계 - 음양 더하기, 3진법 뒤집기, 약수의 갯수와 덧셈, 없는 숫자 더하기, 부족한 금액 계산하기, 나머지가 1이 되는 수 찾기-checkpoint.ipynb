{
 "cells": [
  {
   "cell_type": "markdown",
   "id": "da81b9ed",
   "metadata": {},
   "source": [
    "#### 1단계 - 음양 더하기"
   ]
  },
  {
   "cell_type": "code",
   "execution_count": 1,
   "id": "6c3508f9",
   "metadata": {
    "ExecuteTime": {
     "end_time": "2022-03-05T03:44:24.026911Z",
     "start_time": "2022-03-05T03:44:24.011951Z"
    }
   },
   "outputs": [],
   "source": [
    "def solution(absolutes, signs):\n",
    "    signs = [1 if sign == True else -1 for sign in signs]\n",
    "    return sum([num * sign for num, sign in zip(absolutes, signs)])"
   ]
  },
  {
   "cell_type": "markdown",
   "id": "f6977f79",
   "metadata": {},
   "source": [
    "#### 1단계 - 3진법 뒤집기\n",
    "    # 이 문제는 다른 사람의 풀이 참고하였음"
   ]
  },
  {
   "cell_type": "code",
   "execution_count": 2,
   "id": "66478168",
   "metadata": {
    "ExecuteTime": {
     "end_time": "2022-03-05T03:44:24.042869Z",
     "start_time": "2022-03-05T03:44:24.028904Z"
    }
   },
   "outputs": [],
   "source": [
    "def solution(n):\n",
    "    \n",
    "    answer = ''\n",
    "    while n >= 1:\n",
    "        n, rest = divmod(n, 3)\n",
    "        answer += str(rest)\n",
    "\n",
    "    answer = int(answer, 3)\n",
    "    \n",
    "    return answer"
   ]
  },
  {
   "cell_type": "markdown",
   "id": "6113a0af",
   "metadata": {},
   "source": [
    "#### 1단계 - 약수의 개수와 덧셈"
   ]
  },
  {
   "cell_type": "code",
   "execution_count": 3,
   "id": "a8ae7bad",
   "metadata": {
    "ExecuteTime": {
     "end_time": "2022-03-05T03:44:24.057826Z",
     "start_time": "2022-03-05T03:44:24.044862Z"
    }
   },
   "outputs": [],
   "source": [
    "def solution(left, right):\n",
    "    total = 0\n",
    "    for num in range(left, right+1):\n",
    "        div_count = 0\n",
    "        for divisor in range(1, num+1):\n",
    "            if num % divisor == 0: div_count += 1\n",
    "        if div_count % 2 == 0:\n",
    "            total += num\n",
    "        else:\n",
    "            total -= num\n",
    "    return total"
   ]
  },
  {
   "cell_type": "markdown",
   "id": "69bc5de0",
   "metadata": {},
   "source": [
    "#### 1단계 - 없는 숫자 더하기"
   ]
  },
  {
   "cell_type": "code",
   "execution_count": 4,
   "id": "22ea5364",
   "metadata": {
    "ExecuteTime": {
     "end_time": "2022-03-05T03:44:24.073783Z",
     "start_time": "2022-03-05T03:44:24.059822Z"
    }
   },
   "outputs": [],
   "source": [
    "def solution(numbers):\n",
    "    return sum(set(range(1, 10)) - set(numbers))"
   ]
  },
  {
   "cell_type": "markdown",
   "id": "dc272dfe",
   "metadata": {},
   "source": [
    "#### 1단계 - 부족한 금액 계산하기"
   ]
  },
  {
   "cell_type": "code",
   "execution_count": 5,
   "id": "d26a8032",
   "metadata": {
    "ExecuteTime": {
     "end_time": "2022-03-05T03:44:24.088877Z",
     "start_time": "2022-03-05T03:44:24.074781Z"
    }
   },
   "outputs": [],
   "source": [
    "def solution(price, money, count):\n",
    "    total_price = sum([price * i for i in range(1, count+1)])\n",
    "    if money - total_price > 0:\n",
    "        return 0\n",
    "    else:\n",
    "        return abs(money - total_price)"
   ]
  },
  {
   "cell_type": "markdown",
   "id": "ebf9a796",
   "metadata": {},
   "source": [
    "#### 1단계 - 나머지가 1이 되는 수 찾기"
   ]
  },
  {
   "cell_type": "code",
   "execution_count": 6,
   "id": "8252341d",
   "metadata": {
    "ExecuteTime": {
     "end_time": "2022-03-05T03:44:24.104831Z",
     "start_time": "2022-03-05T03:44:24.089872Z"
    }
   },
   "outputs": [],
   "source": [
    "def solution(n):\n",
    "    \n",
    "    return [i for i in range(1, n) if n % i == 1][0]"
   ]
  }
 ],
 "metadata": {
  "hide_input": false,
  "kernelspec": {
   "display_name": "Python 3 (ipykernel)",
   "language": "python",
   "name": "python3"
  },
  "language_info": {
   "codemirror_mode": {
    "name": "ipython",
    "version": 3
   },
   "file_extension": ".py",
   "mimetype": "text/x-python",
   "name": "python",
   "nbconvert_exporter": "python",
   "pygments_lexer": "ipython3",
   "version": "3.9.7"
  },
  "toc": {
   "base_numbering": 1,
   "nav_menu": {},
   "number_sections": true,
   "sideBar": true,
   "skip_h1_title": false,
   "title_cell": "Table of Contents",
   "title_sidebar": "Contents",
   "toc_cell": false,
   "toc_position": {},
   "toc_section_display": true,
   "toc_window_display": false
  },
  "varInspector": {
   "cols": {
    "lenName": 16,
    "lenType": 16,
    "lenVar": 40
   },
   "kernels_config": {
    "python": {
     "delete_cmd_postfix": "",
     "delete_cmd_prefix": "del ",
     "library": "var_list.py",
     "varRefreshCmd": "print(var_dic_list())"
    },
    "r": {
     "delete_cmd_postfix": ") ",
     "delete_cmd_prefix": "rm(",
     "library": "var_list.r",
     "varRefreshCmd": "cat(var_dic_list()) "
    }
   },
   "types_to_exclude": [
    "module",
    "function",
    "builtin_function_or_method",
    "instance",
    "_Feature"
   ],
   "window_display": false
  }
 },
 "nbformat": 4,
 "nbformat_minor": 5
}
