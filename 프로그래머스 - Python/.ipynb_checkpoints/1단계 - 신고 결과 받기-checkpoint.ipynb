{
 "cells": [
  {
   "cell_type": "markdown",
   "id": "9eee5a9d",
   "metadata": {},
   "source": [
    "#### 1단계 - 신고 결과 받기"
   ]
  },
  {
   "cell_type": "code",
   "execution_count": null,
   "id": "a09044a2",
   "metadata": {},
   "outputs": [],
   "source": [
    "# 내가 작성하여 24개 테스트 케이스 중 2개를 시간 초과로 통과하지 못한 코드\n",
    "def solution(id_list, report, k):\n",
    "    \n",
    "    # id별 신고 받은 수, id별 메일 받은 수 카운트\n",
    "    id_dict = {id_ : 0 for id_ in id_list}\n",
    "    id_dict_answer = id_dict.copy()\n",
    "\n",
    "    # report 중복 제거, id별 신고 받은 수 카운트\n",
    "    report = set(report)\n",
    "    for rep in report:\n",
    "        if id_dict[rep.split()[1]] >= k:\n",
    "            continue # 이미 k를 넘은 사람들은 넘어가기\n",
    "        else:\n",
    "            id_dict[rep.split()[1]] += 1\n",
    "\n",
    "    # 신고 받은 수가 k보다 많은 사람들 리스트\n",
    "    reported = [id_ for id_ in id_dict if id_dict[id_] >= k]\n",
    "    \n",
    "    # 신고받은 사람들을 신고한 사람들에게 발송할 메일 수 카운트    \n",
    "    for rep in report:\n",
    "        for reported_nm in reported:\n",
    "            if rep.split()[1] == reported_nm:\n",
    "                id_dict_answer[rep.split()[0]] += 1\n",
    "    \n",
    "    return list(id_dict_answer.values())"
   ]
  },
  {
   "cell_type": "code",
   "execution_count": null,
   "id": "a0678bde",
   "metadata": {},
   "outputs": [],
   "source": [
    "# 질문하기로 참고 한 통과 코드, 기막힌 컴프리핸션 활용..\n",
    "def solution(id_list, report, k):\n",
    "    report = set(report)\n",
    "    reported = [rep.split()[1] for rep in report]\n",
    "    reported_nms = [nm for nm in set(reported) if reported.count(nm) >= k]\n",
    "    reporter_nms = [rep.split()[0] for rep in report if rep.split()[1] in reported_nms]\n",
    "    return [reporter_nms.count(id_) for id_ in id_list]"
   ]
  },
  {
   "cell_type": "code",
   "execution_count": null,
   "id": "73e2e226",
   "metadata": {},
   "outputs": [],
   "source": []
  }
 ],
 "metadata": {
  "hide_input": false,
  "kernelspec": {
   "display_name": "Python 3 (ipykernel)",
   "language": "python",
   "name": "python3"
  },
  "language_info": {
   "codemirror_mode": {
    "name": "ipython",
    "version": 3
   },
   "file_extension": ".py",
   "mimetype": "text/x-python",
   "name": "python",
   "nbconvert_exporter": "python",
   "pygments_lexer": "ipython3",
   "version": "3.9.7"
  },
  "toc": {
   "base_numbering": 1,
   "nav_menu": {},
   "number_sections": true,
   "sideBar": true,
   "skip_h1_title": false,
   "title_cell": "Table of Contents",
   "title_sidebar": "Contents",
   "toc_cell": false,
   "toc_position": {},
   "toc_section_display": true,
   "toc_window_display": false
  },
  "varInspector": {
   "cols": {
    "lenName": 16,
    "lenType": 16,
    "lenVar": 40
   },
   "kernels_config": {
    "python": {
     "delete_cmd_postfix": "",
     "delete_cmd_prefix": "del ",
     "library": "var_list.py",
     "varRefreshCmd": "print(var_dic_list())"
    },
    "r": {
     "delete_cmd_postfix": ") ",
     "delete_cmd_prefix": "rm(",
     "library": "var_list.r",
     "varRefreshCmd": "cat(var_dic_list()) "
    }
   },
   "types_to_exclude": [
    "module",
    "function",
    "builtin_function_or_method",
    "instance",
    "_Feature"
   ],
   "window_display": false
  }
 },
 "nbformat": 4,
 "nbformat_minor": 5
}
