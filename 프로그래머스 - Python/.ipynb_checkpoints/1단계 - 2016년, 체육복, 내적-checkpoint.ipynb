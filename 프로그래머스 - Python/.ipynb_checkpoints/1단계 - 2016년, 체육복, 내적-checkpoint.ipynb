{
 "cells": [
  {
   "cell_type": "markdown",
   "id": "d62da64e",
   "metadata": {},
   "source": [
    "#### 1단계 - 2016년"
   ]
  },
  {
   "cell_type": "code",
   "execution_count": 1,
   "id": "2eba8a3c",
   "metadata": {
    "ExecuteTime": {
     "end_time": "2022-03-03T03:24:11.306587Z",
     "start_time": "2022-03-03T03:24:11.287932Z"
    }
   },
   "outputs": [],
   "source": [
    "def solution(a, b):\n",
    "    # 31일: 1, 3, 5, 7, 8, 10, 12\n",
    "    # 29일: 2\n",
    "    # 30일: 4, 6, 9, 11\n",
    "    \n",
    "    months = [1, 2, 3, 4, 5, 6, 7, 8, 9, 10, 11, 12]\n",
    "    months_days = [31, 29, 31, 30, 31, 30, 31, 31, 30, 31, 30, 31]\n",
    "    days = 0\n",
    "    i = 0\n",
    "    while a != months[i]:\n",
    "        days += months_days[i]\n",
    "        i += 1\n",
    "    days += b\n",
    "    \n",
    "    date_dict = {1: 'FRI', 2: 'SAT', 3: 'SUN', 4: 'MON', 5: 'TUE', 6: 'WED', 0: 'THU'}\n",
    "    return date_dict[days % 7]"
   ]
  },
  {
   "cell_type": "markdown",
   "id": "d1ea785c",
   "metadata": {},
   "source": [
    "#### 1단계 - 체육복"
   ]
  },
  {
   "cell_type": "code",
   "execution_count": 2,
   "id": "41432c56",
   "metadata": {
    "ExecuteTime": {
     "end_time": "2022-03-03T03:24:11.811423Z",
     "start_time": "2022-03-03T03:24:11.798839Z"
    }
   },
   "outputs": [],
   "source": [
    "def solution(n, lost, reserve):\n",
    "    \n",
    "    participant = n - len(lost)\n",
    "    lost.sort()\n",
    "    reserve.sort()\n",
    "    \n",
    "    for lost_num in lost[:]:\n",
    "        if lost_num in reserve:\n",
    "            participant += 1\n",
    "            reserve.remove(lost_num)\n",
    "            lost.remove(lost_num)\n",
    "            \n",
    "    for lost_num in lost:\n",
    "        if lost_num - 1 in reserve:\n",
    "            participant += 1\n",
    "            reserve.remove(lost_num - 1)\n",
    "        elif lost_num + 1 in reserve:\n",
    "            participant += 1\n",
    "            reserve.remove(lost_num + 1)\n",
    "\n",
    "    return participant"
   ]
  },
  {
   "cell_type": "markdown",
   "id": "dfe45eab",
   "metadata": {},
   "source": [
    "#### 1단계 - 내적"
   ]
  },
  {
   "cell_type": "code",
   "execution_count": 3,
   "id": "7dfad9be",
   "metadata": {
    "ExecuteTime": {
     "end_time": "2022-03-03T03:24:12.908873Z",
     "start_time": "2022-03-03T03:24:12.892907Z"
    }
   },
   "outputs": [],
   "source": [
    "def solution(a, b):\n",
    "    \n",
    "    return sum([i * j for i, j in zip(a, b)])"
   ]
  }
 ],
 "metadata": {
  "hide_input": false,
  "kernelspec": {
   "display_name": "Python 3 (ipykernel)",
   "language": "python",
   "name": "python3"
  },
  "language_info": {
   "codemirror_mode": {
    "name": "ipython",
    "version": 3
   },
   "file_extension": ".py",
   "mimetype": "text/x-python",
   "name": "python",
   "nbconvert_exporter": "python",
   "pygments_lexer": "ipython3",
   "version": "3.9.7"
  },
  "toc": {
   "base_numbering": 1,
   "nav_menu": {},
   "number_sections": true,
   "sideBar": true,
   "skip_h1_title": false,
   "title_cell": "Table of Contents",
   "title_sidebar": "Contents",
   "toc_cell": false,
   "toc_position": {},
   "toc_section_display": true,
   "toc_window_display": false
  },
  "varInspector": {
   "cols": {
    "lenName": 16,
    "lenType": 16,
    "lenVar": 40
   },
   "kernels_config": {
    "python": {
     "delete_cmd_postfix": "",
     "delete_cmd_prefix": "del ",
     "library": "var_list.py",
     "varRefreshCmd": "print(var_dic_list())"
    },
    "r": {
     "delete_cmd_postfix": ") ",
     "delete_cmd_prefix": "rm(",
     "library": "var_list.r",
     "varRefreshCmd": "cat(var_dic_list()) "
    }
   },
   "types_to_exclude": [
    "module",
    "function",
    "builtin_function_or_method",
    "instance",
    "_Feature"
   ],
   "window_display": false
  }
 },
 "nbformat": 4,
 "nbformat_minor": 5
}
