{
 "cells": [
  {
   "cell_type": "markdown",
   "id": "0efc56c3",
   "metadata": {},
   "source": [
    "#### 2단계 - 위장(Hash)"
   ]
  },
  {
   "cell_type": "code",
   "execution_count": 1,
   "id": "9e6ea5cc",
   "metadata": {
    "ExecuteTime": {
     "end_time": "2022-04-11T02:42:44.904287Z",
     "start_time": "2022-04-11T02:42:44.888354Z"
    }
   },
   "outputs": [],
   "source": [
    "def solution(clothes):\n",
    "    \n",
    "    # Hash 문제 -> dictionary로 k,v 설정\n",
    "    kinds = {}\n",
    "    for clothe in clothes:\n",
    "        kinds[clothe[1]] = kinds.get(clothe[1], 0) + 1\n",
    "        \n",
    "    # 필요한 부분은 v, 반복문을 돌리기 위해 리스트로 빼주기\n",
    "    # 입지 않는 경우를 고려해서 v에 +1를 해줌\n",
    "    clothes_num = [v+1 for k, v in kinds.items()]\n",
    "\n",
    "    # 조합\n",
    "    total = 1\n",
    "    for num in clothes_num:\n",
    "        total *= num\n",
    "    \n",
    "    return total - 1"
   ]
  }
 ],
 "metadata": {
  "hide_input": false,
  "kernelspec": {
   "display_name": "Python 3 (ipykernel)",
   "language": "python",
   "name": "python3"
  },
  "language_info": {
   "codemirror_mode": {
    "name": "ipython",
    "version": 3
   },
   "file_extension": ".py",
   "mimetype": "text/x-python",
   "name": "python",
   "nbconvert_exporter": "python",
   "pygments_lexer": "ipython3",
   "version": "3.9.7"
  },
  "varInspector": {
   "cols": {
    "lenName": 16,
    "lenType": 16,
    "lenVar": 40
   },
   "kernels_config": {
    "python": {
     "delete_cmd_postfix": "",
     "delete_cmd_prefix": "del ",
     "library": "var_list.py",
     "varRefreshCmd": "print(var_dic_list())"
    },
    "r": {
     "delete_cmd_postfix": ") ",
     "delete_cmd_prefix": "rm(",
     "library": "var_list.r",
     "varRefreshCmd": "cat(var_dic_list()) "
    }
   },
   "types_to_exclude": [
    "module",
    "function",
    "builtin_function_or_method",
    "instance",
    "_Feature"
   ],
   "window_display": false
  }
 },
 "nbformat": 4,
 "nbformat_minor": 5
}
