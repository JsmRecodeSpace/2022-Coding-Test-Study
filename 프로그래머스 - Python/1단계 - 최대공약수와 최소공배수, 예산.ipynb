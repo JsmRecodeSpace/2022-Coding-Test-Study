{
 "cells": [
  {
   "cell_type": "markdown",
   "id": "11e01419",
   "metadata": {},
   "source": [
    "#### 최대공약수와 최소공배수"
   ]
  },
  {
   "cell_type": "code",
   "execution_count": 1,
   "id": "aa475547",
   "metadata": {
    "ExecuteTime": {
     "end_time": "2022-03-06T03:15:36.850353Z",
     "start_time": "2022-03-06T03:15:36.832361Z"
    }
   },
   "outputs": [],
   "source": [
    "def solution(n, m):\n",
    "    # 작은 수가 n이 되도록 함\n",
    "    if n > m : n,m = m, n\n",
    "    \n",
    "    # 최대공약수 구하기\n",
    "    lst1 = []\n",
    "    for i in range(1, n+1):\n",
    "        if n % i == 0 and m % i == 0:\n",
    "            lst1.append(i)\n",
    "    gcd = max(lst1)\n",
    "    \n",
    "    # 최소공배수 구하기\n",
    "    if m % n == 0:\n",
    "        lcm = m\n",
    "    elif gcd == 1 and m%n != 0:\n",
    "        lcm = n * m\n",
    "    else:\n",
    "        lcm = gcd * (n // gcd) * (m // gcd)\n",
    "    \n",
    "    return [gcd, lcm]"
   ]
  },
  {
   "cell_type": "markdown",
   "id": "cd50a407",
   "metadata": {},
   "source": [
    "#### 예산"
   ]
  },
  {
   "cell_type": "code",
   "execution_count": 2,
   "id": "e981b7a8",
   "metadata": {
    "ExecuteTime": {
     "end_time": "2022-03-06T03:15:37.130566Z",
     "start_time": "2022-03-06T03:15:37.119596Z"
    }
   },
   "outputs": [],
   "source": [
    "def solution(d, budget):\n",
    "    # 아이디어: 최대한 많은 부서 지원이 목표이므로 정렬 후 작은 금액 부서들을 최대한 지원\n",
    "    # 1. 정렬\n",
    "    d.sort()\n",
    "    \n",
    "    # 2. 예산(budget)이 0이상일 경우까지 카운트, 음수로 떨어질 경우 바로 break\n",
    "    answer = 0\n",
    "    for money in d:\n",
    "        budget -= money\n",
    "        if budget >= 0:\n",
    "            answer += 1\n",
    "        else:\n",
    "            break\n",
    "    return answer\n",
    "    "
   ]
  }
 ],
 "metadata": {
  "hide_input": false,
  "kernelspec": {
   "display_name": "Python 3 (ipykernel)",
   "language": "python",
   "name": "python3"
  },
  "language_info": {
   "codemirror_mode": {
    "name": "ipython",
    "version": 3
   },
   "file_extension": ".py",
   "mimetype": "text/x-python",
   "name": "python",
   "nbconvert_exporter": "python",
   "pygments_lexer": "ipython3",
   "version": "3.9.7"
  },
  "toc": {
   "base_numbering": 1,
   "nav_menu": {},
   "number_sections": false,
   "sideBar": false,
   "skip_h1_title": false,
   "title_cell": "Table of Contents",
   "title_sidebar": "Contents",
   "toc_cell": false,
   "toc_position": {},
   "toc_section_display": false,
   "toc_window_display": false
  },
  "varInspector": {
   "cols": {
    "lenName": 16,
    "lenType": 16,
    "lenVar": 40
   },
   "kernels_config": {
    "python": {
     "delete_cmd_postfix": "",
     "delete_cmd_prefix": "del ",
     "library": "var_list.py",
     "varRefreshCmd": "print(var_dic_list())"
    },
    "r": {
     "delete_cmd_postfix": ") ",
     "delete_cmd_prefix": "rm(",
     "library": "var_list.r",
     "varRefreshCmd": "cat(var_dic_list()) "
    }
   },
   "types_to_exclude": [
    "module",
    "function",
    "builtin_function_or_method",
    "instance",
    "_Feature"
   ],
   "window_display": false
  }
 },
 "nbformat": 4,
 "nbformat_minor": 5
}
