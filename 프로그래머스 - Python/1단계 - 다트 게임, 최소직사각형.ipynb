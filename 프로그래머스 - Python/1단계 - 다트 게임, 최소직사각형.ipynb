{
 "cells": [
  {
   "cell_type": "markdown",
   "id": "251b0ce7",
   "metadata": {},
   "source": [
    "#### 1단계 - 카카오 블라인드 채용 - [1차] 다트 게임"
   ]
  },
  {
   "cell_type": "code",
   "execution_count": 1,
   "id": "69cbbfb5",
   "metadata": {
    "ExecuteTime": {
     "end_time": "2022-04-07T04:53:20.574696Z",
     "start_time": "2022-04-07T04:53:20.557741Z"
    }
   },
   "outputs": [],
   "source": [
    "def solution(dartResult):\n",
    "        \n",
    "    def get_score(dartResult_str):\n",
    "        if dartResult_str.startswith('10'):\n",
    "            score = 10\n",
    "            dartResult_str = dartResult_str[2:]\n",
    "        else:\n",
    "            score = dartResult_str[0]\n",
    "            dartResult_str = dartResult_str[1:]\n",
    "        return dartResult_str, score\n",
    "    \n",
    "    \n",
    "    def get_bonus(dartResult_str, score):\n",
    "        bonus = dartResult_str[0]\n",
    "        dartResult_str = dartResult_str[1:]\n",
    "        if bonus == 'D':\n",
    "            score = int(score) ** 2\n",
    "        elif bonus == 'T':\n",
    "            score = int(score) ** 3\n",
    "        else:\n",
    "            score = int(score)\n",
    "        return dartResult_str, score\n",
    "    \n",
    "    \n",
    "    def get_option(total, dartResult_str, score, before_score=None, before_option=None):\n",
    "        if dartResult_str:\n",
    "            option = dartResult_str[0]\n",
    "            if not option.isdigit():\n",
    "                dartResult_str = dartResult_str[1:]\n",
    "                if option == '*':\n",
    "                    total += score * 2\n",
    "                    if before_score:\n",
    "                        if before_option == '#':\n",
    "                            total -= before_score\n",
    "                        elif before_option == '*':\n",
    "                            total += before_score * 2\n",
    "                        else:\n",
    "                            total += before_score\n",
    "                    before_score = score\n",
    "                    before_option = option\n",
    "                elif option == '#':\n",
    "                    total -= score\n",
    "                    before_score = score\n",
    "                    before_option = option\n",
    "\n",
    "                return total, dartResult_str, before_score, before_option\n",
    "\n",
    "            else:\n",
    "                total += score\n",
    "                before_score = score\n",
    "                before_option = None\n",
    "        else:\n",
    "            total += score\n",
    "            before_score = score\n",
    "            before_option = None\n",
    "\n",
    "        return total, dartResult_str, before_score, None\n",
    "                    \n",
    "    def round_process(total, dartResult_str, before_score=None, before_option=None):\n",
    "        dartResult_str, score = get_score(dartResult_str)\n",
    "        print(dartResult_str, score)\n",
    "\n",
    "        dartResult_str, score = get_bonus(dartResult_str, score)\n",
    "        print(dartResult_str, score)\n",
    "\n",
    "        total, dartResult_str, before_score, before_option = get_option(total, dartResult_str, score, before_score, before_option)\n",
    "        print('first total:', total, dartResult_str, before_score, before_option)\n",
    "        return total, dartResult_str, before_score, before_option\n",
    "    \n",
    "    total = 0\n",
    "    \n",
    "    # first round\n",
    "    total, dartResult, before_score1, before_option1 = round_process(total, dartResult)\n",
    "    \n",
    "    # second round\n",
    "    total, dartResult, before_score2, before_option2 = round_process(total, dartResult, before_score1, before_option1)\n",
    "    \n",
    "    # last round\n",
    "    total, dartResult, before_score3, before_option3 = round_process(total, dartResult, before_score2, before_option2)\n",
    "    \n",
    "    return total"
   ]
  },
  {
   "cell_type": "markdown",
   "id": "2d75fd4d",
   "metadata": {},
   "source": [
    "#### 1단계 - 위클리 챌린지 - 최소직사각형"
   ]
  },
  {
   "cell_type": "code",
   "execution_count": 2,
   "id": "8ca28eb4",
   "metadata": {
    "ExecuteTime": {
     "end_time": "2022-04-07T04:53:21.208901Z",
     "start_time": "2022-04-07T04:53:21.194441Z"
    }
   },
   "outputs": [],
   "source": [
    "def solution(sizes):\n",
    "    \n",
    "    w_lst = [max(size) for size in sizes]\n",
    "    h_lst = [min(size) for size in sizes]\n",
    "    \n",
    "    return max(w_lst) * max(h_lst)"
   ]
  }
 ],
 "metadata": {
  "hide_input": false,
  "kernelspec": {
   "display_name": "Python 3 (ipykernel)",
   "language": "python",
   "name": "python3"
  },
  "language_info": {
   "codemirror_mode": {
    "name": "ipython",
    "version": 3
   },
   "file_extension": ".py",
   "mimetype": "text/x-python",
   "name": "python",
   "nbconvert_exporter": "python",
   "pygments_lexer": "ipython3",
   "version": "3.9.7"
  },
  "varInspector": {
   "cols": {
    "lenName": 16,
    "lenType": 16,
    "lenVar": 40
   },
   "kernels_config": {
    "python": {
     "delete_cmd_postfix": "",
     "delete_cmd_prefix": "del ",
     "library": "var_list.py",
     "varRefreshCmd": "print(var_dic_list())"
    },
    "r": {
     "delete_cmd_postfix": ") ",
     "delete_cmd_prefix": "rm(",
     "library": "var_list.r",
     "varRefreshCmd": "cat(var_dic_list()) "
    }
   },
   "types_to_exclude": [
    "module",
    "function",
    "builtin_function_or_method",
    "instance",
    "_Feature"
   ],
   "window_display": false
  }
 },
 "nbformat": 4,
 "nbformat_minor": 5
}
