{
 "cells": [
  {
   "cell_type": "markdown",
   "id": "22d8ca54",
   "metadata": {},
   "source": [
    "#### 1단계 - 로또의 최고 순위와 최저 순위"
   ]
  },
  {
   "cell_type": "code",
   "execution_count": 1,
   "id": "b581929d",
   "metadata": {
    "ExecuteTime": {
     "end_time": "2022-03-08T06:47:35.163550Z",
     "start_time": "2022-03-08T06:47:35.144599Z"
    }
   },
   "outputs": [],
   "source": [
    "def solution(lottos, win_nums):\n",
    "    equals = 0\n",
    "    zeros = lottos.count(0)\n",
    "    rank_dict = {6:1, 5:2, 4:3, 3:4, 2:5, 1:6, 0:6}\n",
    "\n",
    "    for lotto_num in lottos:\n",
    "        if lotto_num in win_nums:\n",
    "            equals += 1\n",
    "    min_rank = rank_dict[equals]\n",
    "    max_rank = rank_dict[equals + zeros]\n",
    "    \n",
    "    return [max_rank, min_rank]\n",
    "    "
   ]
  },
  {
   "cell_type": "markdown",
   "id": "5f69e2b7",
   "metadata": {},
   "source": [
    "#### 1단계 - 숫자 문자열과 영단어"
   ]
  },
  {
   "cell_type": "code",
   "execution_count": 2,
   "id": "28ea110b",
   "metadata": {
    "ExecuteTime": {
     "end_time": "2022-03-08T06:47:35.179508Z",
     "start_time": "2022-03-08T06:47:35.165544Z"
    }
   },
   "outputs": [],
   "source": [
    "def solution(s):\n",
    "    \n",
    "    number_alphabet_dict = {\n",
    "        '1' : '1', 'one' : '1',\n",
    "        '2' : '2', 'two' : '2',\n",
    "        '3' : '3', 'three' : '3',\n",
    "        '4' : '4', 'four' : '4',\n",
    "        '5' : '5', 'five' : '5',\n",
    "        '6' : '6', 'six' : '6',\n",
    "        '7' : '7', 'seven' : '7',\n",
    "        '8' : '8', 'eight' : '8',\n",
    "        '9' : '9', 'nine' : '9',\n",
    "        '0' : '0', 'zero' : '0'       \n",
    "    }\n",
    "    \n",
    "    result = ''\n",
    "    str_ = ''\n",
    "    for i in range(len(s)):\n",
    "        str_ += s[i]\n",
    "        if str_ in number_alphabet_dict.keys():\n",
    "            result += number_alphabet_dict[str_]\n",
    "            str_ = ''\n",
    "            \n",
    "    return int(result)\n",
    "    "
   ]
  },
  {
   "cell_type": "markdown",
   "id": "809a4788",
   "metadata": {},
   "source": [
    "#### 1단계 - 폰켓몬"
   ]
  },
  {
   "cell_type": "code",
   "execution_count": 3,
   "id": "f6f80f59",
   "metadata": {
    "ExecuteTime": {
     "end_time": "2022-03-08T06:47:35.195472Z",
     "start_time": "2022-03-08T06:47:35.182515Z"
    }
   },
   "outputs": [],
   "source": [
    "def solution(nums):\n",
    "    \n",
    "    if len(nums) / 2 < len(set(nums)):\n",
    "        return len(nums) / 2\n",
    "    else:\n",
    "        return len(set(nums))\n",
    "    \n",
    "#    return min(len(nums) / 2, len(set(nums)))"
   ]
  }
 ],
 "metadata": {
  "hide_input": false,
  "kernelspec": {
   "display_name": "Python 3 (ipykernel)",
   "language": "python",
   "name": "python3"
  },
  "language_info": {
   "codemirror_mode": {
    "name": "ipython",
    "version": 3
   },
   "file_extension": ".py",
   "mimetype": "text/x-python",
   "name": "python",
   "nbconvert_exporter": "python",
   "pygments_lexer": "ipython3",
   "version": "3.9.7"
  },
  "toc": {
   "base_numbering": 1,
   "nav_menu": {},
   "number_sections": true,
   "sideBar": true,
   "skip_h1_title": false,
   "title_cell": "Table of Contents",
   "title_sidebar": "Contents",
   "toc_cell": false,
   "toc_position": {},
   "toc_section_display": true,
   "toc_window_display": false
  },
  "varInspector": {
   "cols": {
    "lenName": 16,
    "lenType": 16,
    "lenVar": 40
   },
   "kernels_config": {
    "python": {
     "delete_cmd_postfix": "",
     "delete_cmd_prefix": "del ",
     "library": "var_list.py",
     "varRefreshCmd": "print(var_dic_list())"
    },
    "r": {
     "delete_cmd_postfix": ") ",
     "delete_cmd_prefix": "rm(",
     "library": "var_list.r",
     "varRefreshCmd": "cat(var_dic_list()) "
    }
   },
   "types_to_exclude": [
    "module",
    "function",
    "builtin_function_or_method",
    "instance",
    "_Feature"
   ],
   "window_display": false
  }
 },
 "nbformat": 4,
 "nbformat_minor": 5
}
