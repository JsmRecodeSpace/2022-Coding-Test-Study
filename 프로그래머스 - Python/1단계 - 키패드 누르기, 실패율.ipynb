{
 "cells": [
  {
   "cell_type": "markdown",
   "id": "20aee6ca",
   "metadata": {},
   "source": [
    "#### 1단계 - [카카오 인턴] 키패드 누르기"
   ]
  },
  {
   "cell_type": "code",
   "execution_count": 1,
   "id": "851045e4",
   "metadata": {
    "ExecuteTime": {
     "end_time": "2022-04-06T05:37:35.489266Z",
     "start_time": "2022-04-06T05:37:35.470773Z"
    }
   },
   "outputs": [],
   "source": [
    "import math\n",
    "def solution(numbers, hand):\n",
    "    \n",
    "    num_dict = {\n",
    "        1:(1,1), 2:(1, 2), 3:(1,3),\n",
    "        4:(2,1), 5:(2, 2), 6:(2,3),\n",
    "        7:(3,1), 8:(3, 2), 9:(3,3),\n",
    "        '*':(4,1), 0:(4, 2), '#':(4,3)\n",
    "    }\n",
    "    \n",
    "    def get_distance(num, l_where_or_r_where):\n",
    "        distance = math.ceil(((num_dict[num][0] - num_dict[l_where_or_r_where][0]) ** 2 + \\\n",
    "              (num_dict[num][1] - num_dict[l_where_or_r_where][1]) ** 2) ** (1/2))\n",
    "        return distance\n",
    "    \n",
    "    \n",
    "    result = ''\n",
    "    l_where = '*'\n",
    "    r_where = '#'\n",
    "    for num in numbers:\n",
    "        if num in [1, 4, 7]:\n",
    "            result += 'L'\n",
    "            l_where = num\n",
    "        elif num in [3, 6, 9]:\n",
    "            result += 'R'\n",
    "            r_where = num\n",
    "        else: # [2, 5, 8, 0]인 경우에는 거리를 보고 가까운 것이 가고, 같을 경우 'hand'를 쪽이 간다\n",
    "            l_distance = get_distance(num, l_where)\n",
    "            r_distance = get_distance(num, r_where)\n",
    "            if l_distance == r_distance:\n",
    "                if hand == 'left':\n",
    "                    result += 'L'\n",
    "                    l_where = num\n",
    "                else:\n",
    "                    result += 'R'\n",
    "                    r_where = num\n",
    "            elif l_distance < r_distance:\n",
    "                result += 'L'\n",
    "                l_where = num\n",
    "            else:\n",
    "                result += 'R'\n",
    "                r_where = num\n",
    "    return result"
   ]
  },
  {
   "cell_type": "markdown",
   "id": "1e567ad9",
   "metadata": {},
   "source": [
    "#### 1단계 - [카카오 블라인트 채용] 실패율"
   ]
  },
  {
   "cell_type": "code",
   "execution_count": 3,
   "id": "4f36e357",
   "metadata": {
    "ExecuteTime": {
     "end_time": "2022-04-06T05:37:55.866661Z",
     "start_time": "2022-04-06T05:37:55.849735Z"
    }
   },
   "outputs": [],
   "source": [
    "def solution(N, stages):\n",
    "    \n",
    "    # 유저 수\n",
    "    users = len(stages)\n",
    "    ratioDict = {}\n",
    "    for stage in range(1, N+1):\n",
    "        yetClear = stages.count(stage)\n",
    "        # 이 문제처럼 비율을 구할 때 분자에 0이 나올 수 있는 경우 이와 같이 효율성을 신경써야 함 \n",
    "        # 처음에 분자를 0으로 설정, 분자가 0이 아닐 때만 계산하도록\n",
    "    failRatio = 0\n",
    "        \n",
    "    if yetClear != 0:\n",
    "        failRatio = yetClear / users\n",
    "    ratioDict[stage] = failRatio    \n",
    "    # 매번 users를 구할 때 리스트에서 매번 len으로 세는 게 아니라, 이전 스테이지에서 줄여나감.\n",
    "    # 사람 수를 구할 때 이 문제처럼 점점 줄어나가는 경우 반복문에서 이전 것을 참고하여 사용할 수 있음\n",
    "    users -= yetClear\n",
    "\n",
    "    # 딕셔너리 value로 오름차순 정렬    \n",
    "    return sorted(ratioDict, key=lambda x : ratioDict[x], reverse=True)"
   ]
  }
 ],
 "metadata": {
  "hide_input": false,
  "kernelspec": {
   "display_name": "Python 3 (ipykernel)",
   "language": "python",
   "name": "python3"
  },
  "language_info": {
   "codemirror_mode": {
    "name": "ipython",
    "version": 3
   },
   "file_extension": ".py",
   "mimetype": "text/x-python",
   "name": "python",
   "nbconvert_exporter": "python",
   "pygments_lexer": "ipython3",
   "version": "3.9.7"
  },
  "varInspector": {
   "cols": {
    "lenName": 16,
    "lenType": 16,
    "lenVar": 40
   },
   "kernels_config": {
    "python": {
     "delete_cmd_postfix": "",
     "delete_cmd_prefix": "del ",
     "library": "var_list.py",
     "varRefreshCmd": "print(var_dic_list())"
    },
    "r": {
     "delete_cmd_postfix": ") ",
     "delete_cmd_prefix": "rm(",
     "library": "var_list.r",
     "varRefreshCmd": "cat(var_dic_list()) "
    }
   },
   "types_to_exclude": [
    "module",
    "function",
    "builtin_function_or_method",
    "instance",
    "_Feature"
   ],
   "window_display": false
  }
 },
 "nbformat": 4,
 "nbformat_minor": 5
}
