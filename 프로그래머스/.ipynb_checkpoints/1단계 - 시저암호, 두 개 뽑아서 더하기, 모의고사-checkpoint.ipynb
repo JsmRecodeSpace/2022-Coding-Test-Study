{
 "cells": [
  {
   "cell_type": "markdown",
   "id": "ea06b3ce",
   "metadata": {},
   "source": [
    "#### 1단계 - 시저암호"
   ]
  },
  {
   "cell_type": "code",
   "execution_count": 1,
   "id": "0084f9c0",
   "metadata": {
    "ExecuteTime": {
     "end_time": "2022-03-02T06:39:38.748353Z",
     "start_time": "2022-03-02T06:39:38.730374Z"
    }
   },
   "outputs": [],
   "source": [
    "def solution(s, n):\n",
    "    alphabets = list('abcdefghijklmnopqrstuvwxyz')\n",
    "    new_alphas = []\n",
    "    for alpha in list(s):\n",
    "        if alpha.isspace():\n",
    "            new_alphas.append(alpha)\n",
    "            continue\n",
    "            \n",
    "        new_idx = alphabets.index(alpha.lower()) + n\n",
    "        if new_idx > 25:\n",
    "            new_idx -= 26\n",
    "        \n",
    "        new_alphas.append(alphabets[new_idx].upper() if alpha.isupper() else alphabets[new_idx])\n",
    "        \n",
    "\n",
    "    return ''.join(new_alphas)"
   ]
  },
  {
   "cell_type": "markdown",
   "id": "1014da40",
   "metadata": {},
   "source": [
    "#### 1단계 - 두 개 뽑아서 더하기"
   ]
  },
  {
   "cell_type": "code",
   "execution_count": 3,
   "id": "49726a49",
   "metadata": {
    "ExecuteTime": {
     "end_time": "2022-03-02T06:40:09.529166Z",
     "start_time": "2022-03-02T06:40:09.517192Z"
    }
   },
   "outputs": [],
   "source": [
    "def solution(numbers):\n",
    "    result_lst = set()\n",
    "    for i in range(len(numbers)):\n",
    "        for j in range(len(numbers)):\n",
    "            if i != j:\n",
    "                result_lst.add(numbers[i] + numbers[j])\n",
    "    return sorted(list(result_lst))"
   ]
  },
  {
   "cell_type": "markdown",
   "id": "30e41b3c",
   "metadata": {
    "ExecuteTime": {
     "end_time": "2022-03-02T06:40:01.739253Z",
     "start_time": "2022-03-02T06:40:01.730315Z"
    }
   },
   "source": [
    "#### 1단계 - 모의고사"
   ]
  },
  {
   "cell_type": "code",
   "execution_count": 4,
   "id": "7f601140",
   "metadata": {
    "ExecuteTime": {
     "end_time": "2022-03-02T06:40:09.900168Z",
     "start_time": "2022-03-02T06:40:09.893185Z"
    }
   },
   "outputs": [],
   "source": [
    "def solution(answers):\n",
    "    \n",
    "    way01 = [1,2,3,4,5]\n",
    "    way02 = [2,1,2,3,2,4,2,5]\n",
    "    way03 = [3,3,1,1,2,2,4,4,5,5]\n",
    "    \n",
    "    scores = [0, 0, 0]\n",
    "    \n",
    "    for i in range(len(answers)):\n",
    "        if answers[i] == way01[i%5]:\n",
    "            scores[0] += 1\n",
    "        if answers[i] == way02[i%8]:\n",
    "            scores[1] += 1\n",
    "        if answers[i] == way03[i%10]:\n",
    "            scores[2] += 1\n",
    "    \n",
    "    print(scores)\n",
    "    return [idx+1 for idx, score in enumerate(scores) if score == max(scores)]"
   ]
  }
 ],
 "metadata": {
  "hide_input": false,
  "kernelspec": {
   "display_name": "Python 3 (ipykernel)",
   "language": "python",
   "name": "python3"
  },
  "language_info": {
   "codemirror_mode": {
    "name": "ipython",
    "version": 3
   },
   "file_extension": ".py",
   "mimetype": "text/x-python",
   "name": "python",
   "nbconvert_exporter": "python",
   "pygments_lexer": "ipython3",
   "version": "3.9.7"
  },
  "toc": {
   "base_numbering": 1,
   "nav_menu": {},
   "number_sections": false,
   "sideBar": true,
   "skip_h1_title": false,
   "title_cell": "Table of Contents",
   "title_sidebar": "Contents",
   "toc_cell": false,
   "toc_position": {},
   "toc_section_display": true,
   "toc_window_display": false
  },
  "varInspector": {
   "cols": {
    "lenName": 16,
    "lenType": 16,
    "lenVar": 40
   },
   "kernels_config": {
    "python": {
     "delete_cmd_postfix": "",
     "delete_cmd_prefix": "del ",
     "library": "var_list.py",
     "varRefreshCmd": "print(var_dic_list())"
    },
    "r": {
     "delete_cmd_postfix": ") ",
     "delete_cmd_prefix": "rm(",
     "library": "var_list.r",
     "varRefreshCmd": "cat(var_dic_list()) "
    }
   },
   "types_to_exclude": [
    "module",
    "function",
    "builtin_function_or_method",
    "instance",
    "_Feature"
   ],
   "window_display": false
  }
 },
 "nbformat": 4,
 "nbformat_minor": 5
}
