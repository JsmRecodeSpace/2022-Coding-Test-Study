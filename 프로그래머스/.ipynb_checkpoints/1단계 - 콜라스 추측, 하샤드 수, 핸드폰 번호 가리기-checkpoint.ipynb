{
 "cells": [
  {
   "cell_type": "markdown",
   "id": "2637bff4",
   "metadata": {},
   "source": [
    "#### 콜라스 추측"
   ]
  },
  {
   "cell_type": "code",
   "execution_count": 1,
   "id": "3ef1e5f8",
   "metadata": {
    "ExecuteTime": {
     "end_time": "2022-03-01T02:55:47.995955Z",
     "start_time": "2022-03-01T02:55:47.985013Z"
    }
   },
   "outputs": [],
   "source": [
    "def solution(num):\n",
    "    count = 0\n",
    "    while num != 1:\n",
    "        if count >= 500:\n",
    "            return -1\n",
    "        num = num // 2 if num % 2 == 0 else num * 3 + 1\n",
    "        count += 1\n",
    "    return count"
   ]
  },
  {
   "cell_type": "markdown",
   "id": "afa99ed2",
   "metadata": {},
   "source": [
    "#### 하샤드 수"
   ]
  },
  {
   "cell_type": "code",
   "execution_count": 2,
   "id": "ad477d6f",
   "metadata": {
    "ExecuteTime": {
     "end_time": "2022-03-01T02:55:48.260397Z",
     "start_time": "2022-03-01T02:55:48.247244Z"
    }
   },
   "outputs": [],
   "source": [
    "def solution(num):\n",
    "    sumOfDigit =  sum(int(i) for i in list(str(num)))\n",
    "    return True if num % sumOfDigit == 0 else False"
   ]
  },
  {
   "cell_type": "markdown",
   "id": "44e34070",
   "metadata": {},
   "source": [
    "#### 핸드폰 번호 가리기"
   ]
  },
  {
   "cell_type": "code",
   "execution_count": 3,
   "id": "335845e1",
   "metadata": {
    "ExecuteTime": {
     "end_time": "2022-03-01T02:55:48.525184Z",
     "start_time": "2022-03-01T02:55:48.513216Z"
    }
   },
   "outputs": [],
   "source": [
    "def solution(phone_number):\n",
    "    return '*' * (len(phone_number) - 4) + str(phone_number[-4:])"
   ]
  }
 ],
 "metadata": {
  "hide_input": false,
  "kernelspec": {
   "display_name": "Python 3 (ipykernel)",
   "language": "python",
   "name": "python3"
  },
  "language_info": {
   "codemirror_mode": {
    "name": "ipython",
    "version": 3
   },
   "file_extension": ".py",
   "mimetype": "text/x-python",
   "name": "python",
   "nbconvert_exporter": "python",
   "pygments_lexer": "ipython3",
   "version": "3.9.7"
  },
  "toc": {
   "base_numbering": 1,
   "nav_menu": {},
   "number_sections": true,
   "sideBar": true,
   "skip_h1_title": false,
   "title_cell": "Table of Contents",
   "title_sidebar": "Contents",
   "toc_cell": false,
   "toc_position": {},
   "toc_section_display": true,
   "toc_window_display": false
  },
  "varInspector": {
   "cols": {
    "lenName": 16,
    "lenType": 16,
    "lenVar": 40
   },
   "kernels_config": {
    "python": {
     "delete_cmd_postfix": "",
     "delete_cmd_prefix": "del ",
     "library": "var_list.py",
     "varRefreshCmd": "print(var_dic_list())"
    },
    "r": {
     "delete_cmd_postfix": ") ",
     "delete_cmd_prefix": "rm(",
     "library": "var_list.r",
     "varRefreshCmd": "cat(var_dic_list()) "
    }
   },
   "types_to_exclude": [
    "module",
    "function",
    "builtin_function_or_method",
    "instance",
    "_Feature"
   ],
   "window_display": false
  }
 },
 "nbformat": 4,
 "nbformat_minor": 5
}
