{
 "cells": [
  {
   "cell_type": "markdown",
   "id": "b7b4ead1",
   "metadata": {},
   "source": [
    "#### 행렬의 덧셈"
   ]
  },
  {
   "cell_type": "code",
   "execution_count": 3,
   "id": "44dfd018",
   "metadata": {
    "ExecuteTime": {
     "end_time": "2022-03-01T02:57:07.335775Z",
     "start_time": "2022-03-01T02:57:07.331782Z"
    }
   },
   "outputs": [],
   "source": [
    "import numpy as np\n",
    "def solution(arr1, arr2):\n",
    "    arr1 = np.array(arr1)\n",
    "    arr2 = np.array(arr2)\n",
    "    return (arr1 + arr2).tolist()"
   ]
  },
  {
   "cell_type": "markdown",
   "id": "bf3422b8",
   "metadata": {},
   "source": [
    "#### 직사각형 별 찍기"
   ]
  },
  {
   "cell_type": "code",
   "execution_count": 6,
   "id": "aac69914",
   "metadata": {
    "ExecuteTime": {
     "end_time": "2022-03-01T02:57:16.855514Z",
     "start_time": "2022-03-01T02:57:15.836297Z"
    }
   },
   "outputs": [
    {
     "name": "stdout",
     "output_type": "stream",
     "text": [
      "2 3\n",
      "**\n",
      "**\n",
      "**\n"
     ]
    }
   ],
   "source": [
    "n, m = map(int, input().strip().split(' '))\n",
    "\n",
    "for i in range(m):\n",
    "    print('*' * n, end='\\n')\n"
   ]
  },
  {
   "cell_type": "markdown",
   "id": "91f8af12",
   "metadata": {},
   "source": [
    "#### x만큼 간격이 있는 n개의 숫자"
   ]
  },
  {
   "cell_type": "code",
   "execution_count": 7,
   "id": "b68c8146",
   "metadata": {
    "ExecuteTime": {
     "end_time": "2022-03-01T02:57:18.790040Z",
     "start_time": "2022-03-01T02:57:18.780014Z"
    }
   },
   "outputs": [],
   "source": [
    "def solution(x, n):\n",
    "    return [i * x for i in range(1, n+1)]"
   ]
  }
 ],
 "metadata": {
  "hide_input": false,
  "kernelspec": {
   "display_name": "Python 3 (ipykernel)",
   "language": "python",
   "name": "python3"
  },
  "language_info": {
   "codemirror_mode": {
    "name": "ipython",
    "version": 3
   },
   "file_extension": ".py",
   "mimetype": "text/x-python",
   "name": "python",
   "nbconvert_exporter": "python",
   "pygments_lexer": "ipython3",
   "version": "3.9.7"
  },
  "toc": {
   "base_numbering": 1,
   "nav_menu": {},
   "number_sections": true,
   "sideBar": true,
   "skip_h1_title": false,
   "title_cell": "Table of Contents",
   "title_sidebar": "Contents",
   "toc_cell": false,
   "toc_position": {},
   "toc_section_display": true,
   "toc_window_display": false
  },
  "varInspector": {
   "cols": {
    "lenName": 16,
    "lenType": 16,
    "lenVar": 40
   },
   "kernels_config": {
    "python": {
     "delete_cmd_postfix": "",
     "delete_cmd_prefix": "del ",
     "library": "var_list.py",
     "varRefreshCmd": "print(var_dic_list())"
    },
    "r": {
     "delete_cmd_postfix": ") ",
     "delete_cmd_prefix": "rm(",
     "library": "var_list.r",
     "varRefreshCmd": "cat(var_dic_list()) "
    }
   },
   "types_to_exclude": [
    "module",
    "function",
    "builtin_function_or_method",
    "instance",
    "_Feature"
   ],
   "window_display": false
  }
 },
 "nbformat": 4,
 "nbformat_minor": 5
}
