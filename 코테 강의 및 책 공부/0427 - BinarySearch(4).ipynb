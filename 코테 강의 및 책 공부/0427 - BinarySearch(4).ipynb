{
 "cells": [
  {
   "cell_type": "markdown",
   "id": "61860a94",
   "metadata": {},
   "source": [
    "#### 정렬된 배열에서 특정 수의 개수 구하기"
   ]
  },
  {
   "cell_type": "code",
   "execution_count": null,
   "id": "5fe35037",
   "metadata": {},
   "outputs": [],
   "source": [
    "n, x = map(int, input().split())\n",
    "array = list(map(int, input().split()))\n",
    "\n",
    "# 파이썬의 이진 탐색 라이브러리인 bisect을 적절히 활용하면\n",
    "# 정렬된 수열에서 특정한 값을 가지는 원소의 개수를 손쉽게 해결할 수 있다\n",
    "\n",
    "from bisect import bisect_right, bisect_left\n",
    "\n",
    "# 값이 [left_value, right_value]인 데이터의 개수를 반환하는 함수\n",
    "def count_by_range(array, left_value, right_value):\n",
    "  right_index = bisect_right(array, right_value)\n",
    "  left_index = bisect_left(array, left_value)\n",
    "  return right_index - left_index\n",
    "\n",
    "# 값이 [x, x] 범위에 있는 데이터의 개수 계산\n",
    "count = count_by_range(array, x, x)\n",
    "\n",
    "# 값이 x인 원소가 존재하지 않는다면\n",
    "if count == 0:\n",
    "  print(-1)\n",
    "# 값이 x인 원소가 존재한다면\n",
    "else:\n",
    "  print(count)"
   ]
  },
  {
   "cell_type": "markdown",
   "id": "ba6301e5",
   "metadata": {},
   "source": [
    "#### 고정점 찾기"
   ]
  },
  {
   "cell_type": "code",
   "execution_count": null,
   "id": "ff5e7f77",
   "metadata": {},
   "outputs": [],
   "source": [
    "# 5\n",
    "# -15 -6 1 3 7\n",
    "\n",
    "n = int(input())\n",
    "array = list(map(int, input().split()))\n",
    "\n",
    "# 이진 탐색 소스코드 구현(재귀 함수)\n",
    "def binary_search(array, start, end):\n",
    "  if start > end:\n",
    "    return None\n",
    "  mid = (start + end) // 2\n",
    "  # 고정점을 찾은 경우 인덱스 반환\n",
    "  if array[mid] == mid:\n",
    "    return mid\n",
    "  # 중간점이 가리키는 위치의 값보다 중간점이 작은 경우 왼쪽 확인\n",
    "  elif array[mid] > mid:\n",
    "    return binary_search(array, start, mid - 1)\n",
    "  # 중간점이 가리키는 위치의 값보다 중간점이 큰 경우 오른쪽 확인\n",
    "  else:\n",
    "    return binary_search(array, mid + 1, end)\n",
    "\n",
    "# 이진 탐색(Binary Search) 수행\n",
    "index = binary_search(array, 0, n-1)\n",
    "\n",
    "# 고정점이 없는 경우 - 1 출력\n",
    "if index == None:\n",
    "  print(-1)\n",
    "else:\n",
    "  print(index)\n",
    "\n",
    "  "
   ]
  },
  {
   "cell_type": "markdown",
   "id": "06ed28b6",
   "metadata": {},
   "source": [
    "#### 공유기 설치"
   ]
  },
  {
   "cell_type": "markdown",
   "id": "ccbbc771",
   "metadata": {},
   "source": [
    "#### 가사 검색"
   ]
  },
  {
   "cell_type": "code",
   "execution_count": null,
   "id": "dfdd7fdf",
   "metadata": {},
   "outputs": [],
   "source": [
    "# words [\"frodo\", \"front\", \"frost\", \"frozen\", \"frame\", \"kakao\"]\n",
    "# queries [\"fro??\", \"????o\", \"fr???\", \"fro???\", \"pro?\"]\n",
    "# result [3, 2, 4, 1, 0]\n",
    "\n",
    "words = list(input().split())\n",
    "queries = list(input().split())\n",
    "\n",
    "from bisect import bisect_right, bisect_left\n",
    "\n",
    "# 값이 [left_value, right_value]인 데이터의 개수를 반환하는 함수\n",
    "def count_by_range(array, left_value, right_value):\n",
    "  right_index = bisect_right(array, right_value)\n",
    "  left_index = bisect_left(array, left_value)\n",
    "  return right_index - left_index\n",
    "\n",
    "# 모든 단어를 길이마다 나누어서 저장하기 위한 리스트\n",
    "array = [[] for _ in range(10001)]\n",
    "# 모든 단어를 길이마다 나누어서 뒤집어 저장하기 위한 리스트\n",
    "reversed_array = [[] for _ in range(10001)]\n",
    "\n",
    "def solution(words, queries):\n",
    "  answer = []\n",
    "  for word in words: # 모든 단어를 접미사 와일드카드 배열, 접두다 와일드카드 배열에 각각 삽입\n",
    "    array[len(word)].append(word) # 단어를 삽입\n",
    "    reversed_array[len(word)].append(word[::-1]) #단어를 뒤집어서 삽입\n",
    "\n",
    "  for i in range(10001): # 이진 탐색을 수행하기 위해 각 단어 리스트 정렬 수행\n",
    "    array[i].sort()\n",
    "    reversed_array[i].sort()\n",
    "\n",
    "  for q in queries: # 쿼리르르 하나씩 확인하며 처리\n",
    "    if q[0] != '?': # 접미사에 와일드카드가 붙은 경우\n",
    "      res = count_by_range(array[len(q)], q.replace('?', 'a'), q.replace('?', 'z'))\n",
    "    else: # 접두사에 와일드카드가 붙은 경우\n",
    "      res = count_by_range(reversed_array[len(q)], q[::-1].replace('?', 'a'), q[::-1].replace('?', 'z'))\n",
    "    # 검색된 단어의 개수를 저장\n",
    "    answer.append(res)\n",
    "\n",
    "  return answer\n",
    "\n",
    "\n",
    "  "
   ]
  }
 ],
 "metadata": {
  "hide_input": false,
  "kernelspec": {
   "display_name": "Python 3 (ipykernel)",
   "language": "python",
   "name": "python3"
  },
  "language_info": {
   "codemirror_mode": {
    "name": "ipython",
    "version": 3
   },
   "file_extension": ".py",
   "mimetype": "text/x-python",
   "name": "python",
   "nbconvert_exporter": "python",
   "pygments_lexer": "ipython3",
   "version": "3.9.7"
  },
  "varInspector": {
   "cols": {
    "lenName": 16,
    "lenType": 16,
    "lenVar": 40
   },
   "kernels_config": {
    "python": {
     "delete_cmd_postfix": "",
     "delete_cmd_prefix": "del ",
     "library": "var_list.py",
     "varRefreshCmd": "print(var_dic_list())"
    },
    "r": {
     "delete_cmd_postfix": ") ",
     "delete_cmd_prefix": "rm(",
     "library": "var_list.r",
     "varRefreshCmd": "cat(var_dic_list()) "
    }
   },
   "types_to_exclude": [
    "module",
    "function",
    "builtin_function_or_method",
    "instance",
    "_Feature"
   ],
   "window_display": false
  }
 },
 "nbformat": 4,
 "nbformat_minor": 5
}
