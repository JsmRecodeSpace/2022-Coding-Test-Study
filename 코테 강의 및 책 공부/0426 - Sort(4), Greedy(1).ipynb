{
 "cells": [
  {
   "cell_type": "markdown",
   "id": "e0ed60fd",
   "metadata": {},
   "source": [
    "#### 국영수"
   ]
  },
  {
   "cell_type": "code",
   "execution_count": null,
   "id": "36e58de9",
   "metadata": {},
   "outputs": [],
   "source": [
    "# 12\n",
    "# Junkyu 50 60 100\n",
    "# Sangkeun 80 60 50\n",
    "# Sunyoung 80 70 100\n",
    "\n",
    "n = int(input())\n",
    "infos = []\n",
    "for i in range(n):\n",
    "  infos.append(list(input().split()))\n",
    "\n",
    "names = sorted(infos, key=lambda info : (-int(info[1]),\n",
    "              int/(info[2]), -int(info[3]), info[0]))\n",
    "\n",
    "print(names)"
   ]
  },
  {
   "cell_type": "markdown",
   "id": "22ad8759",
   "metadata": {},
   "source": [
    "#### 안테나"
   ]
  },
  {
   "cell_type": "code",
   "execution_count": null,
   "id": "1608e7cf",
   "metadata": {},
   "outputs": [],
   "source": [
    "# 4\n",
    "# 5 1 7 9\n",
    "\n",
    "n = int(input())\n",
    "array = list(map(int, input().split()))\n",
    "\n",
    "import numpy as np\n",
    "\n",
    "houses = np.array(sorted(array))\n",
    "distance = 1e9\n",
    "answer = 0\n",
    "for num in houses:\n",
    "  result = sum(abs(houses - num))\n",
    "  if distance > result:\n",
    "    distance = result\n",
    "    answer = num\n",
    "\n",
    "print(answer)"
   ]
  },
  {
   "cell_type": "markdown",
   "id": "70a0c922",
   "metadata": {},
   "source": [
    "#### 실패율"
   ]
  },
  {
   "cell_type": "code",
   "execution_count": null,
   "id": "e3107d25",
   "metadata": {},
   "outputs": [],
   "source": [
    "# N = 5\n",
    "# stages = [2,1, 2, 6, 2, 4, 3, 3]\n",
    "# result = [3, 4, 2, 1, 5]\n",
    "\n",
    "n = int(input())\n",
    "stages = list(map(int, input().split()))\n",
    "\n",
    "fail_ratio = []\n",
    "stages.sort()\n",
    "ppl = len(stages)\n",
    "\n",
    "for level in range(1, n+1):\n",
    "  not_clear = stages.count(level)\n",
    "  ratio = not_clear / ppl\n",
    "  ppl = ppl - not_clear\n",
    "  fail_ratio.append((level, ratio))\n",
    "\n",
    "print([info[0] for info in sorted(fail_ratio, key=lambda info : info[1], reverse=True)])"
   ]
  },
  {
   "cell_type": "markdown",
   "id": "fb4075c6",
   "metadata": {},
   "source": [
    "#### 카드 정렬하기"
   ]
  },
  {
   "cell_type": "code",
   "execution_count": null,
   "id": "b6b877b8",
   "metadata": {},
   "outputs": [],
   "source": [
    "# 3\n",
    "# 10, 20, 40\n",
    "# result: 100\n",
    "\n",
    "n = int(input())\n",
    "array = []\n",
    "for i in range(n):\n",
    "  array.append(int(input()))\n",
    "\n",
    "array.sort()\n",
    "\n",
    "answer = array[0] + array[1]\n",
    "for i in range(2, len(array)):\n",
    "  answer += answer + array[i]\n",
    "\n",
    "print(answer)"
   ]
  },
  {
   "cell_type": "markdown",
   "id": "3d2cf7a3",
   "metadata": {
    "ExecuteTime": {
     "end_time": "2022-04-26T12:31:36.281076Z",
     "start_time": "2022-04-26T12:31:31.361249Z"
    }
   },
   "source": [
    "#### 볼링공 고르기"
   ]
  },
  {
   "cell_type": "code",
   "execution_count": null,
   "id": "035a8f6c",
   "metadata": {
    "ExecuteTime": {
     "end_time": "2022-04-26T12:31:36.281076Z",
     "start_time": "2022-04-26T12:31:31.361249Z"
    }
   },
   "outputs": [],
   "source": [
    "# 5 3 \n",
    "# 1 3 2 3 2\n",
    "# 8\n",
    "\n",
    "n, m = map(int, input().split())\n",
    "array = list(map(int, input().split()))\n",
    "\n",
    "answer = 0\n",
    "for i in range(len(array)):\n",
    "  for j in range(len(array)):\n",
    "    if i > j and array[i] != array[j]:\n",
    "      answer += 1\n",
    "\n",
    "print(answer)\n",
    "\n",
    "  "
   ]
  }
 ],
 "metadata": {
  "hide_input": false,
  "kernelspec": {
   "display_name": "Python 3 (ipykernel)",
   "language": "python",
   "name": "python3"
  },
  "language_info": {
   "codemirror_mode": {
    "name": "ipython",
    "version": 3
   },
   "file_extension": ".py",
   "mimetype": "text/x-python",
   "name": "python",
   "nbconvert_exporter": "python",
   "pygments_lexer": "ipython3",
   "version": "3.9.7"
  },
  "varInspector": {
   "cols": {
    "lenName": 16,
    "lenType": 16,
    "lenVar": 40
   },
   "kernels_config": {
    "python": {
     "delete_cmd_postfix": "",
     "delete_cmd_prefix": "del ",
     "library": "var_list.py",
     "varRefreshCmd": "print(var_dic_list())"
    },
    "r": {
     "delete_cmd_postfix": ") ",
     "delete_cmd_prefix": "rm(",
     "library": "var_list.r",
     "varRefreshCmd": "cat(var_dic_list()) "
    }
   },
   "types_to_exclude": [
    "module",
    "function",
    "builtin_function_or_method",
    "instance",
    "_Feature"
   ],
   "window_display": false
  }
 },
 "nbformat": 4,
 "nbformat_minor": 5
}
