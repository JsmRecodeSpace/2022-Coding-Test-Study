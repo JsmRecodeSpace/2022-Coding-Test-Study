{
 "cells": [
  {
   "cell_type": "markdown",
   "id": "9aec03fc",
   "metadata": {},
   "source": [
    "#### 럭키 스트레이트 - 정답"
   ]
  },
  {
   "cell_type": "code",
   "execution_count": null,
   "id": "56e86560",
   "metadata": {},
   "outputs": [],
   "source": [
    "# 123402 -> LUCKY\n",
    "# 7755 -> READY\n",
    "\n",
    "n = input()\n",
    "length = len(n) # 점수값의 총 자릿수\n",
    "summary = 0\n",
    "\n",
    "# 왼쪽 부분의 자릿수 합 더하기\n",
    "for i in range(length // 2):\n",
    "  summary += int(n[i])\n",
    "\n",
    "# 오른쪽 부분의 자릿수 합 빼기\n",
    "for i in range(length // 2, length):\n",
    "  summary -= int(n[i])\n",
    "\n",
    "# 왼쪽 부분과 오른쪽 부분의 자릿수 합이 동일한지 검사\n",
    "if summary == 0:\n",
    "  print('LUCKY')\n",
    "else: \n",
    "  print('READY')"
   ]
  },
  {
   "cell_type": "markdown",
   "id": "c984856a",
   "metadata": {},
   "source": [
    "#### 문자열 재정렬"
   ]
  },
  {
   "cell_type": "code",
   "execution_count": null,
   "id": "f522c1b7",
   "metadata": {},
   "outputs": [],
   "source": [
    "# K1KA5CB7 -> ABCKK13\n",
    "# AJKDLSI412K4JSJ9D -> ADDIJJJKKLSS20\n",
    "\n",
    "string_ = input()\n",
    "\n",
    "num_lst = []\n",
    "alpha_lst = []\n",
    "\n",
    "for s in string_:\n",
    "  if s.isdigit():\n",
    "    num_lst.append(int(s))\n",
    "  else:\n",
    "    alpha_lst.append(s)\n",
    "\n",
    "alpha_lst.sort()\n",
    "\n",
    "print(''.join(alpha_lst) + str(sum(num_lst)))"
   ]
  },
  {
   "cell_type": "markdown",
   "id": "c2a57993",
   "metadata": {},
   "source": [
    "#### 문자열 압축"
   ]
  },
  {
   "cell_type": "code",
   "execution_count": null,
   "id": "e235bd8e",
   "metadata": {},
   "outputs": [],
   "source": [
    "# 'aabbaccc' -> 7\n",
    "# 'ababcdcdababcdcd' -> 9\n",
    "# 'abcabcdede' -> 8\n",
    "# 'abcabcabcabcdededededede' -> 14\n",
    "# 'xababcdcdababcdcd' -> 17\n",
    "\n",
    "string_ = input()\n",
    "\n",
    "compress_lst = []\n",
    "for i in range(1, len(string_) // 2 + 1):\n",
    "  compresses = []\n",
    "  q = string_[:i] # 2\n",
    "  for j in range(i, len(string_), i): # 1:8\n",
    "    if q[:i] == string_[j:j+i]: # s_[1:2]\n",
    "      q += string_[j:j+i] # s_[1:2]\n",
    "    else:\n",
    "      if len(q) == i: # i = 1\n",
    "        compresses.append(q)\n",
    "      else:\n",
    "        compresses.append(str(len(q)) + q[:i])\n",
    "      q = ''\n",
    "      q += string_[j:j+i]\n",
    "  \n",
    "  if q:\n",
    "    if i == 1:\n",
    "      compresses.append(str(len(q)) + q[:i])\n",
    "    else:\n",
    "      compresses.append(q[:])\n",
    "\n",
    "\n",
    "  compress = ''.join(compresses)\n",
    "  compress_lst.append(len(compress))  \n",
    "  \n",
    "print(min(compress_lst))"
   ]
  },
  {
   "cell_type": "markdown",
   "id": "da2d45ed",
   "metadata": {},
   "source": [
    "#### 자물쇠와 열쇠"
   ]
  },
  {
   "cell_type": "code",
   "execution_count": null,
   "id": "afa2d9e0",
   "metadata": {},
   "outputs": [],
   "source": [
    "# key = [[0,0,0],[1,0,0],[0,1,1]]\n",
    "# lock = [[1,1,1],[1,1,0],[1,0,1]]\n",
    "# result = true\n",
    "\n",
    "# 2차원 리스트 90도 회전\n",
    "def rotate_a_matrix_by_90_degree(a):\n",
    "  n = len(a) # 행 길이 계산\n",
    "  m = len(a[0]) # 열 길이 계산\n",
    "  result = [[0] * n for _ in range(m)] # 결과 리스트\n",
    "  for i in range(n):\n",
    "    for j in range(m):\n",
    "      result[j][n - i - 1] = a[i][j]\n",
    "  return result\n",
    "\n",
    "# 자물쇠의 중간 부분이 모두 1인지 확인\n",
    "def check(new_lock):\n",
    "  lock_length = len(new_lock) // 3\n",
    "  for i in range(lock_length, lock_length * 2):\n",
    "    for j in range(lock_length, lock_length * 2):\n",
    "      if new_lock[i][j] != 1:\n",
    "        return False\n",
    "  return True\n",
    "\n",
    "def solution(key, lock):\n",
    "  n = len(lock)\n",
    "  m = len(key)\n",
    "  # 자물쇠의 크기를 기존의 3배로 변환\n",
    "  new_lock = [[0] * (n * 3) for _ in range(n * 3)]\n",
    "  # 새로운 자물쇠의 중앙 부분에 기존의 자물쇠 넣기\n",
    "  for i in range(n):\n",
    "    for j in range(n):\n",
    "      new_lock[i + n][j + n] = lock[i][j]\n",
    "\n",
    "  # 4가지 방향에 대해서 확인\n",
    "  for rotation in range(4):\n",
    "    key = rotate_a_matrix_by_90_degree(key) # 열쇠 회전\n",
    "    for x in range(n * 2):\n",
    "      for y in range(n * 2):\n",
    "        # 자물쇠에 열쇠를 끼워 넣기\n",
    "        for i in range(m):\n",
    "          for j in range(m):\n",
    "            new_lock[x + i][y + j] += key[i][j]\n",
    "        # 새로운 자물쇠에 열쇠가 정확히 들어맞는지 검사\n",
    "        if check(new_lock) == True:\n",
    "          return True\n",
    "        # 자물쇠엥서 열쇠를 다시 빼기\n",
    "        for i in range(m):\n",
    "          for j in range(m):\n",
    "            new_lock[x + i][y + j] -= key[i][j]\n",
    "\n",
    "  return False\n",
    "          "
   ]
  }
 ],
 "metadata": {
  "hide_input": false,
  "kernelspec": {
   "display_name": "Python 3 (ipykernel)",
   "language": "python",
   "name": "python3"
  },
  "language_info": {
   "codemirror_mode": {
    "name": "ipython",
    "version": 3
   },
   "file_extension": ".py",
   "mimetype": "text/x-python",
   "name": "python",
   "nbconvert_exporter": "python",
   "pygments_lexer": "ipython3",
   "version": "3.9.7"
  },
  "varInspector": {
   "cols": {
    "lenName": 16,
    "lenType": 16,
    "lenVar": 40
   },
   "kernels_config": {
    "python": {
     "delete_cmd_postfix": "",
     "delete_cmd_prefix": "del ",
     "library": "var_list.py",
     "varRefreshCmd": "print(var_dic_list())"
    },
    "r": {
     "delete_cmd_postfix": ") ",
     "delete_cmd_prefix": "rm(",
     "library": "var_list.r",
     "varRefreshCmd": "cat(var_dic_list()) "
    }
   },
   "types_to_exclude": [
    "module",
    "function",
    "builtin_function_or_method",
    "instance",
    "_Feature"
   ],
   "window_display": false
  }
 },
 "nbformat": 4,
 "nbformat_minor": 5
}
