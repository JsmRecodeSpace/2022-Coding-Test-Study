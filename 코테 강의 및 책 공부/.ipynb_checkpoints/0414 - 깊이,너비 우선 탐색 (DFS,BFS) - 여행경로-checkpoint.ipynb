{
 "cells": [
  {
   "cell_type": "markdown",
   "id": "2fc303ff",
   "metadata": {},
   "source": [
    "## 1. 깊이 우선 탐색 (DFS; Depth-First Search)\n",
    " - 한 정점에서 인접한 모든(아직 방문하지 않은) 정점을 방문하되,  \n",
    "   각 인접 정점을 기준으로 깊이 우선 탐색을 끝낸 후  \n",
    "   다음 정점으로 진행  \n",
    " - 스택을 이용하여 어느 정점에서 DFS를 하고 있는지를 기억하고 되돌아감\n",
    " \n",
    " \n",
    "## 2. 너비 우선 탐색 (BFS; Breadth-First Search)\n",
    " - 한 정점에서 인접한 모든(아직 방문하지 않은) 정점을 방문하고,  \n",
    "   방문한 각 인접 정점을 기준으로 (방문한 순서에 따라)  \n",
    "   또 다시 너비 우선 탐색을 행함  \n",
    " - 큐를 이용하여 어느 정점에서 BFS를 해야 하는지 기록하고 진행함"
   ]
  },
  {
   "cell_type": "markdown",
   "id": "5ba56db8",
   "metadata": {},
   "source": [
    "#### 배경지식\n",
    " - 그래프 (graphs)\n",
    "    - 정점(vertex, node)과 간선(edge, link)\n",
    "    - 유향(directed) 그래프와 무향(undirected) 그래프\n",
    " - 스택(stack)\n",
    " - 큐(queue)"
   ]
  },
  {
   "cell_type": "markdown",
   "id": "3f3940ed",
   "metadata": {},
   "source": [
    "#### 1. 여행경로\n",
    "\n",
    "#### 문제의 해결 - 깊이 우선 탐색 (DFS)을 응용\n",
    " - 한 붓 그리기 !\n",
    "    - 이것이 가능함은 문제에서 보장되어 있음\n",
    " - 시작 정점은 언제나 \"ICN\"\n",
    " - 모든 정점 방문이 아니고, 모든 간선을 거쳐야\n",
    "    - 언젠가는 한 번 가야 하는데, 그 순서를 결정하라\n",
    " - 한 정점에서 택할 수 있는 간선이 두 개 이상인 경우?\n",
    "    - 공함 이름의 알파벳 순서를 따른다\n",
    "\n",
    "\n",
    "#### 알고리즘의 설계\n",
    " - 스택을 이용하여 재귀적인 \"한 붓 그리기\" 문제를 해결\n",
    "   -> DFS 알고리즘의 응용\n",
    "\n",
    "#### 요약\n",
    " - 재귀적인 성질을 가진 \"한 붓 그리기\" 문제\n",
    "    -> 재귀적인 성질을 가진\n",
    "         \"그래프의 깊이 우선 탐색\"을 응용하여 해결\n",
    "\n",
    "\n",
    "\n",
    "#### 깊이/너비 우선 탐색 (DFS / BFS) - 여행경로\n",
    " - 그래프의 표현: 사전을 이용하여 각 공항에서 출발하는 항공권의 리스트(알파벳 순서가 있기 때문)를 표현\n",
    "    - 알파벳 역순으로 정렬!"
   ]
  },
  {
   "cell_type": "code",
   "execution_count": null,
   "id": "a0ef3f71",
   "metadata": {},
   "outputs": [],
   "source": [
    "def solution(tickets):\n",
    "    routes = {}\n",
    "    for t in tickets:\n",
    "        routes[t[0]] = routes.get(t[0], []) + [t[1]]\n",
    "    for r in routes:\n",
    "        routes[r].sort(reverse=True)    \n",
    "\n",
    "    stack = [\"ICN\"]\n",
    "    path = []\n",
    "    while len(stack) > 0:\n",
    "        top = stack[-1]\n",
    "        if top not in routes or len(routes[top]) == 0:\n",
    "            path.append(stack.pop())\n",
    "        else:\n",
    "            stack.append(routes[top][-1])\n",
    "            routes[top] = routes[top][:-1]\n",
    "\n",
    "    return path[::-1]"
   ]
  },
  {
   "cell_type": "code",
   "execution_count": null,
   "id": "09f58cfa",
   "metadata": {},
   "outputs": [],
   "source": [
    "def solution(tickets):\n",
    " \n",
    "    depart_arrive = {}\n",
    "    for ticket in tickets:\n",
    "        depart_arrive[ticket[0]] = depart_arrive.get(ticket[0], []) + [ticket[1]]\n",
    "    for depart in depart_arrive:\n",
    "        depart_arrive[depart].sort(reverse=True)\n",
    "    \n",
    "    path = []\n",
    "    stack = ['ICN']\n",
    "    while len(stack) > 0:\n",
    "        top = stack[-1]\n",
    "        if top not in depart_arrive or len(depart_arrive[top]) == 0:    \n",
    "            path.append(stack.pop())\n",
    "        else:\n",
    "            stack.append(depart_arrive[top].pop())\n",
    "\n",
    "    return path[::-1]"
   ]
  }
 ],
 "metadata": {
  "hide_input": false,
  "kernelspec": {
   "display_name": "Python 3 (ipykernel)",
   "language": "python",
   "name": "python3"
  },
  "language_info": {
   "codemirror_mode": {
    "name": "ipython",
    "version": 3
   },
   "file_extension": ".py",
   "mimetype": "text/x-python",
   "name": "python",
   "nbconvert_exporter": "python",
   "pygments_lexer": "ipython3",
   "version": "3.9.7"
  },
  "varInspector": {
   "cols": {
    "lenName": 16,
    "lenType": 16,
    "lenVar": 40
   },
   "kernels_config": {
    "python": {
     "delete_cmd_postfix": "",
     "delete_cmd_prefix": "del ",
     "library": "var_list.py",
     "varRefreshCmd": "print(var_dic_list())"
    },
    "r": {
     "delete_cmd_postfix": ") ",
     "delete_cmd_prefix": "rm(",
     "library": "var_list.r",
     "varRefreshCmd": "cat(var_dic_list()) "
    }
   },
   "types_to_exclude": [
    "module",
    "function",
    "builtin_function_or_method",
    "instance",
    "_Feature"
   ],
   "window_display": false
  }
 },
 "nbformat": 4,
 "nbformat_minor": 5
}
