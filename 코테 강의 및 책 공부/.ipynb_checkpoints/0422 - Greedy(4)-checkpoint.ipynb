{
 "cells": [
  {
   "cell_type": "markdown",
   "id": "b16cefa2",
   "metadata": {},
   "source": [
    "#### 곱하기 혹은 더하기"
   ]
  },
  {
   "cell_type": "code",
   "execution_count": null,
   "id": "92836a89",
   "metadata": {},
   "outputs": [],
   "source": [
    "# 02984\n",
    "# 567\n",
    "\n",
    "s = input()\n",
    "\n",
    "answer = 0\n",
    "\n",
    "for num in list(s):\n",
    "    sum_result = answer + int(num)\n",
    "    mul_result = answer * int(num)\n",
    "    bigger_result = max([sum_result, mul_result])\n",
    "    answer = bigger_result\n",
    "\n",
    "print(answer)"
   ]
  },
  {
   "cell_type": "markdown",
   "id": "58f811c2",
   "metadata": {},
   "source": [
    "#### 모험가 길드"
   ]
  },
  {
   "cell_type": "code",
   "execution_count": null,
   "id": "a6236e6f",
   "metadata": {},
   "outputs": [],
   "source": [
    "# 5\n",
    "# 2 3 1 2 2\n",
    "\n",
    "n = int(input())\n",
    "data = list(map(int, input().split()))\n",
    "data.sort()\n",
    "\n",
    "result = 0 # 총 그룹의 수\n",
    "count = 0 # 현재 그룹에 포함된 모험가의 수\n",
    "\n",
    "for i in data: # 공포도 낮은 것부터 하나씩 확인\n",
    "  count += 1 # 현재 그룹에 해당 모함가를 포함시키기\n",
    "  if count >= i: # 현재 그룹에 포함된 모함가의 수가 현재 공포도 이상이라면, 그룹 결성\n",
    "    result += 1\n",
    "    count = 0\n",
    "\n",
    "print(result)"
   ]
  },
  {
   "cell_type": "markdown",
   "id": "d5f9f1f7",
   "metadata": {},
   "source": [
    "#### 만들 수 없는 금액"
   ]
  },
  {
   "cell_type": "code",
   "execution_count": null,
   "id": "89d91f91",
   "metadata": {},
   "outputs": [],
   "source": [
    "# 5\n",
    "# 3 2 1 1 9\n",
    "from itertools import combinations\n",
    "\n",
    "n = int(input())\n",
    "coins = list(map(int, input().split()))\n",
    "\n",
    "coins.sort()\n",
    "start = 1\n",
    "compare = 0\n",
    "\n",
    "last = 0\n",
    "while True:\n",
    "  if start in coins:\n",
    "    start += 1\n",
    "  else:\n",
    "    if last == coins[-1]:\n",
    "      break\n",
    "    for i in range(2, len(coins)):\n",
    "      last = coins[i]\n",
    "      for combi in combinations(coins, i):\n",
    "        if sum(combi) == start:\n",
    "          start += 1\n",
    "          continue\n",
    "      continue\n",
    "    \n",
    "print(start)    "
   ]
  },
  {
   "cell_type": "markdown",
   "id": "8498459e",
   "metadata": {},
   "source": [
    "#### 문자열 뒤집기"
   ]
  },
  {
   "cell_type": "code",
   "execution_count": null,
   "id": "bfabe773",
   "metadata": {},
   "outputs": [],
   "source": [
    "# 0001100\n",
    "\n",
    "data = input()\n",
    "\n",
    "count0 = 0 # 전부 0으로 바꾸는 경우\n",
    "count1 = 0 # 전부 1로 바꾸는 경우\n",
    "\n",
    "# 첫 번째 원소에 대해서 처리\n",
    "if data[0] == '1':\n",
    "  count0 += 1\n",
    "else:\n",
    "  count1 += 1\n",
    "\n",
    "# 두 번째 원소부터 모든 원소를 확인하며\n",
    "for i in range(len(data) - 1):\n",
    "  if data[i] != data[i + 1]:\n",
    "    # 다음 수에서 1로 바뀌는 경우\n",
    "    if data[i + 1] == '1':\n",
    "      count0 += 1\n",
    "    # 다음 수에서 0으로 바뀌는 경우\n",
    "    else:\n",
    "      count1 += 1\n",
    "\n",
    "print(min(count0, count1))\n",
    "      "
   ]
  }
 ],
 "metadata": {
  "hide_input": false,
  "kernelspec": {
   "display_name": "Python 3 (ipykernel)",
   "language": "python",
   "name": "python3"
  },
  "language_info": {
   "codemirror_mode": {
    "name": "ipython",
    "version": 3
   },
   "file_extension": ".py",
   "mimetype": "text/x-python",
   "name": "python",
   "nbconvert_exporter": "python",
   "pygments_lexer": "ipython3",
   "version": "3.9.7"
  },
  "varInspector": {
   "cols": {
    "lenName": 16,
    "lenType": 16,
    "lenVar": 40
   },
   "kernels_config": {
    "python": {
     "delete_cmd_postfix": "",
     "delete_cmd_prefix": "del ",
     "library": "var_list.py",
     "varRefreshCmd": "print(var_dic_list())"
    },
    "r": {
     "delete_cmd_postfix": ") ",
     "delete_cmd_prefix": "rm(",
     "library": "var_list.r",
     "varRefreshCmd": "cat(var_dic_list()) "
    }
   },
   "types_to_exclude": [
    "module",
    "function",
    "builtin_function_or_method",
    "instance",
    "_Feature"
   ],
   "window_display": false
  }
 },
 "nbformat": 4,
 "nbformat_minor": 5
}
