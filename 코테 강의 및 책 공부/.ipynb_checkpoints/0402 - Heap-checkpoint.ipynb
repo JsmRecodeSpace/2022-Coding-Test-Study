{
 "cells": [
  {
   "cell_type": "markdown",
   "id": "1e9c8625",
   "metadata": {},
   "source": [
    "힙 (Heaps)\n",
    "\n",
    "# 힙(Heap) 이란?\n",
    " - 이진 트리의 한 종류 (이진 힙 - binary heap)\n",
    "1. 루트 (root) 노드가 언제나 최댓값 또는 최솟값을 가짐\n",
    " - 최대 힙 (max heap), 최소 힙 (min heap)\n",
    "2. 완전 이진 트리여야 함\n",
    "\n",
    "이진 탐색 트리와의 비교\n",
    "1. 원소들은 완전히 크기 순으로 정렬되어 있는가?\n",
    "2. 특정 키 값을 가지는 원소를 빠르게 검색할 수 있는가?\n",
    "3. 부가의 제약 조건은 어떤 것인가?\n",
    "\n",
    "최대 힙(Max Heap)의 추상적 자료구조\n",
    "\n",
    "연산의 정의\n",
    " - __init__() - 빈 최대 힙을 생성\n",
    " - insert(item) - 새로운 원소를 삽입\n",
    " - remove() - 최대 원소 (root node)를 반환 (그리고 동시에 이 노드를 삭제)\n",
    "\n",
    "# 데이터 표현의 설계\n",
    "배열을 이용한 이진 트리의 표현\n",
    "노드 번호 m을 기준으로\n",
    " - 왼쪽 자식의 번호: 2 * m\n",
    " - 오른쪽 자식의 번호: 2 * m + 1\n",
    " - 부모 노드의 번호: m // 2\n",
    "완전 이진 트리이므로\n",
    " - 노드의 추가/삭제는 마지막 노드에서만"
   ]
  },
  {
   "cell_type": "markdown",
   "id": "a0ae9452",
   "metadata": {},
   "source": [
    "\n",
    "\n",
    "# 최대 힙에 원소 삽입\n",
    "1. 트리의 마지막 자리에 새로운 원소리를 임시로 저장\n",
    "2. 부모 노드와 키값을 비교하여 위로, 위로, 이동\n",
    "\n",
    "# 최대 힙에 원소 삽입 - 복잡도\n",
    "- 원소의 개수가 n인 최대 힙에 새로운 원소 삽입\n",
    " -> 부모 노드와의 대소 비교 최대 회수: log_2(n)\n",
    " -> 최악 복잡도 O(log(n))복잡도 연산\n",
    "\n",
    "# 삽입 연산의 구현 - insert(item) 메서드\n",
    "class MaxHeap:\n",
    "    def insert(self, item):\n",
    "        ...\n",
    "\n",
    "힌트: pythonn에서 두 변수의 값 바꾸기\n",
    "a = 3; b = 5\n",
    "a,b = b,a"
   ]
  },
  {
   "cell_type": "markdown",
   "id": "36cde2ea",
   "metadata": {},
   "source": [
    "# 최대 힙에서 원소의 삭제\n",
    "1. 루트 노드의 제거 - 이것이 원소들 중 최댓값\n",
    "2. 트리 마지막 자리 노드를 임시로 루트 노드의 자리에 배치\n",
    "3. 자식 노드들과의 값 비교로 아래로, 아래로 이동\n",
    " - 자식은 둘 있을 수도 있는데, 어느 쪽으로 이동?\n",
    " - 더 큰 키 값을 가지는 쪽으로!\n",
    "\n",
    "# 최대 힙으로부터 원소 삭제 - 복잡도\n",
    "원소의 개수가 n인 최대 힙에서 최대 원소 삭제\n",
    " -> 자식 노드들과의 대소 비교 최대 회수: 2 x log_2(n)\n",
    " -> 최악 복잡도 O(log(n))의 삭제 연산"
   ]
  },
  {
   "cell_type": "code",
   "execution_count": null,
   "id": "2e6b0307",
   "metadata": {},
   "outputs": [],
   "source": [
    "class MaxHeap:\n",
    "\n",
    "    def __init__(self):\n",
    "        self.data = [None]\n",
    "\n",
    "\n",
    "    def insert(self, item):\n",
    "        self.data.append(item)\n",
    "        m = self.data.index(item)\n",
    "        \n",
    "        while m > 1:\n",
    "            if self.data[m//2] < self.data[m]:\n",
    "                self.data[m//2], self.data[m] = self.data[m], self.data[m//2]\n",
    "                m = m // 2\n",
    "            else:\n",
    "                break\n",
    "                \n",
    "                \n",
    "    def remove(self):\n",
    "        if len(self.data) > 1:\n",
    "            self.data[1], self.data[-1] = self.data[-1], self.data[1]\n",
    "            data = self.data.pop(-1)\n",
    "            self.maxHeapify(1)\n",
    "        else:\n",
    "            data = None\n",
    "        return data\n",
    "\n",
    "\n",
    "    def maxHeapify(self, i):\n",
    "        # 왼쪽 자식 (left child) 의 인덱스를 계산합니다.\n",
    "        left = 2 * i\n",
    "\n",
    "        # 오른쪽 자식 (right child) 의 인덱스를 계산합니다.\n",
    "        right = 2 * i + 1\n",
    "\n",
    "        smallest = i\n",
    "        # 왼쪽 자식이 존재하는지, 그리고 왼쪽 자식의 (키) 값이 (무엇보다?) 더 큰지를 판단합니다.\n",
    "        if left < len(self.data) and self.data[left] > self.data[smallest]:\n",
    "            # 조건이 만족하는 경우, smallest 는 왼쪽 자식의 인덱스를 가집니다.\n",
    "            smallest = left\n",
    "\n",
    "        # 오른쪽 자식이 존재하는지, 그리고 오른쪽 자식의 (키) 값이 (무엇보다?) 더 큰지를 판단합니다.\n",
    "        if right < len(self.data) and self.data[right] > self.data[smallest]:\n",
    "            # 조건이 만족하는 경우, smallest 는 오른쪽 자식의 인덱스를 가집니다.\n",
    "            smallest = right\n",
    "        if smallest != i:\n",
    "            # 현재 노드 (인덱스 i) 와 최댓값 노드 (왼쪽 아니면 오른쪽 자식) 를 교체합니다.\n",
    "            self.data[i], self.data[smallest] = self.data[smallest], self.data[i]\n",
    "            # 재귀적 호출을 이용하여 최대 힙의 성질을 만족할 때까지 트리를 정리합니다.\n",
    "            self.maxHeapify(smallest)"
   ]
  },
  {
   "cell_type": "markdown",
   "id": "b3b30c94",
   "metadata": {},
   "source": [
    "# 최대/최소 힙의 응용\n",
    "1. 우선 순위 큐 (priority queue)\n",
    " - Enqueue할 때 \"느슨한 정렬\"을 이루고 있도록 함: O(log(n))\n",
    " - Dequeue할 때 최댓값을 순서대로 추출: O(log(n))\n",
    " - 제 16강에서의 양방향 연결 리스트 이용 구현과 효율성 비교\n",
    "2 힙 정렬 (heap sort)\n",
    " - 정렬되지 않은 원소들을 아무 순서로나 최대 힙에 삽입\n",
    " - 삽입이 끝나면, 힙이 비게 될 때까지 하나씩 삭제\n",
    " - 원소들이 삭제된 순서가 원소들의 정렬 순서\n",
    " - 정렬 알고리즘의 복잡도"
   ]
  }
 ],
 "metadata": {
  "hide_input": false,
  "kernelspec": {
   "display_name": "Python 3 (ipykernel)",
   "language": "python",
   "name": "python3"
  },
  "language_info": {
   "codemirror_mode": {
    "name": "ipython",
    "version": 3
   },
   "file_extension": ".py",
   "mimetype": "text/x-python",
   "name": "python",
   "nbconvert_exporter": "python",
   "pygments_lexer": "ipython3",
   "version": "3.9.7"
  },
  "varInspector": {
   "cols": {
    "lenName": 16,
    "lenType": 16,
    "lenVar": 40
   },
   "kernels_config": {
    "python": {
     "delete_cmd_postfix": "",
     "delete_cmd_prefix": "del ",
     "library": "var_list.py",
     "varRefreshCmd": "print(var_dic_list())"
    },
    "r": {
     "delete_cmd_postfix": ") ",
     "delete_cmd_prefix": "rm(",
     "library": "var_list.r",
     "varRefreshCmd": "cat(var_dic_list()) "
    }
   },
   "types_to_exclude": [
    "module",
    "function",
    "builtin_function_or_method",
    "instance",
    "_Feature"
   ],
   "window_display": false
  }
 },
 "nbformat": 4,
 "nbformat_minor": 5
}
