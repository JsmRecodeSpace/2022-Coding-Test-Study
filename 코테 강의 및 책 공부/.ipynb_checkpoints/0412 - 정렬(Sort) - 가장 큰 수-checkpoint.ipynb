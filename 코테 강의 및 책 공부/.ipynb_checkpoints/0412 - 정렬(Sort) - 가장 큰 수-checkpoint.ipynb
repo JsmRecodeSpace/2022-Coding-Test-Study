{
 "cells": [
  {
   "cell_type": "markdown",
   "id": "5eff8145",
   "metadata": {},
   "source": [
    "# 정렬(Sort)"
   ]
  },
  {
   "cell_type": "markdown",
   "id": "539e35c0",
   "metadata": {},
   "source": [
    "## <font color = blue> **정렬 포인트** \n",
    " - 문제를 파악하고 어떻게 정렬해야 하는지 감 잡고 접근\n",
    " - 접근하다 보면 어떠한 점에 있어서 정렬이 '어떻게 해야하지' 하는 부분이 있을 것임\n",
    " - 이 부분에 대한 정렬 아이디어(기준)를 내세워서 정렬에 적용해야함\n",
    "     - 정렬을 할 때는 sort나 sorted에 내가 원하는 조건으로 정렬 시킬 수 있는 key와 lambda의 조합으로 정렬 시킬 수 있음\n",
    "     - 그리고 제한 사항에 따라 정렬을 어떻게 할지 힌트를 얻을 수 있음\n",
    " - 모두 잘 적용이 되었는데, 테스트케이스에서 불통과 하는 것이 있다면 0 같이 놓친 케이스가 있는 것\n"
   ]
  },
  {
   "cell_type": "markdown",
   "id": "8bf05ec0",
   "metadata": {},
   "source": [
    "#### 1. 가장 큰 수"
   ]
  },
  {
   "cell_type": "markdown",
   "id": "a144abe7",
   "metadata": {},
   "source": [
    "#### 문제의 해결 방법\n",
    " (1) 빈 문자열로 수를 초기화한다.  \n",
    " (2) 가장 크게 만들 수 있는 수를 고른다.  \n",
    " (3) 그 수를 현재 수에 이어 붙인다.  \n",
    " (4) 모든 수를 다 사용할 때까지 반복한다.  \n",
    "\n",
    "#### (조금 나은) 문제의 해결 방법\n",
    " (1) 빈 문자열로 수를 초기화한다.   \n",
    " (2) 수의 목록을 (크게 만드는 것 우선으로) 정렬한다  \n",
    " (3) 목록에서 하나씩 꺼내어 현재 수에 이어 붙인다  \n",
    " (4) 모든 수를 다 사용할 때까지 반복한다.  \n",
    "\n",
    "\"크게 만드는 수\"의 기준\n",
    "\n",
    "알고리즘 설계 -> 구현\n",
    " - 대소 관계 비교를 위한 기준을 마련\n",
    " - 이것을 이용하여 주어진 배열을 정렬\n",
    " - 정렬된 배열을 이용하여 문자열 표현을 완성"
   ]
  },
  {
   "cell_type": "code",
   "execution_count": 1,
   "id": "b622ec75",
   "metadata": {
    "ExecuteTime": {
     "end_time": "2022-04-12T06:44:02.179081Z",
     "start_time": "2022-04-12T06:44:02.171148Z"
    }
   },
   "outputs": [],
   "source": [
    "def solution(numbers):\n",
    "    numbers = [str(num) for num in numbers]\n",
    "    numbers.sort(key=lambda num : (num*4)[:4], reverse=True)\n",
    "    if numbers[0] == '0':\n",
    "        return '0'\n",
    "    else:\n",
    "        return ''.join(numbers)"
   ]
  }
 ],
 "metadata": {
  "hide_input": false,
  "kernelspec": {
   "display_name": "Python 3 (ipykernel)",
   "language": "python",
   "name": "python3"
  },
  "language_info": {
   "codemirror_mode": {
    "name": "ipython",
    "version": 3
   },
   "file_extension": ".py",
   "mimetype": "text/x-python",
   "name": "python",
   "nbconvert_exporter": "python",
   "pygments_lexer": "ipython3",
   "version": "3.9.7"
  },
  "varInspector": {
   "cols": {
    "lenName": 16,
    "lenType": 16,
    "lenVar": 40
   },
   "kernels_config": {
    "python": {
     "delete_cmd_postfix": "",
     "delete_cmd_prefix": "del ",
     "library": "var_list.py",
     "varRefreshCmd": "print(var_dic_list())"
    },
    "r": {
     "delete_cmd_postfix": ") ",
     "delete_cmd_prefix": "rm(",
     "library": "var_list.r",
     "varRefreshCmd": "cat(var_dic_list()) "
    }
   },
   "types_to_exclude": [
    "module",
    "function",
    "builtin_function_or_method",
    "instance",
    "_Feature"
   ],
   "window_display": false
  }
 },
 "nbformat": 4,
 "nbformat_minor": 5
}
