{
 "cells": [
  {
   "cell_type": "markdown",
   "id": "905a23a4",
   "metadata": {},
   "source": [
    "#### 플로이드"
   ]
  },
  {
   "cell_type": "code",
   "execution_count": null,
   "id": "2220420f",
   "metadata": {},
   "outputs": [],
   "source": [
    "n = int(input())\n",
    "m = int(input())\n",
    "\n",
    "INF = 1e9\n",
    "graph = [[INF] * (n+1) for i in range(n+1)]\n",
    "for i in range(n+1):\n",
    "  for j in range(n+1):\n",
    "    if i == j:\n",
    "      graph[i][j] = 0\n",
    "\n",
    "for i in range(m):\n",
    "  a, b, c = map(int, input().split())\n",
    "  if c < graph[a][b]: # 가장 짧은 간선 정보만 저장\n",
    "    graph[a][b] = c\n",
    "\n",
    "    \n",
    "for k in range(n+1):\n",
    "  for a in range(n+1):\n",
    "    for b in range(n+1):\n",
    "      graph[a][b] = min(graph[a][b], graph[a][k] + graph[k][b])\n",
    "\n",
    "\n",
    "for i in range(1, n+1):\n",
    "  for j in range(1, n+1):\n",
    "    print(graph[i][j], end=' ')\n",
    "  print()"
   ]
  },
  {
   "cell_type": "markdown",
   "id": "5779dea2",
   "metadata": {},
   "source": [
    "#### 정확한 순위"
   ]
  },
  {
   "cell_type": "code",
   "execution_count": null,
   "id": "33797ede",
   "metadata": {},
   "outputs": [],
   "source": [
    "n, m = map(int, input().split())\n",
    "\n",
    "INF = 1e9\n",
    "graph = [[INF] * (n+1) for _ in range(n+1)]\n",
    "\n",
    "for i in range(1, n+1):\n",
    "  for j in range(1, n+1):\n",
    "    if i == j:\n",
    "      graph[i][j] = 0\n",
    "\n",
    "for i in range(m):\n",
    "  a, b = map(int, input().split())\n",
    "  graph[a][b] = 1\n",
    "\n",
    "for k in range(n+1):\n",
    "  for a in range(n+1):\n",
    "    for b in range(n+1):\n",
    "      graph[a][b] = min(graph[a][b], graph[a][k] + graph[k][b])\n",
    "\n",
    "result = 0\n",
    "for i in range(1, n+1):\n",
    "  count = 0\n",
    "  for j in range(1, n+1):\n",
    "    if graph[i][j] != INF or graph[j][i] != INF:\n",
    "      count += 1\n",
    "  if count == n:\n",
    "    result += 1\n",
    "\n",
    "print(result)"
   ]
  },
  {
   "cell_type": "markdown",
   "id": "26d92570",
   "metadata": {},
   "source": [
    "#### 여행 계획"
   ]
  },
  {
   "cell_type": "code",
   "execution_count": null,
   "id": "55dab7b2",
   "metadata": {},
   "outputs": [],
   "source": [
    "# 특정 원소가 속한 집합을 찾기\n",
    "def find_parent(parent, x):\n",
    "  # 루트 노드가 아니라면, 루트 노드를 찾을 때까지 재귀적으로 호출\n",
    "  if parent[x] != x:\n",
    "    parent[x] = find_parent(parent, parent[x])\n",
    "  return parent[x]\n",
    "\n",
    "# 두 원소가 속한 집합을 찾기\n",
    "def union_parent(parent, a, b):\n",
    "  a = find_parent(parent, a)\n",
    "  b = find_parent(parent, b)\n",
    "  if a < b:\n",
    "    parent[b] = a\n",
    "  else:\n",
    "    parent[a] = b\n",
    "\n",
    "# 여행지의 개수와 여행 계획에 속한 여행지의 개수 입력받기\n",
    "n, m = map(int, input().split())\n",
    "parent = [0] * (n + 1) # 부모 테이블 초기화\n",
    "\n",
    "# union 연산을 각각 수행\n",
    "for i in range(n):\n",
    "  data = list(map(int, input().split()))\n",
    "  for j in range(n):\n",
    "    if data[j] == 1: # 연결된 경우 union 연산 수행\n",
    "      union_parent(parent, i + 1, j + 1)\n",
    "\n",
    "# 여행 계획 입력받기\n",
    "plan = list(map(int, input().split()))\n",
    "\n",
    "result = True\n",
    "# 여행 계획에 속하는 모든 노드의 루트가 동일한지 확인\n",
    "for i in range(m - 1):\n",
    "  if find_parent(parent, plan[i]) != find_parent(parent, plan[i + 1]):\n",
    "    result = False\n",
    "\n",
    "# 여행 계획에 속하는 모든 노드가 서로 연결되어 있는지 확인(루트가 동일한지)\n",
    "if result:\n",
    "  print('yes')\n",
    "else:\n",
    "  print('no')"
   ]
  }
 ],
 "metadata": {
  "hide_input": false,
  "kernelspec": {
   "display_name": "Python 3 (ipykernel)",
   "language": "python",
   "name": "python3"
  },
  "language_info": {
   "codemirror_mode": {
    "name": "ipython",
    "version": 3
   },
   "file_extension": ".py",
   "mimetype": "text/x-python",
   "name": "python",
   "nbconvert_exporter": "python",
   "pygments_lexer": "ipython3",
   "version": "3.9.7"
  },
  "varInspector": {
   "cols": {
    "lenName": 16,
    "lenType": 16,
    "lenVar": 40
   },
   "kernels_config": {
    "python": {
     "delete_cmd_postfix": "",
     "delete_cmd_prefix": "del ",
     "library": "var_list.py",
     "varRefreshCmd": "print(var_dic_list())"
    },
    "r": {
     "delete_cmd_postfix": ") ",
     "delete_cmd_prefix": "rm(",
     "library": "var_list.r",
     "varRefreshCmd": "cat(var_dic_list()) "
    }
   },
   "types_to_exclude": [
    "module",
    "function",
    "builtin_function_or_method",
    "instance",
    "_Feature"
   ],
   "window_display": false
  }
 },
 "nbformat": 4,
 "nbformat_minor": 5
}
