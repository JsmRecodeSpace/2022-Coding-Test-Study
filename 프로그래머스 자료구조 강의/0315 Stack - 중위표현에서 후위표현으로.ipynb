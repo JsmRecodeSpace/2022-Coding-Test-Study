{
 "cells": [
  {
   "cell_type": "code",
   "execution_count": 1,
   "id": "279d51ac",
   "metadata": {
    "ExecuteTime": {
     "end_time": "2022-03-15T06:54:32.116149Z",
     "start_time": "2022-03-15T06:54:32.094077Z"
    }
   },
   "outputs": [],
   "source": [
    "class ArrayStack:\n",
    "\n",
    "    def __init__(self):\n",
    "        self.data = []\n",
    "\n",
    "    def size(self):\n",
    "        return len(self.data)\n",
    "\n",
    "    def isEmpty(self):\n",
    "        return self.size() == 0\n",
    "\n",
    "    def push(self, item):\n",
    "        self.data.append(item)\n",
    "\n",
    "    def pop(self):\n",
    "        return self.data.pop()\n",
    "\n",
    "    def peek(self):\n",
    "        return self.data[-1]\n",
    "\n",
    "prec = {\n",
    "    '*': 3, '/': 3,\n",
    "    '+': 2, '-': 2,\n",
    "    '(': 1\n",
    "}\n",
    "\n",
    "def solution(S):\n",
    "    opStack = ArrayStack()\n",
    "    answer = []\n",
    "    \n",
    "    for str_ in S:\n",
    "        # 괄호인 경우\n",
    "        if str_ == '(':\n",
    "            opStack.push(str_)\n",
    "        # 사칙연산 중의 하나인 경우\n",
    "        elif str_ in prec:\n",
    "            # 스택이 비었을 때\n",
    "            if opStack.isEmpty():\n",
    "                opStack.push(str_)\n",
    "            # 스택이 비어있지 않아 비교를 해야 할 때\n",
    "            else:\n",
    "                # 맨 위에 것보다 지금 들어온게 값이 더 클 때\n",
    "                if prec[opStack.peek()] < prec[str_]:                   \n",
    "                    opStack.push(str_)\n",
    "                else: # 맨위에 것보다 지금 들어온게 값이 작거나 같을 때\n",
    "                    for i in range(opStack.size()):\n",
    "                        pop_ = opStack.pop()\n",
    "                        if pop_ == '(':\n",
    "                            break\n",
    "                        else:\n",
    "                            answer.append(pop_)\n",
    "                    # 스택이 빈 후 추가 됨\n",
    "                    opStack.push(str_)\n",
    "        # ')'괄호를 만났을 때\n",
    "        elif str_ == ')':\n",
    "            for i in range(opStack.size()):\n",
    "                pop_ = opStack.pop()\n",
    "                if pop_ == '(':\n",
    "                    break\n",
    "                else:\n",
    "                    answer.append(pop_)\n",
    "        # 문자일때\n",
    "        else:\n",
    "            answer.append(str_)\n",
    "    \n",
    "    # 문자 끝 까지 돌고 나서 스택을 비워야 함\n",
    "    while not opStack.isEmpty():\n",
    "        pop_ = opStack.pop()\n",
    "        if pop_ == '(':\n",
    "            continue\n",
    "        else:\n",
    "            answer.append(pop_)\n",
    "    \n",
    "    link_answer = ''.join(answer)\n",
    "    \n",
    "    return link_answer"
   ]
  }
 ],
 "metadata": {
  "hide_input": false,
  "kernelspec": {
   "display_name": "Python 3 (ipykernel)",
   "language": "python",
   "name": "python3"
  },
  "language_info": {
   "codemirror_mode": {
    "name": "ipython",
    "version": 3
   },
   "file_extension": ".py",
   "mimetype": "text/x-python",
   "name": "python",
   "nbconvert_exporter": "python",
   "pygments_lexer": "ipython3",
   "version": "3.9.7"
  },
  "varInspector": {
   "cols": {
    "lenName": 16,
    "lenType": 16,
    "lenVar": 40
   },
   "kernels_config": {
    "python": {
     "delete_cmd_postfix": "",
     "delete_cmd_prefix": "del ",
     "library": "var_list.py",
     "varRefreshCmd": "print(var_dic_list())"
    },
    "r": {
     "delete_cmd_postfix": ") ",
     "delete_cmd_prefix": "rm(",
     "library": "var_list.r",
     "varRefreshCmd": "cat(var_dic_list()) "
    }
   },
   "types_to_exclude": [
    "module",
    "function",
    "builtin_function_or_method",
    "instance",
    "_Feature"
   ],
   "window_display": false
  }
 },
 "nbformat": 4,
 "nbformat_minor": 5
}
