{
 "cells": [
  {
   "cell_type": "markdown",
   "id": "8a212892",
   "metadata": {},
   "source": [
    "# 동적계획법 (Dynamic Programming)\n",
    " - 주어진 최적화 문제를 재귀적인 방식으로 보다 작은 부분 문제로 나누어 부분 문제를 풀어,\n",
    "   이 해를 조합하여 전체 문제의 해답에 이르는 방식\n",
    "\n",
    " - 알고리즘의 진행에 따라 \"탐색해야 할 범위를 동적으로 결정\"함으로써 탐색 범위를 한정할 수 있음\n",
    "\n",
    "\n",
    "#### 동적계획법 (Dynamic Programming)의 적용 예\n",
    " - 피보나치 수열 -> 재귀함수\n",
    " - 피보나치 수열 -> 동적계획법을 적용한다면?\n",
    "\n",
    " - Knapsack Problem: 가장 높은 값을 가지도록 물건들을 골라 배낭에 담으시오.\n",
    "\n",
    "#### 문제의 해결 - 동적계획법으로 설계\n",
    " - N을 한 번 사용해서 만들 수 있는 수(들)\n",
    "...\n",
    " - 일반화 N = x\n",
    "\n",
    "\n",
    "#### 요약\n",
    " - 문제의 성질에 따라,\n",
    "   동적계획법으로 풀어냄으로써\n",
    "   탐색해야 하는 범위를 효과적으로 줄일 수 있음"
   ]
  },
  {
   "cell_type": "markdown",
   "id": "a1e9d0f9",
   "metadata": {},
   "source": [
    "#### 1. N으로 표현"
   ]
  },
  {
   "cell_type": "code",
   "execution_count": 1,
   "id": "7982124e",
   "metadata": {
    "ExecuteTime": {
     "end_time": "2022-04-13T03:44:04.250841Z",
     "start_time": "2022-04-13T03:44:04.236878Z"
    }
   },
   "outputs": [],
   "source": [
    "def solution(N, number):\n",
    "    s = [set() for x in range(8)]\n",
    "    for i, x in enumerate(s, start=1):\n",
    "        x.add(int(str(N) * i))\n",
    "    for i in range(len(s)):\n",
    "        for j in range(i):\n",
    "            for op1 in s[j]:\n",
    "                for op2 in s[i - j - 1]:\n",
    "                    s[i].add(op1 + op2)\n",
    "                    s[i].add(op1 - op2)\n",
    "                    s[i].add(op1 * op2)\n",
    "                    if op2 != 0:\n",
    "                        s[i].add(op1 // op2)\n",
    "        if number in s[i]:\n",
    "            answer = i + 1\n",
    "            break\n",
    "    else:\n",
    "        answer = -1\n",
    "    \n",
    "    return answer"
   ]
  }
 ],
 "metadata": {
  "hide_input": false,
  "kernelspec": {
   "display_name": "Python 3 (ipykernel)",
   "language": "python",
   "name": "python3"
  },
  "language_info": {
   "codemirror_mode": {
    "name": "ipython",
    "version": 3
   },
   "file_extension": ".py",
   "mimetype": "text/x-python",
   "name": "python",
   "nbconvert_exporter": "python",
   "pygments_lexer": "ipython3",
   "version": "3.9.7"
  },
  "varInspector": {
   "cols": {
    "lenName": 16,
    "lenType": 16,
    "lenVar": 40
   },
   "kernels_config": {
    "python": {
     "delete_cmd_postfix": "",
     "delete_cmd_prefix": "del ",
     "library": "var_list.py",
     "varRefreshCmd": "print(var_dic_list())"
    },
    "r": {
     "delete_cmd_postfix": ") ",
     "delete_cmd_prefix": "rm(",
     "library": "var_list.r",
     "varRefreshCmd": "cat(var_dic_list()) "
    }
   },
   "types_to_exclude": [
    "module",
    "function",
    "builtin_function_or_method",
    "instance",
    "_Feature"
   ],
   "window_display": false
  }
 },
 "nbformat": 4,
 "nbformat_minor": 5
}
