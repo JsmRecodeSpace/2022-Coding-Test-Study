{
 "cells": [
  {
   "cell_type": "markdown",
   "id": "7cb87218",
   "metadata": {},
   "source": [
    "## 탐욕법 (Greedy Algorithm)\n",
    " - 알고리즘의 각 단계에서 그 순간에 최적이라고 생각되는 것을 선택\n",
    " - 탐욕법으로 최적해를 찾을 수 있는 문제: 현재의 선택이 마지막 해답의 최적성을 해치지 않을 때"
   ]
  },
  {
   "cell_type": "markdown",
   "id": "de3f20cb",
   "metadata": {
    "ExecuteTime": {
     "end_time": "2022-04-12T06:38:45.601367Z",
     "start_time": "2022-04-12T06:38:45.580389Z"
    }
   },
   "source": [
    "    \n",
    "### <font color = blue> **그리디 포인트** \n",
    "\n",
    "\n",
    " - 손으로 직접 예제를 노트에 그려보며 어떻게 풀어나갈지 감을 잡는다\n",
    "    - 예제가 만들어지는 과정을 천천히 직접 손으로 따라가며 진행\n",
    "    - 진행되는바에 따른 프로세스를 명확하게 이해하고 규칙을 생각하여 코드로 구현할 생각 \n",
    "    - 반복문 / 코드문 내부에 어떻게 어떠한 규칙이 작동할지를 예제를 통해서 잘 이해하고 작성\n",
    "   \n",
    "    \n",
    " - 풀면서 문제의 예시에 적용해 나간 것들을 코드로 옮김\n",
    "    - 맨 처음 혹은 맨 끝에 경우에 있어서 또 다른 경우의 수를 생각해 주어야 하는 경우  \n",
    "        -> 효율과 편의성 있는 코딩을 위해서 사용하지 않는 1을 양 끝에 넣을 수 있음\n",
    "    - 문제를 규칙에 따라 순서대로 적용해 나가며 풀수도 있지만 이해하고 다르게 풀 수도 있음  \n",
    "        -> 순서대로 경우의 수 카운트하는 대신 전체를 모두 세고 예외되는 것만 카운트하여 빼는 방식  \n",
    "        -> 문제의 요구사항을 명확히 파악하고 더 나은 아이디어를 적용해서 푸는 것  \n",
    "    \n",
    "    \n",
    " "
   ]
  },
  {
   "cell_type": "markdown",
   "id": "7dc148e4",
   "metadata": {},
   "source": [
    "### 1. 체육복"
   ]
  },
  {
   "cell_type": "markdown",
   "id": "e9a7dc6e",
   "metadata": {},
   "source": [
    "#### 탐욕법 적용 가능성 확인\n",
    " - 빌려줄 학생들을 \"정해진 순서\"로 살펴야 하고, 이 \"정해진 순서\"에 따라 우선하여 빌려줄 방향을 정해야 함\n",
    "\n",
    "\n",
    "\n",
    "#### 문제의 해결 - 방법(1)\n",
    " - (착안점) 학생의 수는 기껏해야 30!\n",
    " - 학생 수만큼 배열을 확보하고, 여기에 각자가 가지고 있는 체육복의 수를 기록한다.\n",
    "   -> 번호 순서대로 \"스캔\"하면서 빌려줄 **관계**를 정한다.\n",
    "\n",
    "#### 알고리즘 복잡도(1)\n",
    " - 여벌을 가져온 학생 처리: reserve의 길이에 비례\n",
    " - 체육복을 잃어버린 학생 처리: lost의 길이에 비례\n",
    " - 체육복을 빌려주기 처리: 전체 학생 수 (n)에 비례\n",
    "   -> O(n)"
   ]
  },
  {
   "cell_type": "code",
   "execution_count": null,
   "id": "c7a5a811",
   "metadata": {},
   "outputs": [],
   "source": [
    "def solution(n, lost, reserve):\n",
    "    # 풀이1    \n",
    "    uniforms = [1] * (n + 2)\n",
    "    for x in reserve:\n",
    "        uniforms[x] += 1\n",
    "    for x in lost:\n",
    "        uniforms[x] -= 1\n",
    "    for i in range(1, n+1):\n",
    "        if uniforms[i - 1] == 0 and uniforms[i] == 2:\n",
    "            uniforms[i - 1:i + 1] = [1, 1]\n",
    "        elif uniforms[i] == 2 and uniforms[i + 1] == 0:\n",
    "            uniforms[i : i + 2] = [1, 1]   \n",
    "    \n",
    "    return len([i for i in uniforms[1:n+1] if i > 0])"
   ]
  },
  {
   "cell_type": "markdown",
   "id": "dbe39ca5",
   "metadata": {},
   "source": [
    "#### 문제의 해결 - 방법(2)\n",
    " - 만약 전체 학생 수가 매우 크다면?\n",
    " - 하지만 문제의 성질상 O(n)보다 낮은 복잡도 알고리즘은 어려울 듯?\n",
    " - 그런데 여벌의 체육복을 가져온 학생은 매우 적다면?  \n",
    "    -> 여벌의 체육복을 가져온 학생들의 번호(reserve)를 정렬하고, 이것을 하나 하나 순서대로 살펴보면서 빌려줄 수 있는 다른 학생을 찾아서 처리한다! \n",
    "    \n",
    "    -> 해시를 적용해서 상수 시간에 처리!\n",
    "\n",
    "알고리즘의 복잡도\n",
    " - 여벌의 체육복을 가져온 학생들의 번호 (reverve)를 정렬\n",
    "  -> O(klogk)\n",
    " - 체육복을 빌려줄 수 있는 학생을 찾아 처리\n",
    "  -> O(k) x O(1)\n",
    " - 전체 알고리즘의 시간 복잡도\n",
    "  -> O(klogk)"
   ]
  },
  {
   "cell_type": "code",
   "execution_count": null,
   "id": "6974af6f",
   "metadata": {},
   "outputs": [],
   "source": [
    "def solution(n, lost, reserve):\n",
    "    # 풀이2\n",
    "    stolen_but_have = set(lost) & set(reserve)\n",
    "    stolen_not_have = set(lost) - stolen_but_have\n",
    "    have_reserve = set(reserve) - stolen_but_have\n",
    "    \n",
    "    for num in sorted(have_reserve):\n",
    "        if (num - 1) in stolen_not_have:\n",
    "            stolen_not_have.remove(num - 1)\n",
    "        elif (num + 1) in stolen_not_have:\n",
    "            stolen_not_have.remove(num + 1)\n",
    "    \n",
    "    return n - len(stolen_not_have)"
   ]
  },
  {
   "cell_type": "markdown",
   "id": "f605a0bd",
   "metadata": {},
   "source": [
    "### 2. 큰 수 만들기"
   ]
  },
  {
   "cell_type": "markdown",
   "id": "4140500b",
   "metadata": {},
   "source": [
    "1. 큰 수 만들기 - 원칙\n",
    " - 앞 자리에 큰 수가 오는 것이 전체를 크게 만든다\n",
    "     - 따라서, 큰 것을 우선해서 골라 담고 싶다\n",
    "\n",
    "2. 큰 수 만들기 - 방법\n",
    " - 앞 자리에서부터 하나씩 골라서 담되,\n",
    "     -지금 담으려는 것보다 작은 것들은 도로 뺀다!\n",
    " - 단, 뺄 수 있는 수효에 도달할 때까지만  \n",
    "이는 다음과 같다.\n",
    " - 큰 수가 앞 자리에, 작은 수가 뒷 자리에 놓이도록  \n",
    "  (제약조건) 뺄 수 있는 개수 k 개\n",
    "\n",
    "\n",
    "3. 알고리즘 설계 -> 구현\n",
    " - 주어진 숫자(number)로부터 하나씩 꺼내어 모으되\n",
    "   - 이 때, 이미 모아둔 것 중 지금 등장한 것보다 작은 것들은 빼낸다.\n",
    " - 이것은 어디서 어떻게 살펴보아야?\n",
    " - 이렇게 모은 숫자들은 자리숫 맞추어 반환한다.\n",
    "   - 아직 뺄 개수 (k)를 채우지 못한 경우\n",
    "   - 자릿수는 어떻게 계산하는가?\n",
    "\n",
    "\n",
    "4. 알고리즘의 복잡도\n",
    " - 가장 단순(무식?)한 방법은 어떤 것일까?\n",
    " - 우리가 설계한 알고리즘의 복잡도는?\n",
    "\n",
    "\n",
    "5. 탐욕법 (Greedy Approach)\n",
    "**탐욕법이 통할 수 있는 이유** - 앞 단계에서의 선택 (앞 자리에 큰수!)이 이후 단계에서의 동작에 의한 해(solution)의 최적성(optimality)에 영향을 주지 않음"
   ]
  },
  {
   "cell_type": "code",
   "execution_count": 1,
   "id": "c8f08288",
   "metadata": {
    "ExecuteTime": {
     "end_time": "2022-04-12T06:38:41.273119Z",
     "start_time": "2022-04-12T06:38:41.265138Z"
    }
   },
   "outputs": [],
   "source": [
    "def solution(number, k):\n",
    "    collected = [ ]\n",
    "    for i, num in enumerate(number):\n",
    "        while len(collected) > 0 and collected[-1] < num and k > 0:\n",
    "            collected.pop()\n",
    "            k -= 1\n",
    "        if k == 0:\n",
    "            collected += list(number[i:])\n",
    "            break\n",
    "        collected.append(num)\n",
    "\n",
    "    collected = collected[:-k] if k > 0 else collected\n",
    "    answer = ''.join(collected)\n",
    "    return answer"
   ]
  }
 ],
 "metadata": {
  "hide_input": false,
  "kernelspec": {
   "display_name": "Python 3 (ipykernel)",
   "language": "python",
   "name": "python3"
  },
  "language_info": {
   "codemirror_mode": {
    "name": "ipython",
    "version": 3
   },
   "file_extension": ".py",
   "mimetype": "text/x-python",
   "name": "python",
   "nbconvert_exporter": "python",
   "pygments_lexer": "ipython3",
   "version": "3.9.7"
  },
  "varInspector": {
   "cols": {
    "lenName": 16,
    "lenType": 16,
    "lenVar": 40
   },
   "kernels_config": {
    "python": {
     "delete_cmd_postfix": "",
     "delete_cmd_prefix": "del ",
     "library": "var_list.py",
     "varRefreshCmd": "print(var_dic_list())"
    },
    "r": {
     "delete_cmd_postfix": ") ",
     "delete_cmd_prefix": "rm(",
     "library": "var_list.r",
     "varRefreshCmd": "cat(var_dic_list()) "
    }
   },
   "types_to_exclude": [
    "module",
    "function",
    "builtin_function_or_method",
    "instance",
    "_Feature"
   ],
   "window_display": false
  }
 },
 "nbformat": 4,
 "nbformat_minor": 5
}
