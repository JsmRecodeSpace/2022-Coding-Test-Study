{
 "cells": [
  {
   "cell_type": "markdown",
   "id": "a427181b",
   "metadata": {},
   "source": [
    "# 힙(Heap)"
   ]
  },
  {
   "cell_type": "markdown",
   "id": "930a5803",
   "metadata": {},
   "source": [
    "## <font color = blue> **힙 포인트** \n",
    " - 최대, 최소의 것을 특정 규칙과 함께 다루는 문제\n",
    " - 데이터 원소들 사이에서 최소 (또는 최대)의 것을 빠르게 골라 낼 수 있으며\n",
    " - 원소들의 추가/삭제 또한 효율적으로 이루어질 수 있어야 함\n",
    " - 반복작업에 있어서 지속적으로 효율적인 정렬이 필요한 경우\n",
    "\n",
    "\n",
    "### heapq 모듈\n",
    "https://www.daleseo.com/python-heapq/  \n",
    " - 이진 트리(binary tree)기반의 최소 힙(min heap) 자료구조를 제공\n",
    " - 보통 리스트를 마치 힙처럼 다룰 수 있도록 도와줌\n",
    " - min heap을 사용하면 원소들이 항상 정렬된 상태로 추가되고 삭제되며, min heap에서 가장 작은 값은 언제나 인덱스 0, 즉, 이진 트리의 루트에 위치함.\n",
    " - 내부적으로 min heap 내의 원소(k)는 항상 자식 원소들(2k+1, 2k+2)보다 크기가 작거나 같도록 원소가 추가되고 삭제됨.\n",
    "\n",
    "    \n",
    "#### python에서 힙 적용\n",
    " - import heapq # priority queue의 성질을 가지고 있어서 q가 붙음\n",
    " - heapq.heapify(L) # 리스트 L로부터 min heap 구성\n",
    " - m = heapq.heappop(L) # min heap L에서 최소값 삭제 (반환)\n",
    " - heapq.heappush(L, x) # min heap L에 원소 x 삽입\n",
    " - heap[0] # 힙에서 최소값을 삭제하지 않고 접근\n",
    " - 주의사항: 인덱스 0에 가장 작은 원소가 있다고 해서, 인덱스 1에 두번째 작은 원소, 인덱스 2에 세번째 작은 원소가 있다는 보장은 없음. heappop() 함수를 호출하여 원소를 삭제할 때마다 이진 트리의 재배치를 통해 매번 새로운 최소값을 인덱스0에 위치시키기 때문 따라서 두번째 작은 원소를 얻으려면 바로 heap[1]으로 접근하면 안되고, 반드시 heappop()을 통해 가장 작은 원소를 삭제 후에 heap[0]를 통해 새로운 최소값에 접근해야 함.\n",
    "    \n",
    "    \n",
    "#### 최대 힙\n",
    "https://www.daleseo.com/python-heapq/\n",
    " - heapq는 최소 힙(min heap)을 기능만으로 동작하기 때문에 최대 힙(max heap)으로 활용하기 위해서는 약간의 요령이 필요함\n",
    " - 바로 힙에 튜플(tuple)를 원소로 추가하거나 삭제하면, 튜플내에서 맨 앞에 있는 값을 기준으로 최소 힙의 구성되는 원리를 이용하는 것\n",
    " - 따라서 최대 힙을 만들려면 각 값에 대한 우선 순위를 구한 후, (우선 순위, 값) 구조의 튜플(tuple)을 힙에 추가하거나 삭제하면 됨.\n",
    " - 그리고 힙에서 값을 읽어올 때는 각 튜플에서 인덱스 1에 있는 값을 취하면 됨. (우선 순위에는 관심이 없으므로)\n",
    "\n",
    "```python\n",
    "import heapq\n",
    "\n",
    "nums = [4, 1, 7, 3, 8, 5]\n",
    "heap = []\n",
    "\n",
    "for num in nums:\n",
    "  heapq.heappush(heap, (-num, num))  # (우선 순위, 값)\n",
    "\n",
    "while heap:\n",
    "  print(heapq.heappop(heap)[1])  # index 1\n",
    "```"
   ]
  },
  {
   "cell_type": "markdown",
   "id": "28a69e02",
   "metadata": {},
   "source": [
    "#### 알고리즘의 복잡도\n",
    " - 최악의 경우: 수가 하나 남을 때까지 섞어야 하는 경우 (n - 1)회\n",
    " - 각 단계 \"섞는 일\"에서 요구되는 계산량: 정렬된 리스트에 순서 맞추어 원소 삽입, O(n)\n",
    " - 전체 문제풀이의 복잡도: O(n^2), 지니치게 높다.\n",
    " - 보다 더 나은 방법은 없을까?\n",
    "\n",
    "#### 보다 나은 방법\n",
    "최소/최대 원소를 빠르게 꺼낼 수 있으면 좋겠는데!\n",
    " - 힙(heap)\n",
    "    - max heap: 최대 원소를 빠르게 꺼낼 수 있음\n",
    "    - min heap: 최소 원소를 빠르게 꺼낼 수 있음\n",
    "\n",
    "##### 힙(Heaps)\n",
    " - 성질: 최대/최소 원소를 빠르게 찾을 수 있음\n",
    " - 연산\n",
    "    - 힙 구성 (heapify) -> O(NlogN)\n",
    "    - 삽입 (insert) -> O(logN)\n",
    "    - 삭제 (remove) -> O(logN)\n",
    "\n",
    "\n",
    "#### 힙의 구현\n",
    " - 완전 이진 트리 (complete binary tree)\n",
    "    -> 배열을 이용해서 구현 가능\n",
    "\n",
    "#### 힙의 응용\n",
    " - 정렬 (heapsort)\n",
    " - 우선 선위 큐 (priority queue)"
   ]
  },
  {
   "cell_type": "markdown",
   "id": "25fbb2a0",
   "metadata": {},
   "source": [
    "#### 1. 더 맵게"
   ]
  },
  {
   "cell_type": "code",
   "execution_count": 1,
   "id": "7e7958a6",
   "metadata": {
    "ExecuteTime": {
     "end_time": "2022-04-13T03:42:12.206586Z",
     "start_time": "2022-04-13T03:42:12.184670Z"
    }
   },
   "outputs": [],
   "source": [
    "import heapq\n",
    "\n",
    "def solution(scoville, K):\n",
    "    answer = 0\n",
    "    heapq.heapify(scoville)\n",
    "    while True:\n",
    "        min1 = heapq.heappop(scoville)\n",
    "        if min1 >= K:\n",
    "            break\n",
    "        elif len(scoville) == 0:\n",
    "            answer = -1\n",
    "            break\n",
    "        min2 = heapq.heappop(scoville)\n",
    "        new_scoville = min1 + 2 * min2\n",
    "        heapq.heappush(scoville, new_scoville)\n",
    "        answer += 1\n",
    "    \n",
    "    return answer"
   ]
  }
 ],
 "metadata": {
  "hide_input": false,
  "kernelspec": {
   "display_name": "Python 3 (ipykernel)",
   "language": "python",
   "name": "python3"
  },
  "language_info": {
   "codemirror_mode": {
    "name": "ipython",
    "version": 3
   },
   "file_extension": ".py",
   "mimetype": "text/x-python",
   "name": "python",
   "nbconvert_exporter": "python",
   "pygments_lexer": "ipython3",
   "version": "3.9.7"
  },
  "varInspector": {
   "cols": {
    "lenName": 16,
    "lenType": 16,
    "lenVar": 40
   },
   "kernels_config": {
    "python": {
     "delete_cmd_postfix": "",
     "delete_cmd_prefix": "del ",
     "library": "var_list.py",
     "varRefreshCmd": "print(var_dic_list())"
    },
    "r": {
     "delete_cmd_postfix": ") ",
     "delete_cmd_prefix": "rm(",
     "library": "var_list.r",
     "varRefreshCmd": "cat(var_dic_list()) "
    }
   },
   "types_to_exclude": [
    "module",
    "function",
    "builtin_function_or_method",
    "instance",
    "_Feature"
   ],
   "window_display": false
  }
 },
 "nbformat": 4,
 "nbformat_minor": 5
}
